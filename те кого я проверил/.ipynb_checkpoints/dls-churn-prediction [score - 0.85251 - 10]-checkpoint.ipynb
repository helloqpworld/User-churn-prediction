{
 "cells": [
  {
   "cell_type": "markdown",
   "metadata": {
    "id": "IrDNNkNTEEYz"
   },
   "source": [
    "# Accessing Data"
   ]
  },
  {
   "cell_type": "code",
   "execution_count": 1,
   "metadata": {
    "execution": {
     "iopub.execute_input": "2023-04-28T20:08:21.790058Z",
     "iopub.status.busy": "2023-04-28T20:08:21.789617Z",
     "iopub.status.idle": "2023-04-28T20:08:21.803526Z",
     "shell.execute_reply": "2023-04-28T20:08:21.801916Z",
     "shell.execute_reply.started": "2023-04-28T20:08:21.790019Z"
    },
    "id": "lzLqEeZKEEYz"
   },
   "outputs": [],
   "source": [
    "import pandas as pd\n",
    "import numpy as np\n",
    "from matplotlib import pyplot as plt\n",
    "import seaborn as sns\n",
    "\n",
    "sns.set_theme()\n",
    "sns.set_palette('Set2')"
   ]
  },
  {
   "cell_type": "code",
   "execution_count": 3,
   "metadata": {
    "execution": {
     "iopub.execute_input": "2023-04-28T20:08:21.815068Z",
     "iopub.status.busy": "2023-04-28T20:08:21.814651Z",
     "iopub.status.idle": "2023-04-28T20:08:21.858938Z",
     "shell.execute_reply": "2023-04-28T20:08:21.857084Z",
     "shell.execute_reply.started": "2023-04-28T20:08:21.815031Z"
    },
    "id": "pw-Brue9EEY3"
   },
   "outputs": [
    {
     "data": {
      "text/plain": [
       "(5282, 20)"
      ]
     },
     "execution_count": 3,
     "metadata": {},
     "output_type": "execute_result"
    }
   ],
   "source": [
    "data = pd.read_csv('../train.csv')\n",
    "data.shape"
   ]
  },
  {
   "cell_type": "code",
   "execution_count": 4,
   "metadata": {
    "execution": {
     "iopub.execute_input": "2023-04-28T20:08:21.863155Z",
     "iopub.status.busy": "2023-04-28T20:08:21.862471Z",
     "iopub.status.idle": "2023-04-28T20:08:21.871771Z",
     "shell.execute_reply": "2023-04-28T20:08:21.869951Z",
     "shell.execute_reply.started": "2023-04-28T20:08:21.863095Z"
    },
    "id": "KgnkkF5bEEY9"
   },
   "outputs": [],
   "source": [
    "# Для вашего удобства списки с именами разных колонок\n",
    "\n",
    "# Числовые признаки\n",
    "num_cols = [\n",
    "    'ClientPeriod',\n",
    "    'MonthlySpending',\n",
    "    'TotalSpent'\n",
    "]\n",
    "\n",
    "# Категориальные признаки\n",
    "cat_cols = [\n",
    "    'Sex',\n",
    "    'IsSeniorCitizen',\n",
    "    'HasPartner',\n",
    "    'HasChild',\n",
    "    'HasPhoneService',\n",
    "    'HasMultiplePhoneNumbers',\n",
    "    'HasInternetService',\n",
    "    'HasOnlineSecurityService',\n",
    "    'HasOnlineBackup',\n",
    "    'HasDeviceProtection',\n",
    "    'HasTechSupportAccess',\n",
    "    'HasOnlineTV',\n",
    "    'HasMovieSubscription',\n",
    "    'HasContractPhone',\n",
    "    'IsBillingPaperless',\n",
    "    'PaymentMethod'\n",
    "]\n",
    "\n",
    "feature_cols = num_cols + cat_cols\n",
    "target_col = 'Churn'"
   ]
  },
  {
   "cell_type": "code",
   "execution_count": 5,
   "metadata": {
    "execution": {
     "iopub.execute_input": "2023-04-28T20:08:21.874652Z",
     "iopub.status.busy": "2023-04-28T20:08:21.874198Z",
     "iopub.status.idle": "2023-04-28T20:08:21.892083Z",
     "shell.execute_reply": "2023-04-28T20:08:21.891035Z",
     "shell.execute_reply.started": "2023-04-28T20:08:21.874615Z"
    }
   },
   "outputs": [
    {
     "data": {
      "text/plain": [
       "(5282, 20)"
      ]
     },
     "execution_count": 5,
     "metadata": {},
     "output_type": "execute_result"
    }
   ],
   "source": [
    "data.shape"
   ]
  },
  {
   "cell_type": "code",
   "execution_count": 6,
   "metadata": {
    "execution": {
     "iopub.execute_input": "2023-04-28T20:08:21.896422Z",
     "iopub.status.busy": "2023-04-28T20:08:21.895757Z",
     "iopub.status.idle": "2023-04-28T20:08:21.936303Z",
     "shell.execute_reply": "2023-04-28T20:08:21.934769Z",
     "shell.execute_reply.started": "2023-04-28T20:08:21.896379Z"
    }
   },
   "outputs": [
    {
     "data": {
      "text/html": [
       "<div>\n",
       "<style scoped>\n",
       "    .dataframe tbody tr th:only-of-type {\n",
       "        vertical-align: middle;\n",
       "    }\n",
       "\n",
       "    .dataframe tbody tr th {\n",
       "        vertical-align: top;\n",
       "    }\n",
       "\n",
       "    .dataframe thead th {\n",
       "        text-align: right;\n",
       "    }\n",
       "</style>\n",
       "<table border=\"1\" class=\"dataframe\">\n",
       "  <thead>\n",
       "    <tr style=\"text-align: right;\">\n",
       "      <th></th>\n",
       "      <th>ClientPeriod</th>\n",
       "      <th>MonthlySpending</th>\n",
       "      <th>TotalSpent</th>\n",
       "      <th>Sex</th>\n",
       "      <th>IsSeniorCitizen</th>\n",
       "      <th>HasPartner</th>\n",
       "      <th>HasChild</th>\n",
       "      <th>HasPhoneService</th>\n",
       "      <th>HasMultiplePhoneNumbers</th>\n",
       "      <th>HasInternetService</th>\n",
       "      <th>HasOnlineSecurityService</th>\n",
       "      <th>HasOnlineBackup</th>\n",
       "      <th>HasDeviceProtection</th>\n",
       "      <th>HasTechSupportAccess</th>\n",
       "      <th>HasOnlineTV</th>\n",
       "      <th>HasMovieSubscription</th>\n",
       "      <th>HasContractPhone</th>\n",
       "      <th>IsBillingPaperless</th>\n",
       "      <th>PaymentMethod</th>\n",
       "      <th>Churn</th>\n",
       "    </tr>\n",
       "  </thead>\n",
       "  <tbody>\n",
       "    <tr>\n",
       "      <th>3364</th>\n",
       "      <td>64</td>\n",
       "      <td>84.30</td>\n",
       "      <td>5289.05</td>\n",
       "      <td>Male</td>\n",
       "      <td>0</td>\n",
       "      <td>No</td>\n",
       "      <td>No</td>\n",
       "      <td>Yes</td>\n",
       "      <td>Yes</td>\n",
       "      <td>Fiber optic</td>\n",
       "      <td>Yes</td>\n",
       "      <td>Yes</td>\n",
       "      <td>No</td>\n",
       "      <td>No</td>\n",
       "      <td>No</td>\n",
       "      <td>No</td>\n",
       "      <td>One year</td>\n",
       "      <td>Yes</td>\n",
       "      <td>Credit card (automatic)</td>\n",
       "      <td>0</td>\n",
       "    </tr>\n",
       "    <tr>\n",
       "      <th>1012</th>\n",
       "      <td>27</td>\n",
       "      <td>75.50</td>\n",
       "      <td>1893.95</td>\n",
       "      <td>Male</td>\n",
       "      <td>1</td>\n",
       "      <td>Yes</td>\n",
       "      <td>No</td>\n",
       "      <td>Yes</td>\n",
       "      <td>Yes</td>\n",
       "      <td>Fiber optic</td>\n",
       "      <td>No</td>\n",
       "      <td>No</td>\n",
       "      <td>No</td>\n",
       "      <td>No</td>\n",
       "      <td>No</td>\n",
       "      <td>No</td>\n",
       "      <td>Month-to-month</td>\n",
       "      <td>Yes</td>\n",
       "      <td>Electronic check</td>\n",
       "      <td>1</td>\n",
       "    </tr>\n",
       "    <tr>\n",
       "      <th>4057</th>\n",
       "      <td>61</td>\n",
       "      <td>19.40</td>\n",
       "      <td>1182.55</td>\n",
       "      <td>Female</td>\n",
       "      <td>0</td>\n",
       "      <td>Yes</td>\n",
       "      <td>Yes</td>\n",
       "      <td>Yes</td>\n",
       "      <td>No</td>\n",
       "      <td>No</td>\n",
       "      <td>No internet service</td>\n",
       "      <td>No internet service</td>\n",
       "      <td>No internet service</td>\n",
       "      <td>No internet service</td>\n",
       "      <td>No internet service</td>\n",
       "      <td>No internet service</td>\n",
       "      <td>Month-to-month</td>\n",
       "      <td>Yes</td>\n",
       "      <td>Mailed check</td>\n",
       "      <td>1</td>\n",
       "    </tr>\n",
       "    <tr>\n",
       "      <th>1115</th>\n",
       "      <td>55</td>\n",
       "      <td>88.80</td>\n",
       "      <td>4805.3</td>\n",
       "      <td>Female</td>\n",
       "      <td>1</td>\n",
       "      <td>Yes</td>\n",
       "      <td>No</td>\n",
       "      <td>Yes</td>\n",
       "      <td>No</td>\n",
       "      <td>Fiber optic</td>\n",
       "      <td>No</td>\n",
       "      <td>No</td>\n",
       "      <td>Yes</td>\n",
       "      <td>Yes</td>\n",
       "      <td>Yes</td>\n",
       "      <td>No</td>\n",
       "      <td>Two year</td>\n",
       "      <td>No</td>\n",
       "      <td>Credit card (automatic)</td>\n",
       "      <td>0</td>\n",
       "    </tr>\n",
       "    <tr>\n",
       "      <th>2525</th>\n",
       "      <td>27</td>\n",
       "      <td>55.45</td>\n",
       "      <td>1477.65</td>\n",
       "      <td>Male</td>\n",
       "      <td>0</td>\n",
       "      <td>No</td>\n",
       "      <td>No</td>\n",
       "      <td>Yes</td>\n",
       "      <td>No</td>\n",
       "      <td>DSL</td>\n",
       "      <td>Yes</td>\n",
       "      <td>Yes</td>\n",
       "      <td>No</td>\n",
       "      <td>No</td>\n",
       "      <td>No</td>\n",
       "      <td>No</td>\n",
       "      <td>One year</td>\n",
       "      <td>No</td>\n",
       "      <td>Bank transfer (automatic)</td>\n",
       "      <td>0</td>\n",
       "    </tr>\n",
       "    <tr>\n",
       "      <th>1521</th>\n",
       "      <td>3</td>\n",
       "      <td>79.65</td>\n",
       "      <td>251.75</td>\n",
       "      <td>Male</td>\n",
       "      <td>0</td>\n",
       "      <td>Yes</td>\n",
       "      <td>No</td>\n",
       "      <td>Yes</td>\n",
       "      <td>Yes</td>\n",
       "      <td>Fiber optic</td>\n",
       "      <td>No</td>\n",
       "      <td>No</td>\n",
       "      <td>No</td>\n",
       "      <td>Yes</td>\n",
       "      <td>No</td>\n",
       "      <td>No</td>\n",
       "      <td>Month-to-month</td>\n",
       "      <td>Yes</td>\n",
       "      <td>Bank transfer (automatic)</td>\n",
       "      <td>1</td>\n",
       "    </tr>\n",
       "    <tr>\n",
       "      <th>2218</th>\n",
       "      <td>47</td>\n",
       "      <td>106.40</td>\n",
       "      <td>5127.95</td>\n",
       "      <td>Female</td>\n",
       "      <td>0</td>\n",
       "      <td>No</td>\n",
       "      <td>No</td>\n",
       "      <td>Yes</td>\n",
       "      <td>Yes</td>\n",
       "      <td>Fiber optic</td>\n",
       "      <td>No</td>\n",
       "      <td>Yes</td>\n",
       "      <td>Yes</td>\n",
       "      <td>No</td>\n",
       "      <td>Yes</td>\n",
       "      <td>Yes</td>\n",
       "      <td>Month-to-month</td>\n",
       "      <td>Yes</td>\n",
       "      <td>Electronic check</td>\n",
       "      <td>1</td>\n",
       "    </tr>\n",
       "    <tr>\n",
       "      <th>3414</th>\n",
       "      <td>63</td>\n",
       "      <td>19.25</td>\n",
       "      <td>1237.65</td>\n",
       "      <td>Male</td>\n",
       "      <td>0</td>\n",
       "      <td>Yes</td>\n",
       "      <td>No</td>\n",
       "      <td>Yes</td>\n",
       "      <td>No</td>\n",
       "      <td>No</td>\n",
       "      <td>No internet service</td>\n",
       "      <td>No internet service</td>\n",
       "      <td>No internet service</td>\n",
       "      <td>No internet service</td>\n",
       "      <td>No internet service</td>\n",
       "      <td>No internet service</td>\n",
       "      <td>Two year</td>\n",
       "      <td>No</td>\n",
       "      <td>Mailed check</td>\n",
       "      <td>0</td>\n",
       "    </tr>\n",
       "    <tr>\n",
       "      <th>3715</th>\n",
       "      <td>72</td>\n",
       "      <td>116.75</td>\n",
       "      <td>8277.05</td>\n",
       "      <td>Female</td>\n",
       "      <td>1</td>\n",
       "      <td>Yes</td>\n",
       "      <td>No</td>\n",
       "      <td>Yes</td>\n",
       "      <td>Yes</td>\n",
       "      <td>Fiber optic</td>\n",
       "      <td>Yes</td>\n",
       "      <td>Yes</td>\n",
       "      <td>Yes</td>\n",
       "      <td>Yes</td>\n",
       "      <td>Yes</td>\n",
       "      <td>Yes</td>\n",
       "      <td>Two year</td>\n",
       "      <td>Yes</td>\n",
       "      <td>Credit card (automatic)</td>\n",
       "      <td>0</td>\n",
       "    </tr>\n",
       "    <tr>\n",
       "      <th>4138</th>\n",
       "      <td>3</td>\n",
       "      <td>88.30</td>\n",
       "      <td>273.75</td>\n",
       "      <td>Female</td>\n",
       "      <td>1</td>\n",
       "      <td>Yes</td>\n",
       "      <td>Yes</td>\n",
       "      <td>Yes</td>\n",
       "      <td>No</td>\n",
       "      <td>Fiber optic</td>\n",
       "      <td>Yes</td>\n",
       "      <td>No</td>\n",
       "      <td>No</td>\n",
       "      <td>Yes</td>\n",
       "      <td>Yes</td>\n",
       "      <td>No</td>\n",
       "      <td>Month-to-month</td>\n",
       "      <td>Yes</td>\n",
       "      <td>Mailed check</td>\n",
       "      <td>1</td>\n",
       "    </tr>\n",
       "    <tr>\n",
       "      <th>4557</th>\n",
       "      <td>44</td>\n",
       "      <td>25.70</td>\n",
       "      <td>1110.5</td>\n",
       "      <td>Male</td>\n",
       "      <td>0</td>\n",
       "      <td>Yes</td>\n",
       "      <td>Yes</td>\n",
       "      <td>Yes</td>\n",
       "      <td>Yes</td>\n",
       "      <td>No</td>\n",
       "      <td>No internet service</td>\n",
       "      <td>No internet service</td>\n",
       "      <td>No internet service</td>\n",
       "      <td>No internet service</td>\n",
       "      <td>No internet service</td>\n",
       "      <td>No internet service</td>\n",
       "      <td>One year</td>\n",
       "      <td>No</td>\n",
       "      <td>Mailed check</td>\n",
       "      <td>0</td>\n",
       "    </tr>\n",
       "    <tr>\n",
       "      <th>4704</th>\n",
       "      <td>1</td>\n",
       "      <td>69.55</td>\n",
       "      <td>69.55</td>\n",
       "      <td>Female</td>\n",
       "      <td>0</td>\n",
       "      <td>No</td>\n",
       "      <td>No</td>\n",
       "      <td>Yes</td>\n",
       "      <td>No</td>\n",
       "      <td>Fiber optic</td>\n",
       "      <td>No</td>\n",
       "      <td>No</td>\n",
       "      <td>No</td>\n",
       "      <td>No</td>\n",
       "      <td>No</td>\n",
       "      <td>No</td>\n",
       "      <td>Month-to-month</td>\n",
       "      <td>No</td>\n",
       "      <td>Mailed check</td>\n",
       "      <td>1</td>\n",
       "    </tr>\n",
       "    <tr>\n",
       "      <th>4475</th>\n",
       "      <td>13</td>\n",
       "      <td>98.15</td>\n",
       "      <td>1230.25</td>\n",
       "      <td>Male</td>\n",
       "      <td>0</td>\n",
       "      <td>No</td>\n",
       "      <td>No</td>\n",
       "      <td>Yes</td>\n",
       "      <td>Yes</td>\n",
       "      <td>Fiber optic</td>\n",
       "      <td>Yes</td>\n",
       "      <td>No</td>\n",
       "      <td>No</td>\n",
       "      <td>No</td>\n",
       "      <td>Yes</td>\n",
       "      <td>Yes</td>\n",
       "      <td>Month-to-month</td>\n",
       "      <td>No</td>\n",
       "      <td>Mailed check</td>\n",
       "      <td>1</td>\n",
       "    </tr>\n",
       "    <tr>\n",
       "      <th>1031</th>\n",
       "      <td>28</td>\n",
       "      <td>49.90</td>\n",
       "      <td>1410.25</td>\n",
       "      <td>Female</td>\n",
       "      <td>0</td>\n",
       "      <td>Yes</td>\n",
       "      <td>Yes</td>\n",
       "      <td>Yes</td>\n",
       "      <td>Yes</td>\n",
       "      <td>DSL</td>\n",
       "      <td>No</td>\n",
       "      <td>No</td>\n",
       "      <td>No</td>\n",
       "      <td>No</td>\n",
       "      <td>No</td>\n",
       "      <td>No</td>\n",
       "      <td>Month-to-month</td>\n",
       "      <td>No</td>\n",
       "      <td>Mailed check</td>\n",
       "      <td>0</td>\n",
       "    </tr>\n",
       "    <tr>\n",
       "      <th>641</th>\n",
       "      <td>50</td>\n",
       "      <td>100.20</td>\n",
       "      <td>5038.45</td>\n",
       "      <td>Female</td>\n",
       "      <td>0</td>\n",
       "      <td>No</td>\n",
       "      <td>No</td>\n",
       "      <td>Yes</td>\n",
       "      <td>No</td>\n",
       "      <td>Fiber optic</td>\n",
       "      <td>No</td>\n",
       "      <td>Yes</td>\n",
       "      <td>No</td>\n",
       "      <td>Yes</td>\n",
       "      <td>Yes</td>\n",
       "      <td>Yes</td>\n",
       "      <td>Two year</td>\n",
       "      <td>Yes</td>\n",
       "      <td>Mailed check</td>\n",
       "      <td>0</td>\n",
       "    </tr>\n",
       "  </tbody>\n",
       "</table>\n",
       "</div>"
      ],
      "text/plain": [
       "      ClientPeriod  MonthlySpending TotalSpent     Sex  IsSeniorCitizen  \\\n",
       "3364            64            84.30    5289.05    Male                0   \n",
       "1012            27            75.50    1893.95    Male                1   \n",
       "4057            61            19.40    1182.55  Female                0   \n",
       "1115            55            88.80     4805.3  Female                1   \n",
       "2525            27            55.45    1477.65    Male                0   \n",
       "1521             3            79.65     251.75    Male                0   \n",
       "2218            47           106.40    5127.95  Female                0   \n",
       "3414            63            19.25    1237.65    Male                0   \n",
       "3715            72           116.75    8277.05  Female                1   \n",
       "4138             3            88.30     273.75  Female                1   \n",
       "4557            44            25.70     1110.5    Male                0   \n",
       "4704             1            69.55      69.55  Female                0   \n",
       "4475            13            98.15    1230.25    Male                0   \n",
       "1031            28            49.90    1410.25  Female                0   \n",
       "641             50           100.20    5038.45  Female                0   \n",
       "\n",
       "     HasPartner HasChild HasPhoneService HasMultiplePhoneNumbers  \\\n",
       "3364         No       No             Yes                     Yes   \n",
       "1012        Yes       No             Yes                     Yes   \n",
       "4057        Yes      Yes             Yes                      No   \n",
       "1115        Yes       No             Yes                      No   \n",
       "2525         No       No             Yes                      No   \n",
       "1521        Yes       No             Yes                     Yes   \n",
       "2218         No       No             Yes                     Yes   \n",
       "3414        Yes       No             Yes                      No   \n",
       "3715        Yes       No             Yes                     Yes   \n",
       "4138        Yes      Yes             Yes                      No   \n",
       "4557        Yes      Yes             Yes                     Yes   \n",
       "4704         No       No             Yes                      No   \n",
       "4475         No       No             Yes                     Yes   \n",
       "1031        Yes      Yes             Yes                     Yes   \n",
       "641          No       No             Yes                      No   \n",
       "\n",
       "     HasInternetService HasOnlineSecurityService      HasOnlineBackup  \\\n",
       "3364        Fiber optic                      Yes                  Yes   \n",
       "1012        Fiber optic                       No                   No   \n",
       "4057                 No      No internet service  No internet service   \n",
       "1115        Fiber optic                       No                   No   \n",
       "2525                DSL                      Yes                  Yes   \n",
       "1521        Fiber optic                       No                   No   \n",
       "2218        Fiber optic                       No                  Yes   \n",
       "3414                 No      No internet service  No internet service   \n",
       "3715        Fiber optic                      Yes                  Yes   \n",
       "4138        Fiber optic                      Yes                   No   \n",
       "4557                 No      No internet service  No internet service   \n",
       "4704        Fiber optic                       No                   No   \n",
       "4475        Fiber optic                      Yes                   No   \n",
       "1031                DSL                       No                   No   \n",
       "641         Fiber optic                       No                  Yes   \n",
       "\n",
       "      HasDeviceProtection HasTechSupportAccess          HasOnlineTV  \\\n",
       "3364                   No                   No                   No   \n",
       "1012                   No                   No                   No   \n",
       "4057  No internet service  No internet service  No internet service   \n",
       "1115                  Yes                  Yes                  Yes   \n",
       "2525                   No                   No                   No   \n",
       "1521                   No                  Yes                   No   \n",
       "2218                  Yes                   No                  Yes   \n",
       "3414  No internet service  No internet service  No internet service   \n",
       "3715                  Yes                  Yes                  Yes   \n",
       "4138                   No                  Yes                  Yes   \n",
       "4557  No internet service  No internet service  No internet service   \n",
       "4704                   No                   No                   No   \n",
       "4475                   No                   No                  Yes   \n",
       "1031                   No                   No                   No   \n",
       "641                    No                  Yes                  Yes   \n",
       "\n",
       "     HasMovieSubscription HasContractPhone IsBillingPaperless  \\\n",
       "3364                   No         One year                Yes   \n",
       "1012                   No   Month-to-month                Yes   \n",
       "4057  No internet service   Month-to-month                Yes   \n",
       "1115                   No         Two year                 No   \n",
       "2525                   No         One year                 No   \n",
       "1521                   No   Month-to-month                Yes   \n",
       "2218                  Yes   Month-to-month                Yes   \n",
       "3414  No internet service         Two year                 No   \n",
       "3715                  Yes         Two year                Yes   \n",
       "4138                   No   Month-to-month                Yes   \n",
       "4557  No internet service         One year                 No   \n",
       "4704                   No   Month-to-month                 No   \n",
       "4475                  Yes   Month-to-month                 No   \n",
       "1031                   No   Month-to-month                 No   \n",
       "641                   Yes         Two year                Yes   \n",
       "\n",
       "                  PaymentMethod  Churn  \n",
       "3364    Credit card (automatic)      0  \n",
       "1012           Electronic check      1  \n",
       "4057               Mailed check      1  \n",
       "1115    Credit card (automatic)      0  \n",
       "2525  Bank transfer (automatic)      0  \n",
       "1521  Bank transfer (automatic)      1  \n",
       "2218           Electronic check      1  \n",
       "3414               Mailed check      0  \n",
       "3715    Credit card (automatic)      0  \n",
       "4138               Mailed check      1  \n",
       "4557               Mailed check      0  \n",
       "4704               Mailed check      1  \n",
       "4475               Mailed check      1  \n",
       "1031               Mailed check      0  \n",
       "641                Mailed check      0  "
      ]
     },
     "execution_count": 6,
     "metadata": {},
     "output_type": "execute_result"
    }
   ],
   "source": [
    "data.sample(15)"
   ]
  },
  {
   "cell_type": "code",
   "execution_count": 7,
   "metadata": {
    "execution": {
     "iopub.execute_input": "2023-04-28T20:08:21.981548Z",
     "iopub.status.busy": "2023-04-28T20:08:21.981104Z",
     "iopub.status.idle": "2023-04-28T20:08:22.017585Z",
     "shell.execute_reply": "2023-04-28T20:08:22.016273Z",
     "shell.execute_reply.started": "2023-04-28T20:08:21.981511Z"
    }
   },
   "outputs": [
    {
     "name": "stdout",
     "output_type": "stream",
     "text": [
      "<class 'pandas.core.frame.DataFrame'>\n",
      "RangeIndex: 5282 entries, 0 to 5281\n",
      "Data columns (total 20 columns):\n",
      " #   Column                    Non-Null Count  Dtype  \n",
      "---  ------                    --------------  -----  \n",
      " 0   ClientPeriod              5282 non-null   int64  \n",
      " 1   MonthlySpending           5282 non-null   float64\n",
      " 2   TotalSpent                5273 non-null   float64\n",
      " 3   Sex                       5282 non-null   object \n",
      " 4   IsSeniorCitizen           5282 non-null   int64  \n",
      " 5   HasPartner                5282 non-null   object \n",
      " 6   HasChild                  5282 non-null   object \n",
      " 7   HasPhoneService           5282 non-null   object \n",
      " 8   HasMultiplePhoneNumbers   5282 non-null   object \n",
      " 9   HasInternetService        5282 non-null   object \n",
      " 10  HasOnlineSecurityService  5282 non-null   object \n",
      " 11  HasOnlineBackup           5282 non-null   object \n",
      " 12  HasDeviceProtection       5282 non-null   object \n",
      " 13  HasTechSupportAccess      5282 non-null   object \n",
      " 14  HasOnlineTV               5282 non-null   object \n",
      " 15  HasMovieSubscription      5282 non-null   object \n",
      " 16  HasContractPhone          5282 non-null   object \n",
      " 17  IsBillingPaperless        5282 non-null   object \n",
      " 18  PaymentMethod             5282 non-null   object \n",
      " 19  Churn                     5282 non-null   int64  \n",
      "dtypes: float64(2), int64(3), object(15)\n",
      "memory usage: 825.4+ KB\n"
     ]
    }
   ],
   "source": [
    "# Очистка и приведение к числовому типу\n",
    "data['TotalSpent'] = data['TotalSpent'].str.strip()\n",
    "data['TotalSpent'] = data['TotalSpent'].replace('', np.nan)\n",
    "data['TotalSpent'] = data['TotalSpent'].astype('float64')\n",
    "data.info()"
   ]
  },
  {
   "cell_type": "code",
   "execution_count": 8,
   "metadata": {
    "execution": {
     "iopub.execute_input": "2023-04-28T20:08:22.020590Z",
     "iopub.status.busy": "2023-04-28T20:08:22.020136Z",
     "iopub.status.idle": "2023-04-28T20:08:22.055975Z",
     "shell.execute_reply": "2023-04-28T20:08:22.053486Z",
     "shell.execute_reply.started": "2023-04-28T20:08:22.020551Z"
    }
   },
   "outputs": [
    {
     "data": {
      "text/html": [
       "<div>\n",
       "<style scoped>\n",
       "    .dataframe tbody tr th:only-of-type {\n",
       "        vertical-align: middle;\n",
       "    }\n",
       "\n",
       "    .dataframe tbody tr th {\n",
       "        vertical-align: top;\n",
       "    }\n",
       "\n",
       "    .dataframe thead th {\n",
       "        text-align: right;\n",
       "    }\n",
       "</style>\n",
       "<table border=\"1\" class=\"dataframe\">\n",
       "  <thead>\n",
       "    <tr style=\"text-align: right;\">\n",
       "      <th></th>\n",
       "      <th>ClientPeriod</th>\n",
       "      <th>MonthlySpending</th>\n",
       "      <th>TotalSpent</th>\n",
       "      <th>IsSeniorCitizen</th>\n",
       "      <th>Churn</th>\n",
       "    </tr>\n",
       "  </thead>\n",
       "  <tbody>\n",
       "    <tr>\n",
       "      <th>count</th>\n",
       "      <td>5282.000000</td>\n",
       "      <td>5282.000000</td>\n",
       "      <td>5273.000000</td>\n",
       "      <td>5282.000000</td>\n",
       "      <td>5282.000000</td>\n",
       "    </tr>\n",
       "    <tr>\n",
       "      <th>mean</th>\n",
       "      <td>32.397009</td>\n",
       "      <td>64.924754</td>\n",
       "      <td>2291.390461</td>\n",
       "      <td>0.159409</td>\n",
       "      <td>0.262022</td>\n",
       "    </tr>\n",
       "    <tr>\n",
       "      <th>std</th>\n",
       "      <td>24.550326</td>\n",
       "      <td>30.176464</td>\n",
       "      <td>2269.014233</td>\n",
       "      <td>0.366092</td>\n",
       "      <td>0.439776</td>\n",
       "    </tr>\n",
       "    <tr>\n",
       "      <th>min</th>\n",
       "      <td>0.000000</td>\n",
       "      <td>18.250000</td>\n",
       "      <td>18.800000</td>\n",
       "      <td>0.000000</td>\n",
       "      <td>0.000000</td>\n",
       "    </tr>\n",
       "    <tr>\n",
       "      <th>25%</th>\n",
       "      <td>9.000000</td>\n",
       "      <td>35.462500</td>\n",
       "      <td>401.100000</td>\n",
       "      <td>0.000000</td>\n",
       "      <td>0.000000</td>\n",
       "    </tr>\n",
       "    <tr>\n",
       "      <th>50%</th>\n",
       "      <td>29.000000</td>\n",
       "      <td>70.400000</td>\n",
       "      <td>1410.250000</td>\n",
       "      <td>0.000000</td>\n",
       "      <td>0.000000</td>\n",
       "    </tr>\n",
       "    <tr>\n",
       "      <th>75%</th>\n",
       "      <td>55.000000</td>\n",
       "      <td>90.050000</td>\n",
       "      <td>3807.350000</td>\n",
       "      <td>0.000000</td>\n",
       "      <td>1.000000</td>\n",
       "    </tr>\n",
       "    <tr>\n",
       "      <th>max</th>\n",
       "      <td>72.000000</td>\n",
       "      <td>118.750000</td>\n",
       "      <td>8684.800000</td>\n",
       "      <td>1.000000</td>\n",
       "      <td>1.000000</td>\n",
       "    </tr>\n",
       "  </tbody>\n",
       "</table>\n",
       "</div>"
      ],
      "text/plain": [
       "       ClientPeriod  MonthlySpending   TotalSpent  IsSeniorCitizen  \\\n",
       "count   5282.000000      5282.000000  5273.000000      5282.000000   \n",
       "mean      32.397009        64.924754  2291.390461         0.159409   \n",
       "std       24.550326        30.176464  2269.014233         0.366092   \n",
       "min        0.000000        18.250000    18.800000         0.000000   \n",
       "25%        9.000000        35.462500   401.100000         0.000000   \n",
       "50%       29.000000        70.400000  1410.250000         0.000000   \n",
       "75%       55.000000        90.050000  3807.350000         0.000000   \n",
       "max       72.000000       118.750000  8684.800000         1.000000   \n",
       "\n",
       "             Churn  \n",
       "count  5282.000000  \n",
       "mean      0.262022  \n",
       "std       0.439776  \n",
       "min       0.000000  \n",
       "25%       0.000000  \n",
       "50%       0.000000  \n",
       "75%       1.000000  \n",
       "max       1.000000  "
      ]
     },
     "execution_count": 8,
     "metadata": {},
     "output_type": "execute_result"
    }
   ],
   "source": [
    "data.describe()"
   ]
  },
  {
   "cell_type": "code",
   "execution_count": 9,
   "metadata": {
    "execution": {
     "iopub.execute_input": "2023-04-28T20:08:22.063742Z",
     "iopub.status.busy": "2023-04-28T20:08:22.062959Z",
     "iopub.status.idle": "2023-04-28T20:08:22.078645Z",
     "shell.execute_reply": "2023-04-28T20:08:22.077147Z",
     "shell.execute_reply.started": "2023-04-28T20:08:22.063695Z"
    }
   },
   "outputs": [
    {
     "name": "stdout",
     "output_type": "stream",
     "text": [
      "ClientPeriod                0\n",
      "MonthlySpending             0\n",
      "TotalSpent                  9\n",
      "Sex                         0\n",
      "IsSeniorCitizen             0\n",
      "HasPartner                  0\n",
      "HasChild                    0\n",
      "HasPhoneService             0\n",
      "HasMultiplePhoneNumbers     0\n",
      "HasInternetService          0\n",
      "HasOnlineSecurityService    0\n",
      "HasOnlineBackup             0\n",
      "HasDeviceProtection         0\n",
      "HasTechSupportAccess        0\n",
      "HasOnlineTV                 0\n",
      "HasMovieSubscription        0\n",
      "HasContractPhone            0\n",
      "IsBillingPaperless          0\n",
      "PaymentMethod               0\n",
      "Churn                       0\n",
      "dtype: int64\n"
     ]
    }
   ],
   "source": [
    "# Проверка на NaN\n",
    "print(data.isna().sum())"
   ]
  },
  {
   "cell_type": "code",
   "execution_count": 10,
   "metadata": {
    "execution": {
     "iopub.execute_input": "2023-04-28T20:08:22.081406Z",
     "iopub.status.busy": "2023-04-28T20:08:22.080896Z",
     "iopub.status.idle": "2023-04-28T20:08:22.112753Z",
     "shell.execute_reply": "2023-04-28T20:08:22.111253Z",
     "shell.execute_reply.started": "2023-04-28T20:08:22.081355Z"
    }
   },
   "outputs": [
    {
     "data": {
      "text/html": [
       "<div>\n",
       "<style scoped>\n",
       "    .dataframe tbody tr th:only-of-type {\n",
       "        vertical-align: middle;\n",
       "    }\n",
       "\n",
       "    .dataframe tbody tr th {\n",
       "        vertical-align: top;\n",
       "    }\n",
       "\n",
       "    .dataframe thead th {\n",
       "        text-align: right;\n",
       "    }\n",
       "</style>\n",
       "<table border=\"1\" class=\"dataframe\">\n",
       "  <thead>\n",
       "    <tr style=\"text-align: right;\">\n",
       "      <th></th>\n",
       "      <th>ClientPeriod</th>\n",
       "      <th>MonthlySpending</th>\n",
       "      <th>TotalSpent</th>\n",
       "      <th>Sex</th>\n",
       "      <th>IsSeniorCitizen</th>\n",
       "      <th>HasPartner</th>\n",
       "      <th>HasChild</th>\n",
       "      <th>HasPhoneService</th>\n",
       "      <th>HasMultiplePhoneNumbers</th>\n",
       "      <th>HasInternetService</th>\n",
       "      <th>HasOnlineSecurityService</th>\n",
       "      <th>HasOnlineBackup</th>\n",
       "      <th>HasDeviceProtection</th>\n",
       "      <th>HasTechSupportAccess</th>\n",
       "      <th>HasOnlineTV</th>\n",
       "      <th>HasMovieSubscription</th>\n",
       "      <th>HasContractPhone</th>\n",
       "      <th>IsBillingPaperless</th>\n",
       "      <th>PaymentMethod</th>\n",
       "      <th>Churn</th>\n",
       "    </tr>\n",
       "  </thead>\n",
       "  <tbody>\n",
       "    <tr>\n",
       "      <th>1048</th>\n",
       "      <td>0</td>\n",
       "      <td>25.75</td>\n",
       "      <td>NaN</td>\n",
       "      <td>Male</td>\n",
       "      <td>0</td>\n",
       "      <td>Yes</td>\n",
       "      <td>Yes</td>\n",
       "      <td>Yes</td>\n",
       "      <td>Yes</td>\n",
       "      <td>No</td>\n",
       "      <td>No internet service</td>\n",
       "      <td>No internet service</td>\n",
       "      <td>No internet service</td>\n",
       "      <td>No internet service</td>\n",
       "      <td>No internet service</td>\n",
       "      <td>No internet service</td>\n",
       "      <td>Two year</td>\n",
       "      <td>No</td>\n",
       "      <td>Mailed check</td>\n",
       "      <td>0</td>\n",
       "    </tr>\n",
       "    <tr>\n",
       "      <th>1707</th>\n",
       "      <td>0</td>\n",
       "      <td>73.35</td>\n",
       "      <td>NaN</td>\n",
       "      <td>Female</td>\n",
       "      <td>0</td>\n",
       "      <td>Yes</td>\n",
       "      <td>Yes</td>\n",
       "      <td>Yes</td>\n",
       "      <td>Yes</td>\n",
       "      <td>DSL</td>\n",
       "      <td>No</td>\n",
       "      <td>Yes</td>\n",
       "      <td>Yes</td>\n",
       "      <td>Yes</td>\n",
       "      <td>Yes</td>\n",
       "      <td>No</td>\n",
       "      <td>Two year</td>\n",
       "      <td>No</td>\n",
       "      <td>Mailed check</td>\n",
       "      <td>0</td>\n",
       "    </tr>\n",
       "    <tr>\n",
       "      <th>2543</th>\n",
       "      <td>0</td>\n",
       "      <td>19.70</td>\n",
       "      <td>NaN</td>\n",
       "      <td>Male</td>\n",
       "      <td>0</td>\n",
       "      <td>Yes</td>\n",
       "      <td>Yes</td>\n",
       "      <td>Yes</td>\n",
       "      <td>No</td>\n",
       "      <td>No</td>\n",
       "      <td>No internet service</td>\n",
       "      <td>No internet service</td>\n",
       "      <td>No internet service</td>\n",
       "      <td>No internet service</td>\n",
       "      <td>No internet service</td>\n",
       "      <td>No internet service</td>\n",
       "      <td>One year</td>\n",
       "      <td>Yes</td>\n",
       "      <td>Mailed check</td>\n",
       "      <td>0</td>\n",
       "    </tr>\n",
       "    <tr>\n",
       "      <th>3078</th>\n",
       "      <td>0</td>\n",
       "      <td>80.85</td>\n",
       "      <td>NaN</td>\n",
       "      <td>Female</td>\n",
       "      <td>0</td>\n",
       "      <td>Yes</td>\n",
       "      <td>Yes</td>\n",
       "      <td>Yes</td>\n",
       "      <td>No</td>\n",
       "      <td>DSL</td>\n",
       "      <td>Yes</td>\n",
       "      <td>Yes</td>\n",
       "      <td>Yes</td>\n",
       "      <td>No</td>\n",
       "      <td>Yes</td>\n",
       "      <td>Yes</td>\n",
       "      <td>Two year</td>\n",
       "      <td>No</td>\n",
       "      <td>Mailed check</td>\n",
       "      <td>0</td>\n",
       "    </tr>\n",
       "    <tr>\n",
       "      <th>3697</th>\n",
       "      <td>0</td>\n",
       "      <td>20.00</td>\n",
       "      <td>NaN</td>\n",
       "      <td>Female</td>\n",
       "      <td>0</td>\n",
       "      <td>Yes</td>\n",
       "      <td>Yes</td>\n",
       "      <td>Yes</td>\n",
       "      <td>No</td>\n",
       "      <td>No</td>\n",
       "      <td>No internet service</td>\n",
       "      <td>No internet service</td>\n",
       "      <td>No internet service</td>\n",
       "      <td>No internet service</td>\n",
       "      <td>No internet service</td>\n",
       "      <td>No internet service</td>\n",
       "      <td>Two year</td>\n",
       "      <td>No</td>\n",
       "      <td>Mailed check</td>\n",
       "      <td>0</td>\n",
       "    </tr>\n",
       "  </tbody>\n",
       "</table>\n",
       "</div>"
      ],
      "text/plain": [
       "      ClientPeriod  MonthlySpending  TotalSpent     Sex  IsSeniorCitizen  \\\n",
       "1048             0            25.75         NaN    Male                0   \n",
       "1707             0            73.35         NaN  Female                0   \n",
       "2543             0            19.70         NaN    Male                0   \n",
       "3078             0            80.85         NaN  Female                0   \n",
       "3697             0            20.00         NaN  Female                0   \n",
       "\n",
       "     HasPartner HasChild HasPhoneService HasMultiplePhoneNumbers  \\\n",
       "1048        Yes      Yes             Yes                     Yes   \n",
       "1707        Yes      Yes             Yes                     Yes   \n",
       "2543        Yes      Yes             Yes                      No   \n",
       "3078        Yes      Yes             Yes                      No   \n",
       "3697        Yes      Yes             Yes                      No   \n",
       "\n",
       "     HasInternetService HasOnlineSecurityService      HasOnlineBackup  \\\n",
       "1048                 No      No internet service  No internet service   \n",
       "1707                DSL                       No                  Yes   \n",
       "2543                 No      No internet service  No internet service   \n",
       "3078                DSL                      Yes                  Yes   \n",
       "3697                 No      No internet service  No internet service   \n",
       "\n",
       "      HasDeviceProtection HasTechSupportAccess          HasOnlineTV  \\\n",
       "1048  No internet service  No internet service  No internet service   \n",
       "1707                  Yes                  Yes                  Yes   \n",
       "2543  No internet service  No internet service  No internet service   \n",
       "3078                  Yes                   No                  Yes   \n",
       "3697  No internet service  No internet service  No internet service   \n",
       "\n",
       "     HasMovieSubscription HasContractPhone IsBillingPaperless PaymentMethod  \\\n",
       "1048  No internet service         Two year                 No  Mailed check   \n",
       "1707                   No         Two year                 No  Mailed check   \n",
       "2543  No internet service         One year                Yes  Mailed check   \n",
       "3078                  Yes         Two year                 No  Mailed check   \n",
       "3697  No internet service         Two year                 No  Mailed check   \n",
       "\n",
       "      Churn  \n",
       "1048      0  \n",
       "1707      0  \n",
       "2543      0  \n",
       "3078      0  \n",
       "3697      0  "
      ]
     },
     "execution_count": 10,
     "metadata": {},
     "output_type": "execute_result"
    }
   ],
   "source": [
    "filt1 = data['TotalSpent'].isna() == True\n",
    "data[filt1].head()"
   ]
  },
  {
   "cell_type": "code",
   "execution_count": 11,
   "metadata": {
    "execution": {
     "iopub.execute_input": "2023-04-28T20:08:22.115548Z",
     "iopub.status.busy": "2023-04-28T20:08:22.115062Z",
     "iopub.status.idle": "2023-04-28T20:08:22.149119Z",
     "shell.execute_reply": "2023-04-28T20:08:22.147396Z",
     "shell.execute_reply.started": "2023-04-28T20:08:22.115509Z"
    }
   },
   "outputs": [
    {
     "data": {
      "text/html": [
       "<div>\n",
       "<style scoped>\n",
       "    .dataframe tbody tr th:only-of-type {\n",
       "        vertical-align: middle;\n",
       "    }\n",
       "\n",
       "    .dataframe tbody tr th {\n",
       "        vertical-align: top;\n",
       "    }\n",
       "\n",
       "    .dataframe thead th {\n",
       "        text-align: right;\n",
       "    }\n",
       "</style>\n",
       "<table border=\"1\" class=\"dataframe\">\n",
       "  <thead>\n",
       "    <tr style=\"text-align: right;\">\n",
       "      <th></th>\n",
       "      <th>ClientPeriod</th>\n",
       "      <th>MonthlySpending</th>\n",
       "      <th>TotalSpent</th>\n",
       "      <th>Sex</th>\n",
       "      <th>IsSeniorCitizen</th>\n",
       "      <th>HasPartner</th>\n",
       "      <th>HasChild</th>\n",
       "      <th>HasPhoneService</th>\n",
       "      <th>HasMultiplePhoneNumbers</th>\n",
       "      <th>HasInternetService</th>\n",
       "      <th>HasOnlineSecurityService</th>\n",
       "      <th>HasOnlineBackup</th>\n",
       "      <th>HasDeviceProtection</th>\n",
       "      <th>HasTechSupportAccess</th>\n",
       "      <th>HasOnlineTV</th>\n",
       "      <th>HasMovieSubscription</th>\n",
       "      <th>HasContractPhone</th>\n",
       "      <th>IsBillingPaperless</th>\n",
       "      <th>PaymentMethod</th>\n",
       "      <th>Churn</th>\n",
       "    </tr>\n",
       "  </thead>\n",
       "  <tbody>\n",
       "    <tr>\n",
       "      <th>1048</th>\n",
       "      <td>0.5</td>\n",
       "      <td>25.75</td>\n",
       "      <td>NaN</td>\n",
       "      <td>Male</td>\n",
       "      <td>0</td>\n",
       "      <td>Yes</td>\n",
       "      <td>Yes</td>\n",
       "      <td>Yes</td>\n",
       "      <td>Yes</td>\n",
       "      <td>No</td>\n",
       "      <td>No internet service</td>\n",
       "      <td>No internet service</td>\n",
       "      <td>No internet service</td>\n",
       "      <td>No internet service</td>\n",
       "      <td>No internet service</td>\n",
       "      <td>No internet service</td>\n",
       "      <td>Two year</td>\n",
       "      <td>No</td>\n",
       "      <td>Mailed check</td>\n",
       "      <td>0</td>\n",
       "    </tr>\n",
       "    <tr>\n",
       "      <th>1707</th>\n",
       "      <td>0.5</td>\n",
       "      <td>73.35</td>\n",
       "      <td>NaN</td>\n",
       "      <td>Female</td>\n",
       "      <td>0</td>\n",
       "      <td>Yes</td>\n",
       "      <td>Yes</td>\n",
       "      <td>Yes</td>\n",
       "      <td>Yes</td>\n",
       "      <td>DSL</td>\n",
       "      <td>No</td>\n",
       "      <td>Yes</td>\n",
       "      <td>Yes</td>\n",
       "      <td>Yes</td>\n",
       "      <td>Yes</td>\n",
       "      <td>No</td>\n",
       "      <td>Two year</td>\n",
       "      <td>No</td>\n",
       "      <td>Mailed check</td>\n",
       "      <td>0</td>\n",
       "    </tr>\n",
       "    <tr>\n",
       "      <th>2543</th>\n",
       "      <td>0.5</td>\n",
       "      <td>19.70</td>\n",
       "      <td>NaN</td>\n",
       "      <td>Male</td>\n",
       "      <td>0</td>\n",
       "      <td>Yes</td>\n",
       "      <td>Yes</td>\n",
       "      <td>Yes</td>\n",
       "      <td>No</td>\n",
       "      <td>No</td>\n",
       "      <td>No internet service</td>\n",
       "      <td>No internet service</td>\n",
       "      <td>No internet service</td>\n",
       "      <td>No internet service</td>\n",
       "      <td>No internet service</td>\n",
       "      <td>No internet service</td>\n",
       "      <td>One year</td>\n",
       "      <td>Yes</td>\n",
       "      <td>Mailed check</td>\n",
       "      <td>0</td>\n",
       "    </tr>\n",
       "    <tr>\n",
       "      <th>3078</th>\n",
       "      <td>0.5</td>\n",
       "      <td>80.85</td>\n",
       "      <td>NaN</td>\n",
       "      <td>Female</td>\n",
       "      <td>0</td>\n",
       "      <td>Yes</td>\n",
       "      <td>Yes</td>\n",
       "      <td>Yes</td>\n",
       "      <td>No</td>\n",
       "      <td>DSL</td>\n",
       "      <td>Yes</td>\n",
       "      <td>Yes</td>\n",
       "      <td>Yes</td>\n",
       "      <td>No</td>\n",
       "      <td>Yes</td>\n",
       "      <td>Yes</td>\n",
       "      <td>Two year</td>\n",
       "      <td>No</td>\n",
       "      <td>Mailed check</td>\n",
       "      <td>0</td>\n",
       "    </tr>\n",
       "    <tr>\n",
       "      <th>3697</th>\n",
       "      <td>0.5</td>\n",
       "      <td>20.00</td>\n",
       "      <td>NaN</td>\n",
       "      <td>Female</td>\n",
       "      <td>0</td>\n",
       "      <td>Yes</td>\n",
       "      <td>Yes</td>\n",
       "      <td>Yes</td>\n",
       "      <td>No</td>\n",
       "      <td>No</td>\n",
       "      <td>No internet service</td>\n",
       "      <td>No internet service</td>\n",
       "      <td>No internet service</td>\n",
       "      <td>No internet service</td>\n",
       "      <td>No internet service</td>\n",
       "      <td>No internet service</td>\n",
       "      <td>Two year</td>\n",
       "      <td>No</td>\n",
       "      <td>Mailed check</td>\n",
       "      <td>0</td>\n",
       "    </tr>\n",
       "  </tbody>\n",
       "</table>\n",
       "</div>"
      ],
      "text/plain": [
       "      ClientPeriod  MonthlySpending  TotalSpent     Sex  IsSeniorCitizen  \\\n",
       "1048           0.5            25.75         NaN    Male                0   \n",
       "1707           0.5            73.35         NaN  Female                0   \n",
       "2543           0.5            19.70         NaN    Male                0   \n",
       "3078           0.5            80.85         NaN  Female                0   \n",
       "3697           0.5            20.00         NaN  Female                0   \n",
       "\n",
       "     HasPartner HasChild HasPhoneService HasMultiplePhoneNumbers  \\\n",
       "1048        Yes      Yes             Yes                     Yes   \n",
       "1707        Yes      Yes             Yes                     Yes   \n",
       "2543        Yes      Yes             Yes                      No   \n",
       "3078        Yes      Yes             Yes                      No   \n",
       "3697        Yes      Yes             Yes                      No   \n",
       "\n",
       "     HasInternetService HasOnlineSecurityService      HasOnlineBackup  \\\n",
       "1048                 No      No internet service  No internet service   \n",
       "1707                DSL                       No                  Yes   \n",
       "2543                 No      No internet service  No internet service   \n",
       "3078                DSL                      Yes                  Yes   \n",
       "3697                 No      No internet service  No internet service   \n",
       "\n",
       "      HasDeviceProtection HasTechSupportAccess          HasOnlineTV  \\\n",
       "1048  No internet service  No internet service  No internet service   \n",
       "1707                  Yes                  Yes                  Yes   \n",
       "2543  No internet service  No internet service  No internet service   \n",
       "3078                  Yes                   No                  Yes   \n",
       "3697  No internet service  No internet service  No internet service   \n",
       "\n",
       "     HasMovieSubscription HasContractPhone IsBillingPaperless PaymentMethod  \\\n",
       "1048  No internet service         Two year                 No  Mailed check   \n",
       "1707                   No         Two year                 No  Mailed check   \n",
       "2543  No internet service         One year                Yes  Mailed check   \n",
       "3078                  Yes         Two year                 No  Mailed check   \n",
       "3697  No internet service         Two year                 No  Mailed check   \n",
       "\n",
       "      Churn  \n",
       "1048      0  \n",
       "1707      0  \n",
       "2543      0  \n",
       "3078      0  \n",
       "3697      0  "
      ]
     },
     "execution_count": 11,
     "metadata": {},
     "output_type": "execute_result"
    }
   ],
   "source": [
    "# Меняем нули в ClientPeriod на позитивные значения (понадобится в дальнейшем)\n",
    "data_client_edit = data.copy()\n",
    "data_client_edit['ClientPeriod'].replace(0, 0.5, inplace=True)\n",
    "data_client_edit[filt1].head()"
   ]
  },
  {
   "cell_type": "code",
   "execution_count": 12,
   "metadata": {
    "execution": {
     "iopub.execute_input": "2023-04-28T20:08:22.151649Z",
     "iopub.status.busy": "2023-04-28T20:08:22.151127Z",
     "iopub.status.idle": "2023-04-28T20:08:22.164161Z",
     "shell.execute_reply": "2023-04-28T20:08:22.162596Z",
     "shell.execute_reply.started": "2023-04-28T20:08:22.151595Z"
    }
   },
   "outputs": [],
   "source": [
    "# Заполняем NaNы\n",
    "data_no_nans = data_client_edit.copy()\n",
    "data_no_nans['TotalSpent'] = data['TotalSpent'].fillna(data['MonthlySpending'])"
   ]
  },
  {
   "cell_type": "code",
   "execution_count": 13,
   "metadata": {
    "execution": {
     "iopub.execute_input": "2023-04-28T20:08:22.167351Z",
     "iopub.status.busy": "2023-04-28T20:08:22.166948Z",
     "iopub.status.idle": "2023-04-28T20:08:22.179061Z",
     "shell.execute_reply": "2023-04-28T20:08:22.178080Z",
     "shell.execute_reply.started": "2023-04-28T20:08:22.167307Z"
    }
   },
   "outputs": [
    {
     "name": "stdout",
     "output_type": "stream",
     "text": [
      "ClientPeriod                0\n",
      "MonthlySpending             0\n",
      "TotalSpent                  0\n",
      "Sex                         0\n",
      "IsSeniorCitizen             0\n",
      "HasPartner                  0\n",
      "HasChild                    0\n",
      "HasPhoneService             0\n",
      "HasMultiplePhoneNumbers     0\n",
      "HasInternetService          0\n",
      "HasOnlineSecurityService    0\n",
      "HasOnlineBackup             0\n",
      "HasDeviceProtection         0\n",
      "HasTechSupportAccess        0\n",
      "HasOnlineTV                 0\n",
      "HasMovieSubscription        0\n",
      "HasContractPhone            0\n",
      "IsBillingPaperless          0\n",
      "PaymentMethod               0\n",
      "Churn                       0\n",
      "dtype: int64\n"
     ]
    }
   ],
   "source": [
    "# Убедимся, что пропусков нет\n",
    "print(data_no_nans.isna().sum())"
   ]
  },
  {
   "cell_type": "code",
   "execution_count": 14,
   "metadata": {
    "execution": {
     "iopub.execute_input": "2023-04-28T20:08:22.180943Z",
     "iopub.status.busy": "2023-04-28T20:08:22.180361Z",
     "iopub.status.idle": "2023-04-28T20:08:22.211311Z",
     "shell.execute_reply": "2023-04-28T20:08:22.209930Z",
     "shell.execute_reply.started": "2023-04-28T20:08:22.180905Z"
    }
   },
   "outputs": [
    {
     "data": {
      "text/plain": [
       "14"
      ]
     },
     "execution_count": 14,
     "metadata": {},
     "output_type": "execute_result"
    }
   ],
   "source": [
    "# Проверка на дубликаты строк\n",
    "data_no_nans.duplicated().sum()"
   ]
  },
  {
   "cell_type": "code",
   "execution_count": 15,
   "metadata": {
    "execution": {
     "iopub.execute_input": "2023-04-28T20:08:22.214340Z",
     "iopub.status.busy": "2023-04-28T20:08:22.213955Z",
     "iopub.status.idle": "2023-04-28T20:08:22.250713Z",
     "shell.execute_reply": "2023-04-28T20:08:22.249445Z",
     "shell.execute_reply.started": "2023-04-28T20:08:22.214303Z"
    }
   },
   "outputs": [
    {
     "data": {
      "text/plain": [
       "0"
      ]
     },
     "execution_count": 15,
     "metadata": {},
     "output_type": "execute_result"
    }
   ],
   "source": [
    "# Удаляем дубликаты\n",
    "data_no_dups = data_no_nans.drop_duplicates()\n",
    "data_no_dups.duplicated().sum()"
   ]
  },
  {
   "cell_type": "code",
   "execution_count": 16,
   "metadata": {
    "execution": {
     "iopub.execute_input": "2023-04-28T20:08:22.252965Z",
     "iopub.status.busy": "2023-04-28T20:08:22.252575Z",
     "iopub.status.idle": "2023-04-28T20:08:22.259159Z",
     "shell.execute_reply": "2023-04-28T20:08:22.257952Z",
     "shell.execute_reply.started": "2023-04-28T20:08:22.252928Z"
    }
   },
   "outputs": [],
   "source": [
    "df = data_no_dups.copy()"
   ]
  },
  {
   "cell_type": "markdown",
   "metadata": {},
   "source": [
    "# EDA"
   ]
  },
  {
   "cell_type": "code",
   "execution_count": 17,
   "metadata": {
    "execution": {
     "iopub.execute_input": "2023-04-28T20:08:22.260596Z",
     "iopub.status.busy": "2023-04-28T20:08:22.260222Z",
     "iopub.status.idle": "2023-04-28T20:08:22.653119Z",
     "shell.execute_reply": "2023-04-28T20:08:22.651615Z",
     "shell.execute_reply.started": "2023-04-28T20:08:22.260542Z"
    }
   },
   "outputs": [
    {
     "data": {
      "image/png": "[encoded data removed]",
      "text/plain": [
       "<Figure size 360x360 with 1 Axes>"
      ]
     },
     "metadata": {},
     "output_type": "display_data"
    }
   ],
   "source": [
    "# Распределение таргет-переменной\n",
    "sns.catplot(data=df, x=target_col, kind='count');"
   ]
  },
  {
   "cell_type": "code",
   "execution_count": 137,
   "metadata": {
    "execution": {
     "iopub.execute_input": "2023-04-28T20:08:22.656471Z",
     "iopub.status.busy": "2023-04-28T20:08:22.656055Z",
     "iopub.status.idle": "2023-04-28T20:08:25.720868Z",
     "shell.execute_reply": "2023-04-28T20:08:25.719880Z",
     "shell.execute_reply.started": "2023-04-28T20:08:22.656432Z"
    }
   },
   "outputs": [
    {
     "data": {
      "image/png": "[encoded data removed]",
      "text/plain": [
       "<Figure size 1440x1440 with 16 Axes>"
      ]
     },
     "metadata": {},
     "output_type": "display_data"
    }
   ],
   "source": [
    "# Строим\n",
    "fig, axs = plt.subplots(4, 4, constrained_layout=False, figsize=(20, 20))\n",
    "idx = 0\n",
    "for ax_id, ax in enumerate(axs):\n",
    "    for sub_id, sub in enumerate(ax):\n",
    "        df[cat_cols[idx]].value_counts().plot(\n",
    "            kind='pie',\n",
    "            ax=axs[ax_id, sub_id], \n",
    "            autopct='%1.2f%%',\n",
    "            labeldistance=None,\n",
    "            pctdistance=0.4\n",
    "        )\n",
    "        axs[ax_id, sub_id].legend(loc=2, fontsize='small')\n",
    "        axs[ax_id, sub_id].set_ylabel('')\n",
    "        axs[ax_id, sub_id].set_xlabel(df[cat_cols[idx]].name)\n",
    "        idx += 1"
   ]
  },
  {
   "cell_type": "code",
   "execution_count": 119,
   "metadata": {
    "execution": {
     "iopub.execute_input": "2023-04-28T20:08:25.722460Z",
     "iopub.status.busy": "2023-04-28T20:08:25.722102Z",
     "iopub.status.idle": "2023-04-28T20:08:26.729050Z",
     "shell.execute_reply": "2023-04-28T20:08:26.727053Z",
     "shell.execute_reply.started": "2023-04-28T20:08:25.722425Z"
    }
   },
   "outputs": [
    {
     "data": {
      "image/png": "[encoded data removed]",
      "text/plain": [
       "<Figure size 720x216 with 3 Axes>"
      ]
     },
     "metadata": {},
     "output_type": "display_data"
    }
   ],
   "source": [
    "# Построим гистограммы числовых признаков\n",
    "fig, (ax1, ax2, ax3) = plt.subplots(1,3, figsize=(10, 3), tight_layout=True, sharey=True)\n",
    "sns.histplot(df[['ClientPeriod']], ax=ax1)\n",
    "ax1.set_ylabel('Число клиентов')\n",
    "ax1.set_xlabel('Срок использования услуг в мес.')\n",
    "\n",
    "sns.histplot(df[['MonthlySpending']], ax=ax2)\n",
    "ax2.set_ylabel('Число клиентов')\n",
    "ax2.set_xlabel('Ежемесячные траты в USD')\n",
    "\n",
    "sns.histplot(df[['TotalSpent']], ax=ax3)\n",
    "ax3.set_ylabel('Число клиентов')\n",
    "ax3.set_xlabel('Всего потрачено в USD')\n",
    "\n",
    "plt.show()"
   ]
  },
  {
   "cell_type": "code",
   "execution_count": 28,
   "metadata": {
    "execution": {
     "iopub.execute_input": "2023-04-28T20:08:26.731882Z",
     "iopub.status.busy": "2023-04-28T20:08:26.731431Z",
     "iopub.status.idle": "2023-04-28T20:08:27.211335Z",
     "shell.execute_reply": "2023-04-28T20:08:27.209893Z",
     "shell.execute_reply.started": "2023-04-28T20:08:26.731845Z"
    }
   },
   "outputs": [
    {
     "name": "stderr",
     "output_type": "stream",
     "text": [
      "/home/clou/anaconda3/lib/python3.9/site-packages/seaborn/_decorators.py:36: FutureWarning: Pass the following variable as a keyword arg: x. From version 0.12, the only valid positional argument will be `data`, and passing other arguments without an explicit keyword will result in an error or misinterpretation.\n",
      "  warnings.warn(\n",
      "/home/clou/anaconda3/lib/python3.9/site-packages/seaborn/_decorators.py:36: FutureWarning: Pass the following variable as a keyword arg: x. From version 0.12, the only valid positional argument will be `data`, and passing other arguments without an explicit keyword will result in an error or misinterpretation.\n",
      "  warnings.warn(\n",
      "/home/clou/anaconda3/lib/python3.9/site-packages/seaborn/_decorators.py:36: FutureWarning: Pass the following variable as a keyword arg: x. From version 0.12, the only valid positional argument will be `data`, and passing other arguments without an explicit keyword will result in an error or misinterpretation.\n",
      "  warnings.warn(\n"
     ]
    },
    {
     "data": {
      "image/png": "[encoded data removed]",
      "text/plain": [
       "<Figure size 720x216 with 3 Axes>"
      ]
     },
     "metadata": {},
     "output_type": "display_data"
    }
   ],
   "source": [
    "# Диаграммы размаха числовых признаков\n",
    "fig, (ax1, ax2, ax3) = plt.subplots(1,3, figsize=(10, 3), tight_layout=True)\n",
    "sns.boxplot(df['ClientPeriod'], ax=ax1)\n",
    "ax1.set_title('Срок использования услуг')\n",
    "ax1.set_ylabel('Число месяцев')\n",
    "\n",
    "sns.boxplot(df['MonthlySpending'], ax=ax2)\n",
    "ax2.set_title('Ежемесячные траты')\n",
    "ax2.set_ylabel('USD')\n",
    "\n",
    "sns.boxplot(df['TotalSpent'], ax=ax3)\n",
    "ax3.set_title('Всего потрачено')\n",
    "ax3.set_ylabel('USD')\n",
    "\n",
    "plt.show()"
   ]
  },
  {
   "cell_type": "code",
   "execution_count": 29,
   "metadata": {
    "execution": {
     "iopub.execute_input": "2023-04-28T20:08:27.213390Z",
     "iopub.status.busy": "2023-04-28T20:08:27.213030Z",
     "iopub.status.idle": "2023-04-28T20:08:27.886781Z",
     "shell.execute_reply": "2023-04-28T20:08:27.885145Z",
     "shell.execute_reply.started": "2023-04-28T20:08:27.213354Z"
    }
   },
   "outputs": [
    {
     "data": {
      "image/png": "[encoded data removed]",
      "text/plain": [
       "<Figure size 720x288 with 3 Axes>"
      ]
     },
     "metadata": {},
     "output_type": "display_data"
    }
   ],
   "source": [
    "# Диаграммы размаха числовых признаков и целевой переменной\n",
    "fig, (ax1, ax2, ax3) = plt.subplots(1, 3, figsize=(10, 4), tight_layout=True)\n",
    "sns.boxplot(x='Churn', y='ClientPeriod', data=df, ax=ax1)\n",
    "sns.boxplot(x='Churn', y='MonthlySpending', data=df, ax=ax2)\n",
    "sns.boxplot(x='Churn', y='TotalSpent', data=df, ax=ax3);"
   ]
  },
  {
   "cell_type": "code",
   "execution_count": 30,
   "metadata": {
    "execution": {
     "iopub.execute_input": "2023-04-28T20:08:27.892038Z",
     "iopub.status.busy": "2023-04-28T20:08:27.891558Z",
     "iopub.status.idle": "2023-04-28T20:08:30.219506Z",
     "shell.execute_reply": "2023-04-28T20:08:30.217627Z",
     "shell.execute_reply.started": "2023-04-28T20:08:27.891995Z"
    }
   },
   "outputs": [
    {
     "data": {
      "image/png": "[encoded data removed]",
      "text/plain": [
       "<Figure size 720x288 with 3 Axes>"
      ]
     },
     "metadata": {},
     "output_type": "display_data"
    }
   ],
   "source": [
    "# Точечные диаграммы числовых признаков и целевой переменной\n",
    "fig, (ax1, ax2, ax3) = plt.subplots(1, 3, figsize=(10, 4), tight_layout=True)\n",
    "sns.scatterplot(x='ClientPeriod', y='MonthlySpending', hue='Churn', data=df, ax=ax1)\n",
    "sns.scatterplot(x='ClientPeriod', y='TotalSpent', hue='Churn', data=df, ax=ax2)\n",
    "sns.scatterplot(x='MonthlySpending', y='TotalSpent', hue='Churn', data=df, ax=ax3);"
   ]
  },
  {
   "cell_type": "markdown",
   "metadata": {},
   "source": [
    "# Создание новых признаков"
   ]
  },
  {
   "cell_type": "code",
   "execution_count": 31,
   "metadata": {
    "execution": {
     "iopub.execute_input": "2023-04-28T20:08:30.222421Z",
     "iopub.status.busy": "2023-04-28T20:08:30.222017Z",
     "iopub.status.idle": "2023-04-28T20:08:30.236753Z",
     "shell.execute_reply": "2023-04-28T20:08:30.235216Z",
     "shell.execute_reply.started": "2023-04-28T20:08:30.222384Z"
    }
   },
   "outputs": [],
   "source": [
    "features_built = False\n",
    "def feature_engineering(df):\n",
    "    global features_built\n",
    "    \n",
    "    # Клиент владеет несколькими пакетами услуг\n",
    "    def services_score(row):\n",
    "        if 'Yes' in row or 'Fiber optic' in row or 'DSL' in row:\n",
    "            return True\n",
    "        else:\n",
    "            return False\n",
    "\n",
    "    services = [\n",
    "        'HasPhoneService',\n",
    "        'HasInternetService', \n",
    "        'HasOnlineTV',\n",
    "        'HasMultiplePhoneNumbers',\n",
    "    ]\n",
    "\n",
    "    services_scored = df[services].applymap(services_score).sum(axis=1)\n",
    "    df['HasMultipleServices'] = (services_scored >= 2)\n",
    "    df['HasMultipleServices'] = df['HasMultipleServices'].astype('int64')\n",
    "\n",
    "    # Клиент подписан на дополнительные услуги\n",
    "    subscriptions = [\n",
    "        'HasOnlineSecurityService',\n",
    "        'HasOnlineBackup',\n",
    "        'HasDeviceProtection', \n",
    "        'HasTechSupportAccess',\n",
    "        'HasMovieSubscription'\n",
    "    ]\n",
    "\n",
    "    subs_scored = df[subscriptions].applymap(services_score).sum(axis=1)\n",
    "    df['HasMultipleSubscriptions'] = (subs_scored >= 2)\n",
    "    df['HasMultipleSubscriptions'] = df['HasMultipleSubscriptions'].astype('int64')\n",
    "\n",
    "    # Клиент состоит в отношениях и имеет ребенка\n",
    "    df['HasPartnerAndChild'] = (df['HasPartner'] == 'Yes') & (df['HasChild'] == 'Yes')\n",
    "    df['HasPartnerAndChild'] = df['HasPartnerAndChild'].astype('int64')\n",
    "\n",
    "    # Отношение ежемесячных платежей к общим тратам на услуги компании\n",
    "    df['MonthlyToTotalRatio'] = df['MonthlySpending'] / df['TotalSpent']\n",
    "    \n",
    "    # Отношение периода к ежемесячным тратам\n",
    "    df['PeriodToMonthlyRatio'] = df['ClientPeriod'] / df['MonthlySpending']\n",
    "    \n",
    "    # Обновляем списки названий столбцов\n",
    "    new_num = ['MonthlyToTotalRatio', 'PeriodToMonthlyRatio']\n",
    "    new_cat = ['HasPartnerAndChild', 'HasMultipleServices', 'HasMultipleSubscriptions']\n",
    "    \n",
    "    # Эти фичи будем добавлять и к test.csv, но их названия в списках не дублируем \n",
    "    if not features_built:\n",
    "        global num_cols, cat_cols\n",
    "        num_cols += new_num\n",
    "        cat_cols += new_cat\n",
    "\n",
    "        features_built = True\n",
    "    return df"
   ]
  },
  {
   "cell_type": "code",
   "execution_count": 32,
   "metadata": {
    "execution": {
     "iopub.execute_input": "2023-04-28T20:08:30.239797Z",
     "iopub.status.busy": "2023-04-28T20:08:30.239322Z",
     "iopub.status.idle": "2023-04-28T20:08:30.314792Z",
     "shell.execute_reply": "2023-04-28T20:08:30.313004Z",
     "shell.execute_reply.started": "2023-04-28T20:08:30.239756Z"
    }
   },
   "outputs": [
    {
     "data": {
      "text/html": [
       "<div>\n",
       "<style scoped>\n",
       "    .dataframe tbody tr th:only-of-type {\n",
       "        vertical-align: middle;\n",
       "    }\n",
       "\n",
       "    .dataframe tbody tr th {\n",
       "        vertical-align: top;\n",
       "    }\n",
       "\n",
       "    .dataframe thead th {\n",
       "        text-align: right;\n",
       "    }\n",
       "</style>\n",
       "<table border=\"1\" class=\"dataframe\">\n",
       "  <thead>\n",
       "    <tr style=\"text-align: right;\">\n",
       "      <th></th>\n",
       "      <th>ClientPeriod</th>\n",
       "      <th>MonthlySpending</th>\n",
       "      <th>TotalSpent</th>\n",
       "      <th>Sex</th>\n",
       "      <th>IsSeniorCitizen</th>\n",
       "      <th>HasPartner</th>\n",
       "      <th>HasChild</th>\n",
       "      <th>HasPhoneService</th>\n",
       "      <th>HasMultiplePhoneNumbers</th>\n",
       "      <th>HasInternetService</th>\n",
       "      <th>...</th>\n",
       "      <th>HasMovieSubscription</th>\n",
       "      <th>HasContractPhone</th>\n",
       "      <th>IsBillingPaperless</th>\n",
       "      <th>PaymentMethod</th>\n",
       "      <th>Churn</th>\n",
       "      <th>HasMultipleServices</th>\n",
       "      <th>HasMultipleSubscriptions</th>\n",
       "      <th>HasPartnerAndChild</th>\n",
       "      <th>MonthlyToTotalRatio</th>\n",
       "      <th>PeriodToMonthlyRatio</th>\n",
       "    </tr>\n",
       "  </thead>\n",
       "  <tbody>\n",
       "    <tr>\n",
       "      <th>0</th>\n",
       "      <td>55.0</td>\n",
       "      <td>19.50</td>\n",
       "      <td>1026.35</td>\n",
       "      <td>Male</td>\n",
       "      <td>0</td>\n",
       "      <td>Yes</td>\n",
       "      <td>Yes</td>\n",
       "      <td>Yes</td>\n",
       "      <td>No</td>\n",
       "      <td>No</td>\n",
       "      <td>...</td>\n",
       "      <td>No internet service</td>\n",
       "      <td>One year</td>\n",
       "      <td>No</td>\n",
       "      <td>Mailed check</td>\n",
       "      <td>0</td>\n",
       "      <td>0</td>\n",
       "      <td>0</td>\n",
       "      <td>1</td>\n",
       "      <td>0.018999</td>\n",
       "      <td>2.820513</td>\n",
       "    </tr>\n",
       "    <tr>\n",
       "      <th>1</th>\n",
       "      <td>72.0</td>\n",
       "      <td>25.85</td>\n",
       "      <td>1872.20</td>\n",
       "      <td>Male</td>\n",
       "      <td>0</td>\n",
       "      <td>Yes</td>\n",
       "      <td>No</td>\n",
       "      <td>Yes</td>\n",
       "      <td>Yes</td>\n",
       "      <td>No</td>\n",
       "      <td>...</td>\n",
       "      <td>No internet service</td>\n",
       "      <td>Two year</td>\n",
       "      <td>No</td>\n",
       "      <td>Credit card (automatic)</td>\n",
       "      <td>0</td>\n",
       "      <td>1</td>\n",
       "      <td>0</td>\n",
       "      <td>0</td>\n",
       "      <td>0.013807</td>\n",
       "      <td>2.785300</td>\n",
       "    </tr>\n",
       "    <tr>\n",
       "      <th>2</th>\n",
       "      <td>1.0</td>\n",
       "      <td>75.90</td>\n",
       "      <td>75.90</td>\n",
       "      <td>Male</td>\n",
       "      <td>0</td>\n",
       "      <td>No</td>\n",
       "      <td>No</td>\n",
       "      <td>Yes</td>\n",
       "      <td>No</td>\n",
       "      <td>Fiber optic</td>\n",
       "      <td>...</td>\n",
       "      <td>No</td>\n",
       "      <td>Month-to-month</td>\n",
       "      <td>Yes</td>\n",
       "      <td>Electronic check</td>\n",
       "      <td>1</td>\n",
       "      <td>1</td>\n",
       "      <td>0</td>\n",
       "      <td>0</td>\n",
       "      <td>1.000000</td>\n",
       "      <td>0.013175</td>\n",
       "    </tr>\n",
       "    <tr>\n",
       "      <th>3</th>\n",
       "      <td>32.0</td>\n",
       "      <td>79.30</td>\n",
       "      <td>2570.00</td>\n",
       "      <td>Female</td>\n",
       "      <td>1</td>\n",
       "      <td>Yes</td>\n",
       "      <td>No</td>\n",
       "      <td>Yes</td>\n",
       "      <td>Yes</td>\n",
       "      <td>Fiber optic</td>\n",
       "      <td>...</td>\n",
       "      <td>No</td>\n",
       "      <td>Month-to-month</td>\n",
       "      <td>No</td>\n",
       "      <td>Mailed check</td>\n",
       "      <td>0</td>\n",
       "      <td>1</td>\n",
       "      <td>0</td>\n",
       "      <td>0</td>\n",
       "      <td>0.030856</td>\n",
       "      <td>0.403531</td>\n",
       "    </tr>\n",
       "    <tr>\n",
       "      <th>4</th>\n",
       "      <td>60.0</td>\n",
       "      <td>115.25</td>\n",
       "      <td>6758.45</td>\n",
       "      <td>Female</td>\n",
       "      <td>0</td>\n",
       "      <td>Yes</td>\n",
       "      <td>Yes</td>\n",
       "      <td>Yes</td>\n",
       "      <td>Yes</td>\n",
       "      <td>Fiber optic</td>\n",
       "      <td>...</td>\n",
       "      <td>Yes</td>\n",
       "      <td>Two year</td>\n",
       "      <td>No</td>\n",
       "      <td>Credit card (automatic)</td>\n",
       "      <td>0</td>\n",
       "      <td>1</td>\n",
       "      <td>1</td>\n",
       "      <td>1</td>\n",
       "      <td>0.017053</td>\n",
       "      <td>0.520607</td>\n",
       "    </tr>\n",
       "  </tbody>\n",
       "</table>\n",
       "<p>5 rows × 25 columns</p>\n",
       "</div>"
      ],
      "text/plain": [
       "   ClientPeriod  MonthlySpending  TotalSpent     Sex  IsSeniorCitizen  \\\n",
       "0          55.0            19.50     1026.35    Male                0   \n",
       "1          72.0            25.85     1872.20    Male                0   \n",
       "2           1.0            75.90       75.90    Male                0   \n",
       "3          32.0            79.30     2570.00  Female                1   \n",
       "4          60.0           115.25     6758.45  Female                0   \n",
       "\n",
       "  HasPartner HasChild HasPhoneService HasMultiplePhoneNumbers  \\\n",
       "0        Yes      Yes             Yes                      No   \n",
       "1        Yes       No             Yes                     Yes   \n",
       "2         No       No             Yes                      No   \n",
       "3        Yes       No             Yes                     Yes   \n",
       "4        Yes      Yes             Yes                     Yes   \n",
       "\n",
       "  HasInternetService  ... HasMovieSubscription HasContractPhone  \\\n",
       "0                 No  ...  No internet service         One year   \n",
       "1                 No  ...  No internet service         Two year   \n",
       "2        Fiber optic  ...                   No   Month-to-month   \n",
       "3        Fiber optic  ...                   No   Month-to-month   \n",
       "4        Fiber optic  ...                  Yes         Two year   \n",
       "\n",
       "  IsBillingPaperless            PaymentMethod Churn HasMultipleServices  \\\n",
       "0                 No             Mailed check     0                   0   \n",
       "1                 No  Credit card (automatic)     0                   1   \n",
       "2                Yes         Electronic check     1                   1   \n",
       "3                 No             Mailed check     0                   1   \n",
       "4                 No  Credit card (automatic)     0                   1   \n",
       "\n",
       "  HasMultipleSubscriptions HasPartnerAndChild MonthlyToTotalRatio  \\\n",
       "0                        0                  1            0.018999   \n",
       "1                        0                  0            0.013807   \n",
       "2                        0                  0            1.000000   \n",
       "3                        0                  0            0.030856   \n",
       "4                        1                  1            0.017053   \n",
       "\n",
       "   PeriodToMonthlyRatio  \n",
       "0              2.820513  \n",
       "1              2.785300  \n",
       "2              0.013175  \n",
       "3              0.403531  \n",
       "4              0.520607  \n",
       "\n",
       "[5 rows x 25 columns]"
      ]
     },
     "execution_count": 32,
     "metadata": {},
     "output_type": "execute_result"
    }
   ],
   "source": [
    "# Добавляем фичи к набору данных\n",
    "df = feature_engineering(df)\n",
    "df.head()"
   ]
  },
  {
   "cell_type": "code",
   "execution_count": 33,
   "metadata": {
    "execution": {
     "iopub.execute_input": "2023-04-28T20:08:30.317145Z",
     "iopub.status.busy": "2023-04-28T20:08:30.316564Z",
     "iopub.status.idle": "2023-04-28T20:08:30.329692Z",
     "shell.execute_reply": "2023-04-28T20:08:30.328178Z",
     "shell.execute_reply.started": "2023-04-28T20:08:30.317097Z"
    }
   },
   "outputs": [
    {
     "data": {
      "text/plain": [
       "(5268, 25)"
      ]
     },
     "execution_count": 33,
     "metadata": {},
     "output_type": "execute_result"
    }
   ],
   "source": [
    "df.shape"
   ]
  },
  {
   "cell_type": "markdown",
   "metadata": {},
   "source": [
    "# Предварительная обработка данных"
   ]
  },
  {
   "cell_type": "code",
   "execution_count": 34,
   "metadata": {
    "execution": {
     "iopub.execute_input": "2023-04-28T20:08:30.338529Z",
     "iopub.status.busy": "2023-04-28T20:08:30.337900Z",
     "iopub.status.idle": "2023-04-28T20:08:30.347132Z",
     "shell.execute_reply": "2023-04-28T20:08:30.344960Z",
     "shell.execute_reply.started": "2023-04-28T20:08:30.338488Z"
    }
   },
   "outputs": [],
   "source": [
    "from sklearn.preprocessing import OneHotEncoder\n",
    "from sklearn.preprocessing import StandardScaler, RobustScaler"
   ]
  },
  {
   "cell_type": "code",
   "execution_count": 35,
   "metadata": {
    "execution": {
     "iopub.execute_input": "2023-04-28T20:08:30.349268Z",
     "iopub.status.busy": "2023-04-28T20:08:30.348753Z",
     "iopub.status.idle": "2023-04-28T20:08:30.360510Z",
     "shell.execute_reply": "2023-04-28T20:08:30.359335Z",
     "shell.execute_reply.started": "2023-04-28T20:08:30.349225Z"
    }
   },
   "outputs": [],
   "source": [
    "# Кодируем категориальные признаки\n",
    "enc = OneHotEncoder(sparse='False')"
   ]
  },
  {
   "cell_type": "code",
   "execution_count": 36,
   "metadata": {
    "execution": {
     "iopub.execute_input": "2023-04-28T20:08:30.363099Z",
     "iopub.status.busy": "2023-04-28T20:08:30.362507Z",
     "iopub.status.idle": "2023-04-28T20:08:30.390695Z",
     "shell.execute_reply": "2023-04-28T20:08:30.388473Z",
     "shell.execute_reply.started": "2023-04-28T20:08:30.363042Z"
    }
   },
   "outputs": [
    {
     "data": {
      "text/plain": [
       "OneHotEncoder(sparse='False')"
      ]
     },
     "execution_count": 36,
     "metadata": {},
     "output_type": "execute_result"
    }
   ],
   "source": [
    "enc.fit(df[cat_cols])"
   ]
  },
  {
   "cell_type": "code",
   "execution_count": 139,
   "metadata": {
    "execution": {
     "iopub.execute_input": "2023-04-28T20:08:30.393608Z",
     "iopub.status.busy": "2023-04-28T20:08:30.393077Z",
     "iopub.status.idle": "2023-04-28T20:08:30.469875Z",
     "shell.execute_reply": "2023-04-28T20:08:30.468237Z",
     "shell.execute_reply.started": "2023-04-28T20:08:30.393565Z"
    }
   },
   "outputs": [
    {
     "name": "stdout",
     "output_type": "stream",
     "text": [
      "(5268, 49)\n"
     ]
    },
    {
     "data": {
      "text/html": [
       "<div>\n",
       "<style scoped>\n",
       "    .dataframe tbody tr th:only-of-type {\n",
       "        vertical-align: middle;\n",
       "    }\n",
       "\n",
       "    .dataframe tbody tr th {\n",
       "        vertical-align: top;\n",
       "    }\n",
       "\n",
       "    .dataframe thead th {\n",
       "        text-align: right;\n",
       "    }\n",
       "</style>\n",
       "<table border=\"1\" class=\"dataframe\">\n",
       "  <thead>\n",
       "    <tr style=\"text-align: right;\">\n",
       "      <th></th>\n",
       "      <th>x0_Female</th>\n",
       "      <th>x0_Male</th>\n",
       "      <th>x1_0</th>\n",
       "      <th>x1_1</th>\n",
       "      <th>x2_No</th>\n",
       "      <th>x2_Yes</th>\n",
       "      <th>x3_No</th>\n",
       "      <th>x3_Yes</th>\n",
       "      <th>x4_No</th>\n",
       "      <th>x4_Yes</th>\n",
       "      <th>...</th>\n",
       "      <th>x15_Bank transfer (automatic)</th>\n",
       "      <th>x15_Credit card (automatic)</th>\n",
       "      <th>x15_Electronic check</th>\n",
       "      <th>x15_Mailed check</th>\n",
       "      <th>x16_0</th>\n",
       "      <th>x16_1</th>\n",
       "      <th>x17_0</th>\n",
       "      <th>x17_1</th>\n",
       "      <th>x18_0</th>\n",
       "      <th>x18_1</th>\n",
       "    </tr>\n",
       "  </thead>\n",
       "  <tbody>\n",
       "    <tr>\n",
       "      <th>0</th>\n",
       "      <td>0.0</td>\n",
       "      <td>1.0</td>\n",
       "      <td>1.0</td>\n",
       "      <td>0.0</td>\n",
       "      <td>0.0</td>\n",
       "      <td>1.0</td>\n",
       "      <td>0.0</td>\n",
       "      <td>1.0</td>\n",
       "      <td>0.0</td>\n",
       "      <td>1.0</td>\n",
       "      <td>...</td>\n",
       "      <td>0.0</td>\n",
       "      <td>0.0</td>\n",
       "      <td>0.0</td>\n",
       "      <td>1.0</td>\n",
       "      <td>0.0</td>\n",
       "      <td>1.0</td>\n",
       "      <td>1.0</td>\n",
       "      <td>0.0</td>\n",
       "      <td>1.0</td>\n",
       "      <td>0.0</td>\n",
       "    </tr>\n",
       "    <tr>\n",
       "      <th>1</th>\n",
       "      <td>0.0</td>\n",
       "      <td>1.0</td>\n",
       "      <td>1.0</td>\n",
       "      <td>0.0</td>\n",
       "      <td>0.0</td>\n",
       "      <td>1.0</td>\n",
       "      <td>1.0</td>\n",
       "      <td>0.0</td>\n",
       "      <td>0.0</td>\n",
       "      <td>1.0</td>\n",
       "      <td>...</td>\n",
       "      <td>0.0</td>\n",
       "      <td>1.0</td>\n",
       "      <td>0.0</td>\n",
       "      <td>0.0</td>\n",
       "      <td>1.0</td>\n",
       "      <td>0.0</td>\n",
       "      <td>0.0</td>\n",
       "      <td>1.0</td>\n",
       "      <td>1.0</td>\n",
       "      <td>0.0</td>\n",
       "    </tr>\n",
       "    <tr>\n",
       "      <th>2</th>\n",
       "      <td>0.0</td>\n",
       "      <td>1.0</td>\n",
       "      <td>1.0</td>\n",
       "      <td>0.0</td>\n",
       "      <td>1.0</td>\n",
       "      <td>0.0</td>\n",
       "      <td>1.0</td>\n",
       "      <td>0.0</td>\n",
       "      <td>0.0</td>\n",
       "      <td>1.0</td>\n",
       "      <td>...</td>\n",
       "      <td>0.0</td>\n",
       "      <td>0.0</td>\n",
       "      <td>1.0</td>\n",
       "      <td>0.0</td>\n",
       "      <td>1.0</td>\n",
       "      <td>0.0</td>\n",
       "      <td>0.0</td>\n",
       "      <td>1.0</td>\n",
       "      <td>1.0</td>\n",
       "      <td>0.0</td>\n",
       "    </tr>\n",
       "    <tr>\n",
       "      <th>3</th>\n",
       "      <td>1.0</td>\n",
       "      <td>0.0</td>\n",
       "      <td>0.0</td>\n",
       "      <td>1.0</td>\n",
       "      <td>0.0</td>\n",
       "      <td>1.0</td>\n",
       "      <td>1.0</td>\n",
       "      <td>0.0</td>\n",
       "      <td>0.0</td>\n",
       "      <td>1.0</td>\n",
       "      <td>...</td>\n",
       "      <td>0.0</td>\n",
       "      <td>0.0</td>\n",
       "      <td>0.0</td>\n",
       "      <td>1.0</td>\n",
       "      <td>1.0</td>\n",
       "      <td>0.0</td>\n",
       "      <td>0.0</td>\n",
       "      <td>1.0</td>\n",
       "      <td>1.0</td>\n",
       "      <td>0.0</td>\n",
       "    </tr>\n",
       "    <tr>\n",
       "      <th>4</th>\n",
       "      <td>1.0</td>\n",
       "      <td>0.0</td>\n",
       "      <td>1.0</td>\n",
       "      <td>0.0</td>\n",
       "      <td>0.0</td>\n",
       "      <td>1.0</td>\n",
       "      <td>0.0</td>\n",
       "      <td>1.0</td>\n",
       "      <td>0.0</td>\n",
       "      <td>1.0</td>\n",
       "      <td>...</td>\n",
       "      <td>0.0</td>\n",
       "      <td>1.0</td>\n",
       "      <td>0.0</td>\n",
       "      <td>0.0</td>\n",
       "      <td>0.0</td>\n",
       "      <td>1.0</td>\n",
       "      <td>0.0</td>\n",
       "      <td>1.0</td>\n",
       "      <td>0.0</td>\n",
       "      <td>1.0</td>\n",
       "    </tr>\n",
       "  </tbody>\n",
       "</table>\n",
       "<p>5 rows × 49 columns</p>\n",
       "</div>"
      ],
      "text/plain": [
       "   x0_Female  x0_Male  x1_0  x1_1  x2_No  x2_Yes  x3_No  x3_Yes  x4_No  \\\n",
       "0        0.0      1.0   1.0   0.0    0.0     1.0    0.0     1.0    0.0   \n",
       "1        0.0      1.0   1.0   0.0    0.0     1.0    1.0     0.0    0.0   \n",
       "2        0.0      1.0   1.0   0.0    1.0     0.0    1.0     0.0    0.0   \n",
       "3        1.0      0.0   0.0   1.0    0.0     1.0    1.0     0.0    0.0   \n",
       "4        1.0      0.0   1.0   0.0    0.0     1.0    0.0     1.0    0.0   \n",
       "\n",
       "   x4_Yes  ...  x15_Bank transfer (automatic)  x15_Credit card (automatic)  \\\n",
       "0     1.0  ...                            0.0                          0.0   \n",
       "1     1.0  ...                            0.0                          1.0   \n",
       "2     1.0  ...                            0.0                          0.0   \n",
       "3     1.0  ...                            0.0                          0.0   \n",
       "4     1.0  ...                            0.0                          1.0   \n",
       "\n",
       "   x15_Electronic check  x15_Mailed check  x16_0  x16_1  x17_0  x17_1  x18_0  \\\n",
       "0                   0.0               1.0    0.0    1.0    1.0    0.0    1.0   \n",
       "1                   0.0               0.0    1.0    0.0    0.0    1.0    1.0   \n",
       "2                   1.0               0.0    1.0    0.0    0.0    1.0    1.0   \n",
       "3                   0.0               1.0    1.0    0.0    0.0    1.0    1.0   \n",
       "4                   0.0               0.0    0.0    1.0    0.0    1.0    0.0   \n",
       "\n",
       "   x18_1  \n",
       "0    0.0  \n",
       "1    0.0  \n",
       "2    0.0  \n",
       "3    0.0  \n",
       "4    1.0  \n",
       "\n",
       "[5 rows x 49 columns]"
      ]
     },
     "execution_count": 139,
     "metadata": {},
     "output_type": "execute_result"
    }
   ],
   "source": [
    "encoded = enc.transform(df[cat_cols]).toarray()\n",
    "encoded = pd.DataFrame(encoded, columns=enc.get_feature_names()).reset_index(drop=True) # get_feature_names_out()\n",
    "print(encoded.shape)\n",
    "encoded.head()"
   ]
  },
  {
   "cell_type": "code",
   "execution_count": 140,
   "metadata": {
    "execution": {
     "iopub.execute_input": "2023-04-28T20:08:30.472053Z",
     "iopub.status.busy": "2023-04-28T20:08:30.471539Z",
     "iopub.status.idle": "2023-04-28T20:08:30.487340Z",
     "shell.execute_reply": "2023-04-28T20:08:30.484911Z",
     "shell.execute_reply.started": "2023-04-28T20:08:30.471995Z"
    }
   },
   "outputs": [],
   "source": [
    "df = df.reset_index().drop(columns=['index'])"
   ]
  },
  {
   "cell_type": "code",
   "execution_count": 42,
   "metadata": {
    "execution": {
     "iopub.execute_input": "2023-04-28T20:08:30.492060Z",
     "iopub.status.busy": "2023-04-28T20:08:30.491577Z",
     "iopub.status.idle": "2023-04-28T20:08:30.502143Z",
     "shell.execute_reply": "2023-04-28T20:08:30.499929Z",
     "shell.execute_reply.started": "2023-04-28T20:08:30.492005Z"
    }
   },
   "outputs": [
    {
     "name": "stdout",
     "output_type": "stream",
     "text": [
      "Original df shape: (5268, 25)\n",
      "Encoded df shape: (5268, 49)\n"
     ]
    }
   ],
   "source": [
    "print('Original df shape:', df.shape)\n",
    "print('Encoded df shape:', encoded.shape)"
   ]
  },
  {
   "cell_type": "code",
   "execution_count": 43,
   "metadata": {
    "execution": {
     "iopub.execute_input": "2023-04-28T20:08:30.505852Z",
     "iopub.status.busy": "2023-04-28T20:08:30.505061Z",
     "iopub.status.idle": "2023-04-28T20:08:30.550887Z",
     "shell.execute_reply": "2023-04-28T20:08:30.549237Z",
     "shell.execute_reply.started": "2023-04-28T20:08:30.505777Z"
    }
   },
   "outputs": [
    {
     "name": "stdout",
     "output_type": "stream",
     "text": [
      "(5268, 55)\n"
     ]
    },
    {
     "data": {
      "text/html": [
       "<div>\n",
       "<style scoped>\n",
       "    .dataframe tbody tr th:only-of-type {\n",
       "        vertical-align: middle;\n",
       "    }\n",
       "\n",
       "    .dataframe tbody tr th {\n",
       "        vertical-align: top;\n",
       "    }\n",
       "\n",
       "    .dataframe thead th {\n",
       "        text-align: right;\n",
       "    }\n",
       "</style>\n",
       "<table border=\"1\" class=\"dataframe\">\n",
       "  <thead>\n",
       "    <tr style=\"text-align: right;\">\n",
       "      <th></th>\n",
       "      <th>ClientPeriod</th>\n",
       "      <th>MonthlySpending</th>\n",
       "      <th>TotalSpent</th>\n",
       "      <th>Churn</th>\n",
       "      <th>MonthlyToTotalRatio</th>\n",
       "      <th>PeriodToMonthlyRatio</th>\n",
       "      <th>x0_Female</th>\n",
       "      <th>x0_Male</th>\n",
       "      <th>x1_0</th>\n",
       "      <th>x1_1</th>\n",
       "      <th>...</th>\n",
       "      <th>x15_Bank transfer (automatic)</th>\n",
       "      <th>x15_Credit card (automatic)</th>\n",
       "      <th>x15_Electronic check</th>\n",
       "      <th>x15_Mailed check</th>\n",
       "      <th>x16_0</th>\n",
       "      <th>x16_1</th>\n",
       "      <th>x17_0</th>\n",
       "      <th>x17_1</th>\n",
       "      <th>x18_0</th>\n",
       "      <th>x18_1</th>\n",
       "    </tr>\n",
       "  </thead>\n",
       "  <tbody>\n",
       "    <tr>\n",
       "      <th>0</th>\n",
       "      <td>55.0</td>\n",
       "      <td>19.50</td>\n",
       "      <td>1026.35</td>\n",
       "      <td>0</td>\n",
       "      <td>0.018999</td>\n",
       "      <td>2.820513</td>\n",
       "      <td>0.0</td>\n",
       "      <td>1.0</td>\n",
       "      <td>1.0</td>\n",
       "      <td>0.0</td>\n",
       "      <td>...</td>\n",
       "      <td>0.0</td>\n",
       "      <td>0.0</td>\n",
       "      <td>0.0</td>\n",
       "      <td>1.0</td>\n",
       "      <td>0.0</td>\n",
       "      <td>1.0</td>\n",
       "      <td>1.0</td>\n",
       "      <td>0.0</td>\n",
       "      <td>1.0</td>\n",
       "      <td>0.0</td>\n",
       "    </tr>\n",
       "    <tr>\n",
       "      <th>1</th>\n",
       "      <td>72.0</td>\n",
       "      <td>25.85</td>\n",
       "      <td>1872.20</td>\n",
       "      <td>0</td>\n",
       "      <td>0.013807</td>\n",
       "      <td>2.785300</td>\n",
       "      <td>0.0</td>\n",
       "      <td>1.0</td>\n",
       "      <td>1.0</td>\n",
       "      <td>0.0</td>\n",
       "      <td>...</td>\n",
       "      <td>0.0</td>\n",
       "      <td>1.0</td>\n",
       "      <td>0.0</td>\n",
       "      <td>0.0</td>\n",
       "      <td>1.0</td>\n",
       "      <td>0.0</td>\n",
       "      <td>0.0</td>\n",
       "      <td>1.0</td>\n",
       "      <td>1.0</td>\n",
       "      <td>0.0</td>\n",
       "    </tr>\n",
       "    <tr>\n",
       "      <th>2</th>\n",
       "      <td>1.0</td>\n",
       "      <td>75.90</td>\n",
       "      <td>75.90</td>\n",
       "      <td>1</td>\n",
       "      <td>1.000000</td>\n",
       "      <td>0.013175</td>\n",
       "      <td>0.0</td>\n",
       "      <td>1.0</td>\n",
       "      <td>1.0</td>\n",
       "      <td>0.0</td>\n",
       "      <td>...</td>\n",
       "      <td>0.0</td>\n",
       "      <td>0.0</td>\n",
       "      <td>1.0</td>\n",
       "      <td>0.0</td>\n",
       "      <td>1.0</td>\n",
       "      <td>0.0</td>\n",
       "      <td>0.0</td>\n",
       "      <td>1.0</td>\n",
       "      <td>1.0</td>\n",
       "      <td>0.0</td>\n",
       "    </tr>\n",
       "    <tr>\n",
       "      <th>3</th>\n",
       "      <td>32.0</td>\n",
       "      <td>79.30</td>\n",
       "      <td>2570.00</td>\n",
       "      <td>0</td>\n",
       "      <td>0.030856</td>\n",
       "      <td>0.403531</td>\n",
       "      <td>1.0</td>\n",
       "      <td>0.0</td>\n",
       "      <td>0.0</td>\n",
       "      <td>1.0</td>\n",
       "      <td>...</td>\n",
       "      <td>0.0</td>\n",
       "      <td>0.0</td>\n",
       "      <td>0.0</td>\n",
       "      <td>1.0</td>\n",
       "      <td>1.0</td>\n",
       "      <td>0.0</td>\n",
       "      <td>0.0</td>\n",
       "      <td>1.0</td>\n",
       "      <td>1.0</td>\n",
       "      <td>0.0</td>\n",
       "    </tr>\n",
       "    <tr>\n",
       "      <th>4</th>\n",
       "      <td>60.0</td>\n",
       "      <td>115.25</td>\n",
       "      <td>6758.45</td>\n",
       "      <td>0</td>\n",
       "      <td>0.017053</td>\n",
       "      <td>0.520607</td>\n",
       "      <td>1.0</td>\n",
       "      <td>0.0</td>\n",
       "      <td>1.0</td>\n",
       "      <td>0.0</td>\n",
       "      <td>...</td>\n",
       "      <td>0.0</td>\n",
       "      <td>1.0</td>\n",
       "      <td>0.0</td>\n",
       "      <td>0.0</td>\n",
       "      <td>0.0</td>\n",
       "      <td>1.0</td>\n",
       "      <td>0.0</td>\n",
       "      <td>1.0</td>\n",
       "      <td>0.0</td>\n",
       "      <td>1.0</td>\n",
       "    </tr>\n",
       "  </tbody>\n",
       "</table>\n",
       "<p>5 rows × 55 columns</p>\n",
       "</div>"
      ],
      "text/plain": [
       "   ClientPeriod  MonthlySpending  TotalSpent  Churn  MonthlyToTotalRatio  \\\n",
       "0          55.0            19.50     1026.35      0             0.018999   \n",
       "1          72.0            25.85     1872.20      0             0.013807   \n",
       "2           1.0            75.90       75.90      1             1.000000   \n",
       "3          32.0            79.30     2570.00      0             0.030856   \n",
       "4          60.0           115.25     6758.45      0             0.017053   \n",
       "\n",
       "   PeriodToMonthlyRatio  x0_Female  x0_Male  x1_0  x1_1  ...  \\\n",
       "0              2.820513        0.0      1.0   1.0   0.0  ...   \n",
       "1              2.785300        0.0      1.0   1.0   0.0  ...   \n",
       "2              0.013175        0.0      1.0   1.0   0.0  ...   \n",
       "3              0.403531        1.0      0.0   0.0   1.0  ...   \n",
       "4              0.520607        1.0      0.0   1.0   0.0  ...   \n",
       "\n",
       "   x15_Bank transfer (automatic)  x15_Credit card (automatic)  \\\n",
       "0                            0.0                          0.0   \n",
       "1                            0.0                          1.0   \n",
       "2                            0.0                          0.0   \n",
       "3                            0.0                          0.0   \n",
       "4                            0.0                          1.0   \n",
       "\n",
       "   x15_Electronic check  x15_Mailed check  x16_0  x16_1  x17_0  x17_1  x18_0  \\\n",
       "0                   0.0               1.0    0.0    1.0    1.0    0.0    1.0   \n",
       "1                   0.0               0.0    1.0    0.0    0.0    1.0    1.0   \n",
       "2                   1.0               0.0    1.0    0.0    0.0    1.0    1.0   \n",
       "3                   0.0               1.0    1.0    0.0    0.0    1.0    1.0   \n",
       "4                   0.0               0.0    0.0    1.0    0.0    1.0    0.0   \n",
       "\n",
       "   x18_1  \n",
       "0    0.0  \n",
       "1    0.0  \n",
       "2    0.0  \n",
       "3    0.0  \n",
       "4    1.0  \n",
       "\n",
       "[5 rows x 55 columns]"
      ]
     },
     "execution_count": 43,
     "metadata": {},
     "output_type": "execute_result"
    }
   ],
   "source": [
    "df_encoded = pd.concat((df.drop(columns=cat_cols), encoded), axis=1)\n",
    "print(df_encoded.shape)\n",
    "df_encoded.head()"
   ]
  },
  {
   "cell_type": "code",
   "execution_count": 44,
   "metadata": {
    "execution": {
     "iopub.execute_input": "2023-04-28T20:08:30.552922Z",
     "iopub.status.busy": "2023-04-28T20:08:30.552516Z",
     "iopub.status.idle": "2023-04-28T20:08:30.586993Z",
     "shell.execute_reply": "2023-04-28T20:08:30.584693Z",
     "shell.execute_reply.started": "2023-04-28T20:08:30.552884Z"
    }
   },
   "outputs": [
    {
     "name": "stdout",
     "output_type": "stream",
     "text": [
      "(5268, 5)\n"
     ]
    },
    {
     "data": {
      "text/html": [
       "<div>\n",
       "<style scoped>\n",
       "    .dataframe tbody tr th:only-of-type {\n",
       "        vertical-align: middle;\n",
       "    }\n",
       "\n",
       "    .dataframe tbody tr th {\n",
       "        vertical-align: top;\n",
       "    }\n",
       "\n",
       "    .dataframe thead th {\n",
       "        text-align: right;\n",
       "    }\n",
       "</style>\n",
       "<table border=\"1\" class=\"dataframe\">\n",
       "  <thead>\n",
       "    <tr style=\"text-align: right;\">\n",
       "      <th></th>\n",
       "      <th>ClientPeriod</th>\n",
       "      <th>MonthlySpending</th>\n",
       "      <th>TotalSpent</th>\n",
       "      <th>MonthlyToTotalRatio</th>\n",
       "      <th>PeriodToMonthlyRatio</th>\n",
       "    </tr>\n",
       "  </thead>\n",
       "  <tbody>\n",
       "    <tr>\n",
       "      <th>0</th>\n",
       "      <td>0.565217</td>\n",
       "      <td>-0.934648</td>\n",
       "      <td>-0.113056</td>\n",
       "      <td>-0.165633</td>\n",
       "      <td>3.740210</td>\n",
       "    </tr>\n",
       "    <tr>\n",
       "      <th>1</th>\n",
       "      <td>0.934783</td>\n",
       "      <td>-0.818161</td>\n",
       "      <td>0.135233</td>\n",
       "      <td>-0.220869</td>\n",
       "      <td>3.684326</td>\n",
       "    </tr>\n",
       "    <tr>\n",
       "      <th>2</th>\n",
       "      <td>-0.608696</td>\n",
       "      <td>0.099977</td>\n",
       "      <td>-0.392050</td>\n",
       "      <td>10.270653</td>\n",
       "      <td>-0.715115</td>\n",
       "    </tr>\n",
       "    <tr>\n",
       "      <th>3</th>\n",
       "      <td>0.065217</td>\n",
       "      <td>0.162348</td>\n",
       "      <td>0.340064</td>\n",
       "      <td>-0.039497</td>\n",
       "      <td>-0.095609</td>\n",
       "    </tr>\n",
       "    <tr>\n",
       "      <th>4</th>\n",
       "      <td>0.673913</td>\n",
       "      <td>0.821830</td>\n",
       "      <td>1.569534</td>\n",
       "      <td>-0.186342</td>\n",
       "      <td>0.090195</td>\n",
       "    </tr>\n",
       "  </tbody>\n",
       "</table>\n",
       "</div>"
      ],
      "text/plain": [
       "   ClientPeriod  MonthlySpending  TotalSpent  MonthlyToTotalRatio  \\\n",
       "0      0.565217        -0.934648   -0.113056            -0.165633   \n",
       "1      0.934783        -0.818161    0.135233            -0.220869   \n",
       "2     -0.608696         0.099977   -0.392050            10.270653   \n",
       "3      0.065217         0.162348    0.340064            -0.039497   \n",
       "4      0.673913         0.821830    1.569534            -0.186342   \n",
       "\n",
       "   PeriodToMonthlyRatio  \n",
       "0              3.740210  \n",
       "1              3.684326  \n",
       "2             -0.715115  \n",
       "3             -0.095609  \n",
       "4              0.090195  "
      ]
     },
     "execution_count": 44,
     "metadata": {},
     "output_type": "execute_result"
    }
   ],
   "source": [
    "# Нормируем числовые признаки\n",
    "scaler = RobustScaler()\n",
    "feat_norm = scaler.fit_transform(df_encoded[num_cols])\n",
    "feat_norm = pd.DataFrame(feat_norm, columns=df_encoded[num_cols].columns)\n",
    "print(feat_norm.shape)\n",
    "feat_norm.head()"
   ]
  },
  {
   "cell_type": "code",
   "execution_count": 45,
   "metadata": {
    "execution": {
     "iopub.execute_input": "2023-04-28T20:08:30.589456Z",
     "iopub.status.busy": "2023-04-28T20:08:30.589045Z",
     "iopub.status.idle": "2023-04-28T20:08:30.632433Z",
     "shell.execute_reply": "2023-04-28T20:08:30.630786Z",
     "shell.execute_reply.started": "2023-04-28T20:08:30.589418Z"
    }
   },
   "outputs": [
    {
     "data": {
      "text/html": [
       "<div>\n",
       "<style scoped>\n",
       "    .dataframe tbody tr th:only-of-type {\n",
       "        vertical-align: middle;\n",
       "    }\n",
       "\n",
       "    .dataframe tbody tr th {\n",
       "        vertical-align: top;\n",
       "    }\n",
       "\n",
       "    .dataframe thead th {\n",
       "        text-align: right;\n",
       "    }\n",
       "</style>\n",
       "<table border=\"1\" class=\"dataframe\">\n",
       "  <thead>\n",
       "    <tr style=\"text-align: right;\">\n",
       "      <th></th>\n",
       "      <th>Churn</th>\n",
       "      <th>x0_Female</th>\n",
       "      <th>x0_Male</th>\n",
       "      <th>x1_0</th>\n",
       "      <th>x1_1</th>\n",
       "      <th>x2_No</th>\n",
       "      <th>x2_Yes</th>\n",
       "      <th>x3_No</th>\n",
       "      <th>x3_Yes</th>\n",
       "      <th>x4_No</th>\n",
       "      <th>...</th>\n",
       "      <th>x16_0</th>\n",
       "      <th>x16_1</th>\n",
       "      <th>x17_0</th>\n",
       "      <th>x17_1</th>\n",
       "      <th>x18_0</th>\n",
       "      <th>x18_1</th>\n",
       "      <th>ClientPeriod</th>\n",
       "      <th>MonthlySpending</th>\n",
       "      <th>MonthlyToTotalRatio</th>\n",
       "      <th>PeriodToMonthlyRatio</th>\n",
       "    </tr>\n",
       "  </thead>\n",
       "  <tbody>\n",
       "    <tr>\n",
       "      <th>0</th>\n",
       "      <td>0</td>\n",
       "      <td>0.0</td>\n",
       "      <td>1.0</td>\n",
       "      <td>1.0</td>\n",
       "      <td>0.0</td>\n",
       "      <td>0.0</td>\n",
       "      <td>1.0</td>\n",
       "      <td>0.0</td>\n",
       "      <td>1.0</td>\n",
       "      <td>0.0</td>\n",
       "      <td>...</td>\n",
       "      <td>0.0</td>\n",
       "      <td>1.0</td>\n",
       "      <td>1.0</td>\n",
       "      <td>0.0</td>\n",
       "      <td>1.0</td>\n",
       "      <td>0.0</td>\n",
       "      <td>0.565217</td>\n",
       "      <td>-0.934648</td>\n",
       "      <td>-0.165633</td>\n",
       "      <td>3.740210</td>\n",
       "    </tr>\n",
       "    <tr>\n",
       "      <th>1</th>\n",
       "      <td>0</td>\n",
       "      <td>0.0</td>\n",
       "      <td>1.0</td>\n",
       "      <td>1.0</td>\n",
       "      <td>0.0</td>\n",
       "      <td>0.0</td>\n",
       "      <td>1.0</td>\n",
       "      <td>1.0</td>\n",
       "      <td>0.0</td>\n",
       "      <td>0.0</td>\n",
       "      <td>...</td>\n",
       "      <td>1.0</td>\n",
       "      <td>0.0</td>\n",
       "      <td>0.0</td>\n",
       "      <td>1.0</td>\n",
       "      <td>1.0</td>\n",
       "      <td>0.0</td>\n",
       "      <td>0.934783</td>\n",
       "      <td>-0.818161</td>\n",
       "      <td>-0.220869</td>\n",
       "      <td>3.684326</td>\n",
       "    </tr>\n",
       "    <tr>\n",
       "      <th>2</th>\n",
       "      <td>1</td>\n",
       "      <td>0.0</td>\n",
       "      <td>1.0</td>\n",
       "      <td>1.0</td>\n",
       "      <td>0.0</td>\n",
       "      <td>1.0</td>\n",
       "      <td>0.0</td>\n",
       "      <td>1.0</td>\n",
       "      <td>0.0</td>\n",
       "      <td>0.0</td>\n",
       "      <td>...</td>\n",
       "      <td>1.0</td>\n",
       "      <td>0.0</td>\n",
       "      <td>0.0</td>\n",
       "      <td>1.0</td>\n",
       "      <td>1.0</td>\n",
       "      <td>0.0</td>\n",
       "      <td>-0.608696</td>\n",
       "      <td>0.099977</td>\n",
       "      <td>10.270653</td>\n",
       "      <td>-0.715115</td>\n",
       "    </tr>\n",
       "    <tr>\n",
       "      <th>3</th>\n",
       "      <td>0</td>\n",
       "      <td>1.0</td>\n",
       "      <td>0.0</td>\n",
       "      <td>0.0</td>\n",
       "      <td>1.0</td>\n",
       "      <td>0.0</td>\n",
       "      <td>1.0</td>\n",
       "      <td>1.0</td>\n",
       "      <td>0.0</td>\n",
       "      <td>0.0</td>\n",
       "      <td>...</td>\n",
       "      <td>1.0</td>\n",
       "      <td>0.0</td>\n",
       "      <td>0.0</td>\n",
       "      <td>1.0</td>\n",
       "      <td>1.0</td>\n",
       "      <td>0.0</td>\n",
       "      <td>0.065217</td>\n",
       "      <td>0.162348</td>\n",
       "      <td>-0.039497</td>\n",
       "      <td>-0.095609</td>\n",
       "    </tr>\n",
       "    <tr>\n",
       "      <th>4</th>\n",
       "      <td>0</td>\n",
       "      <td>1.0</td>\n",
       "      <td>0.0</td>\n",
       "      <td>1.0</td>\n",
       "      <td>0.0</td>\n",
       "      <td>0.0</td>\n",
       "      <td>1.0</td>\n",
       "      <td>0.0</td>\n",
       "      <td>1.0</td>\n",
       "      <td>0.0</td>\n",
       "      <td>...</td>\n",
       "      <td>0.0</td>\n",
       "      <td>1.0</td>\n",
       "      <td>0.0</td>\n",
       "      <td>1.0</td>\n",
       "      <td>0.0</td>\n",
       "      <td>1.0</td>\n",
       "      <td>0.673913</td>\n",
       "      <td>0.821830</td>\n",
       "      <td>-0.186342</td>\n",
       "      <td>0.090195</td>\n",
       "    </tr>\n",
       "  </tbody>\n",
       "</table>\n",
       "<p>5 rows × 54 columns</p>\n",
       "</div>"
      ],
      "text/plain": [
       "   Churn  x0_Female  x0_Male  x1_0  x1_1  x2_No  x2_Yes  x3_No  x3_Yes  x4_No  \\\n",
       "0      0        0.0      1.0   1.0   0.0    0.0     1.0    0.0     1.0    0.0   \n",
       "1      0        0.0      1.0   1.0   0.0    0.0     1.0    1.0     0.0    0.0   \n",
       "2      1        0.0      1.0   1.0   0.0    1.0     0.0    1.0     0.0    0.0   \n",
       "3      0        1.0      0.0   0.0   1.0    0.0     1.0    1.0     0.0    0.0   \n",
       "4      0        1.0      0.0   1.0   0.0    0.0     1.0    0.0     1.0    0.0   \n",
       "\n",
       "   ...  x16_0  x16_1  x17_0  x17_1  x18_0  x18_1  ClientPeriod  \\\n",
       "0  ...    0.0    1.0    1.0    0.0    1.0    0.0      0.565217   \n",
       "1  ...    1.0    0.0    0.0    1.0    1.0    0.0      0.934783   \n",
       "2  ...    1.0    0.0    0.0    1.0    1.0    0.0     -0.608696   \n",
       "3  ...    1.0    0.0    0.0    1.0    1.0    0.0      0.065217   \n",
       "4  ...    0.0    1.0    0.0    1.0    0.0    1.0      0.673913   \n",
       "\n",
       "   MonthlySpending  MonthlyToTotalRatio  PeriodToMonthlyRatio  \n",
       "0        -0.934648            -0.165633              3.740210  \n",
       "1        -0.818161            -0.220869              3.684326  \n",
       "2         0.099977            10.270653             -0.715115  \n",
       "3         0.162348            -0.039497             -0.095609  \n",
       "4         0.821830            -0.186342              0.090195  \n",
       "\n",
       "[5 rows x 54 columns]"
      ]
     },
     "execution_count": 45,
     "metadata": {},
     "output_type": "execute_result"
    }
   ],
   "source": [
    "df_norm = pd.concat((df_encoded.drop(columns=num_cols), feat_norm), axis=1)\n",
    "\n",
    "# удаляем, потому что он сильно кореллирует с другими признаками\n",
    "df_norm = df_norm.drop(columns=['TotalSpent']) \n",
    "df_norm.head()"
   ]
  },
  {
   "cell_type": "markdown",
   "metadata": {},
   "source": [
    "# Baseline модель"
   ]
  },
  {
   "cell_type": "code",
   "execution_count": 46,
   "metadata": {
    "execution": {
     "iopub.execute_input": "2023-04-28T20:08:30.635320Z",
     "iopub.status.busy": "2023-04-28T20:08:30.634748Z",
     "iopub.status.idle": "2023-04-28T20:08:30.645871Z",
     "shell.execute_reply": "2023-04-28T20:08:30.643923Z",
     "shell.execute_reply.started": "2023-04-28T20:08:30.635261Z"
    }
   },
   "outputs": [],
   "source": [
    "X = df_norm.drop(columns=target_col)\n",
    "y = df_norm[target_col]"
   ]
  },
  {
   "cell_type": "code",
   "execution_count": 47,
   "metadata": {
    "execution": {
     "iopub.execute_input": "2023-04-28T20:08:30.649169Z",
     "iopub.status.busy": "2023-04-28T20:08:30.648579Z",
     "iopub.status.idle": "2023-04-28T20:08:30.661265Z",
     "shell.execute_reply": "2023-04-28T20:08:30.660020Z",
     "shell.execute_reply.started": "2023-04-28T20:08:30.649111Z"
    }
   },
   "outputs": [],
   "source": [
    "from sklearn.linear_model import LogisticRegressionCV\n",
    "from sklearn.model_selection import train_test_split\n",
    "from sklearn.model_selection import cross_val_score\n",
    "from sklearn import svm"
   ]
  },
  {
   "cell_type": "code",
   "execution_count": 48,
   "metadata": {
    "execution": {
     "iopub.execute_input": "2023-04-28T20:08:30.663011Z",
     "iopub.status.busy": "2023-04-28T20:08:30.662589Z",
     "iopub.status.idle": "2023-04-28T20:09:01.733576Z",
     "shell.execute_reply": "2023-04-28T20:09:01.732160Z",
     "shell.execute_reply.started": "2023-04-28T20:08:30.662972Z"
    }
   },
   "outputs": [
    {
     "name": "stdout",
     "output_type": "stream",
     "text": [
      "0.8488499899411807 roc-auc, стандартное отклонение 0.012975138619044315.\n"
     ]
    }
   ],
   "source": [
    "model = LogisticRegressionCV(max_iter=250)\n",
    "scores = cross_val_score(model, X, y, cv=10, scoring='roc_auc')\n",
    "print(f'{scores.mean()} roc-auc, стандартное отклонение {scores.std()}.')"
   ]
  },
  {
   "cell_type": "code",
   "execution_count": 50,
   "metadata": {
    "execution": {
     "iopub.execute_input": "2023-04-28T20:09:01.736625Z",
     "iopub.status.busy": "2023-04-28T20:09:01.735327Z",
     "iopub.status.idle": "2023-04-28T20:09:01.748611Z",
     "shell.execute_reply": "2023-04-28T20:09:01.746575Z",
     "shell.execute_reply.started": "2023-04-28T20:09:01.736570Z"
    }
   },
   "outputs": [],
   "source": [
    "import numpy as np\n",
    "import pandas as pd\n",
    "import seaborn as sns\n",
    "from sklearn.model_selection import KFold\n",
    "from matplotlib import pyplot as plt\n",
    "from sklearn.metrics import accuracy_score\n",
    "from sklearn.model_selection import train_test_split\n",
    "from sklearn.neighbors import LocalOutlierFactor\n",
    "from sklearn.preprocessing import MinMaxScaler, LabelEncoder, StandardScaler, RobustScaler\n",
    "from sklearn.neighbors import KNeighborsClassifier\n",
    "from sklearn.svm import SVC\n",
    "from sklearn.tree import DecisionTreeClassifier\n",
    "from sklearn.ensemble import RandomForestClassifier\n",
    "from sklearn.ensemble import GradientBoostingClassifier\n",
    "#from xgboost import XGBClassifier\n",
    "#from lightgbm import LGBMClassifier\n",
    "from catboost import CatBoostClassifier\n",
    "from sklearn.linear_model import LogisticRegression"
   ]
  },
  {
   "cell_type": "code",
   "execution_count": 52,
   "metadata": {
    "execution": {
     "iopub.execute_input": "2023-04-28T20:09:01.751417Z",
     "iopub.status.busy": "2023-04-28T20:09:01.750571Z",
     "iopub.status.idle": "2023-04-28T20:09:01.774885Z",
     "shell.execute_reply": "2023-04-28T20:09:01.771703Z",
     "shell.execute_reply.started": "2023-04-28T20:09:01.751367Z"
    }
   },
   "outputs": [],
   "source": [
    "X_train, X_test, y_train, y_test = train_test_split(X, y, test_size=0.20, random_state=0)"
   ]
  },
  {
   "cell_type": "code",
   "execution_count": 51,
   "metadata": {
    "execution": {
     "iopub.execute_input": "2023-04-28T20:09:01.779674Z",
     "iopub.status.busy": "2023-04-28T20:09:01.778566Z",
     "iopub.status.idle": "2023-04-28T20:11:16.416797Z",
     "shell.execute_reply": "2023-04-28T20:11:16.415687Z",
     "shell.execute_reply.started": "2023-04-28T20:09:01.779610Z"
    }
   },
   "outputs": [
    {
     "name": "stdout",
     "output_type": "stream",
     "text": [
      "LR: 0.848528 (0.017890)\n",
      "KNN: 0.781488 (0.018254)\n",
      "CART: 0.653806 (0.021493)\n",
      "RF: 0.820322 (0.017149)\n",
      "SVR: 0.810104 (0.023842)\n",
      "GB: 0.842070 (0.018322)\n",
      "Catboost: 0.837600 (0.017917)\n"
     ]
    }
   ],
   "source": [
    "results = []\n",
    "names = []\n",
    "model_scores = {'model': [], 'roc_auc_score': [], 'std': []}\n",
    "models = [\n",
    "    ('LR', LogisticRegressionCV(max_iter=250, refit=True, random_state=1)),\n",
    "    ('KNN', KNeighborsClassifier()),\n",
    "    ('CART', DecisionTreeClassifier(random_state=1)),\n",
    "    ('RF', RandomForestClassifier(random_state=1)),\n",
    "    ('SVR', SVC(gamma='auto',random_state=1)),\n",
    "    ('GB', GradientBoostingClassifier(random_state=1)),\n",
    "    #('LightGBM', LGBMClassifier(random_state=1)),\n",
    "    ('Catboost', CatBoostClassifier(verbose=False))\n",
    "]\n",
    "\n",
    "for name, model in models:\n",
    "    kfold = KFold(n_splits=10, random_state=1, shuffle=True)\n",
    "    cv_results = cross_val_score(model, X, y, cv=kfold, scoring='roc_auc')\n",
    "    results.append(cv_results)\n",
    "    names.append(name)\n",
    "    msg = \"%s: %f (%f)\" % (name, cv_results.mean(), cv_results.std())\n",
    "    model_scores['model'].append(name)\n",
    "    model_scores['roc_auc_score'].append(cv_results.mean())\n",
    "    model_scores['std'].append(cv_results.std())\n",
    "    \n",
    "    print(msg)"
   ]
  },
  {
   "cell_type": "code",
   "execution_count": 53,
   "metadata": {
    "execution": {
     "iopub.execute_input": "2023-04-28T20:11:16.420231Z",
     "iopub.status.busy": "2023-04-28T20:11:16.418271Z",
     "iopub.status.idle": "2023-04-28T20:11:16.438828Z",
     "shell.execute_reply": "2023-04-28T20:11:16.436539Z",
     "shell.execute_reply.started": "2023-04-28T20:11:16.420162Z"
    }
   },
   "outputs": [
    {
     "data": {
      "text/html": [
       "<div>\n",
       "<style scoped>\n",
       "    .dataframe tbody tr th:only-of-type {\n",
       "        vertical-align: middle;\n",
       "    }\n",
       "\n",
       "    .dataframe tbody tr th {\n",
       "        vertical-align: top;\n",
       "    }\n",
       "\n",
       "    .dataframe thead th {\n",
       "        text-align: right;\n",
       "    }\n",
       "</style>\n",
       "<table border=\"1\" class=\"dataframe\">\n",
       "  <thead>\n",
       "    <tr style=\"text-align: right;\">\n",
       "      <th></th>\n",
       "      <th>model</th>\n",
       "      <th>roc_auc_score</th>\n",
       "      <th>std</th>\n",
       "    </tr>\n",
       "  </thead>\n",
       "  <tbody>\n",
       "    <tr>\n",
       "      <th>0</th>\n",
       "      <td>LR</td>\n",
       "      <td>0.848528</td>\n",
       "      <td>0.017890</td>\n",
       "    </tr>\n",
       "    <tr>\n",
       "      <th>1</th>\n",
       "      <td>GB</td>\n",
       "      <td>0.842070</td>\n",
       "      <td>0.018322</td>\n",
       "    </tr>\n",
       "    <tr>\n",
       "      <th>2</th>\n",
       "      <td>Catboost</td>\n",
       "      <td>0.837600</td>\n",
       "      <td>0.017917</td>\n",
       "    </tr>\n",
       "    <tr>\n",
       "      <th>3</th>\n",
       "      <td>RF</td>\n",
       "      <td>0.820322</td>\n",
       "      <td>0.017149</td>\n",
       "    </tr>\n",
       "    <tr>\n",
       "      <th>4</th>\n",
       "      <td>SVR</td>\n",
       "      <td>0.810104</td>\n",
       "      <td>0.023842</td>\n",
       "    </tr>\n",
       "    <tr>\n",
       "      <th>5</th>\n",
       "      <td>KNN</td>\n",
       "      <td>0.781488</td>\n",
       "      <td>0.018254</td>\n",
       "    </tr>\n",
       "    <tr>\n",
       "      <th>6</th>\n",
       "      <td>CART</td>\n",
       "      <td>0.653806</td>\n",
       "      <td>0.021493</td>\n",
       "    </tr>\n",
       "  </tbody>\n",
       "</table>\n",
       "</div>"
      ],
      "text/plain": [
       "      model  roc_auc_score       std\n",
       "0        LR       0.848528  0.017890\n",
       "1        GB       0.842070  0.018322\n",
       "2  Catboost       0.837600  0.017917\n",
       "3        RF       0.820322  0.017149\n",
       "4       SVR       0.810104  0.023842\n",
       "5       KNN       0.781488  0.018254\n",
       "6      CART       0.653806  0.021493"
      ]
     },
     "execution_count": 53,
     "metadata": {},
     "output_type": "execute_result"
    }
   ],
   "source": [
    "pd.DataFrame(model_scores).sort_values(by=['roc_auc_score'], ascending=False).reset_index(drop=True)"
   ]
  },
  {
   "cell_type": "code",
   "execution_count": 54,
   "metadata": {
    "execution": {
     "iopub.execute_input": "2023-04-28T20:11:27.015300Z",
     "iopub.status.busy": "2023-04-28T20:11:27.014760Z",
     "iopub.status.idle": "2023-04-28T20:11:29.721390Z",
     "shell.execute_reply": "2023-04-28T20:11:29.715503Z",
     "shell.execute_reply.started": "2023-04-28T20:11:27.015255Z"
    }
   },
   "outputs": [
    {
     "name": "stdout",
     "output_type": "stream",
     "text": [
      "[[694 121]\n",
      " [ 92 147]]\n"
     ]
    }
   ],
   "source": [
    "from sklearn.metrics import classification_report, confusion_matrix\n",
    "\n",
    "model = LogisticRegressionCV(max_iter=250, refit=True, random_state=0)\n",
    "model.fit(X_train, y_train)\n",
    "y_pred = model.predict(X_test)\n",
    "conf_mat = confusion_matrix(y_pred,y_test)\n",
    "print(conf_mat)"
   ]
  },
  {
   "cell_type": "code",
   "execution_count": 55,
   "metadata": {
    "execution": {
     "iopub.execute_input": "2023-04-28T20:11:29.726470Z",
     "iopub.status.busy": "2023-04-28T20:11:29.725264Z",
     "iopub.status.idle": "2023-04-28T20:11:29.741032Z",
     "shell.execute_reply": "2023-04-28T20:11:29.738977Z",
     "shell.execute_reply.started": "2023-04-28T20:11:29.726381Z"
    }
   },
   "outputs": [
    {
     "name": "stdout",
     "output_type": "stream",
     "text": [
      "True Positive :  147\n",
      "True Negative :  694\n",
      "False Positive:  121\n",
      "False Negative:  92\n"
     ]
    }
   ],
   "source": [
    "print(\"True Positive : \", conf_mat[1, 1])\n",
    "print(\"True Negative : \", conf_mat[0, 0])\n",
    "print(\"False Positive: \", conf_mat[0, 1])\n",
    "print(\"False Negative: \", conf_mat[1, 0])"
   ]
  },
  {
   "cell_type": "code",
   "execution_count": 56,
   "metadata": {
    "execution": {
     "iopub.execute_input": "2023-04-28T20:11:33.472891Z",
     "iopub.status.busy": "2023-04-28T20:11:33.472451Z",
     "iopub.status.idle": "2023-04-28T20:11:33.488506Z",
     "shell.execute_reply": "2023-04-28T20:11:33.486332Z",
     "shell.execute_reply.started": "2023-04-28T20:11:33.472853Z"
    }
   },
   "outputs": [
    {
     "name": "stdout",
     "output_type": "stream",
     "text": [
      "              precision    recall  f1-score   support\n",
      "\n",
      "           0       0.85      0.88      0.87       786\n",
      "           1       0.62      0.55      0.58       268\n",
      "\n",
      "    accuracy                           0.80      1054\n",
      "   macro avg       0.73      0.72      0.72      1054\n",
      "weighted avg       0.79      0.80      0.79      1054\n",
      "\n"
     ]
    }
   ],
   "source": [
    "report = classification_report(y_test, y_pred)\n",
    "print(report)"
   ]
  },
  {
   "cell_type": "markdown",
   "metadata": {},
   "source": [
    "# Модель"
   ]
  },
  {
   "cell_type": "code",
   "execution_count": 57,
   "metadata": {
    "execution": {
     "iopub.execute_input": "2023-04-28T20:11:44.389846Z",
     "iopub.status.busy": "2023-04-28T20:11:44.389378Z",
     "iopub.status.idle": "2023-04-28T20:11:44.403031Z",
     "shell.execute_reply": "2023-04-28T20:11:44.401087Z",
     "shell.execute_reply.started": "2023-04-28T20:11:44.389790Z"
    }
   },
   "outputs": [],
   "source": [
    "df_no_total = df.drop(columns=['TotalSpent'])\n",
    "X = df.drop(columns=target_col)\n",
    "y = df[target_col]"
   ]
  },
  {
   "cell_type": "code",
   "execution_count": 58,
   "metadata": {
    "execution": {
     "iopub.execute_input": "2023-04-28T20:11:46.925324Z",
     "iopub.status.busy": "2023-04-28T20:11:46.924849Z",
     "iopub.status.idle": "2023-04-28T20:11:46.936309Z",
     "shell.execute_reply": "2023-04-28T20:11:46.934887Z",
     "shell.execute_reply.started": "2023-04-28T20:11:46.925284Z"
    }
   },
   "outputs": [],
   "source": [
    "X_train, X_test, y_train, y_test = train_test_split(X, y, test_size=0.2, random_state=0)"
   ]
  },
  {
   "cell_type": "markdown",
   "metadata": {},
   "source": [
    "# Настройка гиперпараметров"
   ]
  },
  {
   "cell_type": "code",
   "execution_count": 59,
   "metadata": {
    "execution": {
     "iopub.execute_input": "2023-04-28T20:14:26.878689Z",
     "iopub.status.busy": "2023-04-28T20:14:26.878225Z",
     "iopub.status.idle": "2023-04-28T20:14:26.889459Z",
     "shell.execute_reply": "2023-04-28T20:14:26.887279Z",
     "shell.execute_reply.started": "2023-04-28T20:14:26.878651Z"
    }
   },
   "outputs": [],
   "source": [
    "from sklearn.pipeline import Pipeline\n",
    "from sklearn.compose import ColumnTransformer\n",
    "from sklearn.preprocessing import LabelEncoder, OneHotEncoder\n",
    "\n",
    "# Создание преобразователей, которыми будем \n",
    "# обрабатывать столбцы с разными типами данных\n",
    "numeric_transformer = Pipeline(\n",
    "    steps=[('scaler', RobustScaler())] # Robust должен быть менее чувствителен\n",
    ")                                      # к выбросам в данных\n",
    "\n",
    "categorical_transformer = Pipeline(\n",
    "    steps=[\n",
    "        ('ohe', OneHotEncoder()), # В описании задания был также LabelEncoder,\n",
    "    ]                             # однако документация Sklearn не рекомендует\n",
    "                                  # использовать его для фичей\n",
    ")\n",
    "\n",
    "preprocessor = ColumnTransformer(\n",
    "    transformers=[\n",
    "        ('num', numeric_transformer, num_cols),\n",
    "        ('cat', categorical_transformer, cat_cols),\n",
    "    ]\n",
    ")\n",
    "\n",
    "boost_preprocessor = ColumnTransformer(  # Отдельный преобразователь для алгоритмов,\n",
    "    transformers=[                       # основанных на деревьях\n",
    "        ('cat', categorical_transformer, cat_cols),\n",
    "    ]\n",
    ")"
   ]
  },
  {
   "cell_type": "code",
   "execution_count": 60,
   "metadata": {
    "execution": {
     "iopub.execute_input": "2023-04-28T20:11:55.200279Z",
     "iopub.status.busy": "2023-04-28T20:11:55.199796Z",
     "iopub.status.idle": "2023-04-28T20:11:55.206679Z",
     "shell.execute_reply": "2023-04-28T20:11:55.205248Z",
     "shell.execute_reply.started": "2023-04-28T20:11:55.200239Z"
    }
   },
   "outputs": [],
   "source": [
    "from sklearn.metrics import roc_auc_score"
   ]
  },
  {
   "cell_type": "code",
   "execution_count": 61,
   "metadata": {
    "execution": {
     "iopub.execute_input": "2023-04-28T20:14:59.614655Z",
     "iopub.status.busy": "2023-04-28T20:14:59.613723Z",
     "iopub.status.idle": "2023-04-28T20:15:00.381956Z",
     "shell.execute_reply": "2023-04-28T20:15:00.380336Z",
     "shell.execute_reply.started": "2023-04-28T20:14:59.614607Z"
    }
   },
   "outputs": [],
   "source": [
    "# Создаем пайплайны интересующих нас моделей.\n",
    "# Остановимся на двух лучших из Baseline решения, остальные как-нибудь потом...\n",
    "pipe_lr = Pipeline(\n",
    "    steps=[\n",
    "        (\"preprocessor\", preprocessor),\n",
    "        (\"LR\", LogisticRegression(max_iter=250))]\n",
    ")\n",
    "\n",
    "# pipe_gb = Pipeline(\n",
    "#     steps=[\n",
    "#         (\"preprocessor\", boost_preprocessor), \n",
    "#         (\"GB\", GradientBoostingClassifier(random_state=1))]\n",
    "# )\n",
    "\n",
    "pipe_cb = Pipeline(\n",
    "    steps=[\n",
    "        (\"CB\", CatBoostClassifier(random_state=1, cat_features=cat_cols, verbose=False))]\n",
    ")\n",
    "\n",
    "# pipe_lgbm = Pipeline(\n",
    "#     steps=[\n",
    "#         (\"preprocessor\", preprocessor), \n",
    "#         (\"LGBM\", LGBMClassifier(random_state=1))]\n",
    "# )\n",
    "\n",
    "# pipe_rf = Pipeline(\n",
    "#     steps=[\n",
    "#         (\"preprocessor\", preprocessor), \n",
    "#         (\"RF\", RandomForestClassifier(random_state=1))]\n",
    "# )\n",
    "\n"
   ]
  },
  {
   "cell_type": "code",
   "execution_count": 62,
   "metadata": {
    "execution": {
     "iopub.execute_input": "2023-04-28T20:42:23.480038Z",
     "iopub.status.busy": "2023-04-28T20:42:23.479579Z",
     "iopub.status.idle": "2023-04-28T20:42:23.492268Z",
     "shell.execute_reply": "2023-04-28T20:42:23.490914Z",
     "shell.execute_reply.started": "2023-04-28T20:42:23.479998Z"
    }
   },
   "outputs": [],
   "source": [
    "# Создаем сетки гиперпараметров для каждой модели. \n",
    "param_range = [1, 2, 3, 4, 5, 6]\n",
    "param_range_fl = [0.01, 0.03, 0.1]\n",
    "n_estimators = [50,100,150]\n",
    "learning_rates = [.1,.2,.3]\n",
    "\n",
    "lr_param_grid = [{\n",
    "    'LR__penalty': ['l1', 'l2'],\n",
    "    'LR__C': param_range_fl,\n",
    "    'LR__solver': ['liblinear']}]\n",
    "\n",
    "# gb_param_grid = [{\n",
    "#     'GB__learning_rate': [0.1],\n",
    "#     'GB__n_estimators': [100, 500],\n",
    "#     'GB__max_depth': [3, 5],\n",
    "# }]\n",
    "\n",
    "cb_param_grid = [{\n",
    "    'CB__learning_rate': learning_rates,\n",
    "    'CB__depth': param_range[3:],\n",
    "    'CB__l2_leaf_reg': param_range[::2]\n",
    "}]\n",
    "\n",
    "# lgbm_param_grid = [{\n",
    "#     'LGBM__num_leaves': [15, 31, 63],\n",
    "#     'LGBM__max_depth': [-1, 5, 10],\n",
    "#     'LGBM__learning_rate': learning_rates,\n",
    "#     'LGBM__n_estimators': n_estimators\n",
    "# }]\n",
    "\n",
    "# rf_param_grid = [{\n",
    "#     'RF__min_samples_leaf': param_range,\n",
    "#     'RF__max_depth': param_range,\n",
    "#     'RF__min_samples_split': param_range[1:]\n",
    "# }]"
   ]
  },
  {
   "cell_type": "code",
   "execution_count": 63,
   "metadata": {
    "execution": {
     "iopub.execute_input": "2023-04-28T20:42:46.863773Z",
     "iopub.status.busy": "2023-04-28T20:42:46.863380Z",
     "iopub.status.idle": "2023-04-28T20:42:46.871134Z",
     "shell.execute_reply": "2023-04-28T20:42:46.869823Z",
     "shell.execute_reply.started": "2023-04-28T20:42:46.863737Z"
    }
   },
   "outputs": [],
   "source": [
    "from sklearn.model_selection import GridSearchCV\n",
    "scoring = 'roc_auc'\n",
    "cv = 2\n",
    "verbose = 10\n",
    "lr_grid_search = GridSearchCV(estimator=pipe_lr,\n",
    "        param_grid=lr_param_grid,\n",
    "        scoring=scoring,\n",
    "        cv=cv, \n",
    "        verbose=verbose)\n",
    "\n",
    "# gb_grid_search = GridSearchCV(estimator=pipe_gb,\n",
    "#         param_grid=gb_param_grid,\n",
    "#         scoring=scoring,\n",
    "#         cv=cv,\n",
    "#         verbose=verbose)\n",
    "\n",
    "cb_grid_search = GridSearchCV(estimator=pipe_cb,\n",
    "        param_grid=cb_param_grid,\n",
    "        scoring=scoring,\n",
    "        cv=cv,\n",
    "        verbose=verbose)\n",
    "\n",
    "# lgbm_grid_search = GridSearchCV(estimator=pipe_lgbm,\n",
    "#         param_grid=lgbm_param_grid,\n",
    "#         scoring=scoring,\n",
    "#         cv=cv,\n",
    "#         verbose=verbose)\n",
    "\n",
    "# rf_grid_search = GridSearchCV(estimator=pipe_gb,\n",
    "#         param_grid=rf_param_grid,\n",
    "#         scoring=scoring,\n",
    "#         cv=cv,\n",
    "#         verbose=verbose)"
   ]
  },
  {
   "cell_type": "code",
   "execution_count": 64,
   "metadata": {
    "execution": {
     "iopub.execute_input": "2023-04-28T20:42:47.259131Z",
     "iopub.status.busy": "2023-04-28T20:42:47.258433Z",
     "iopub.status.idle": "2023-04-28T20:49:28.275152Z",
     "shell.execute_reply": "2023-04-28T20:49:28.274093Z",
     "shell.execute_reply.started": "2023-04-28T20:42:47.259091Z"
    }
   },
   "outputs": [
    {
     "name": "stdout",
     "output_type": "stream",
     "text": [
      "Fitting 2 folds for each of 6 candidates, totalling 12 fits\n",
      "[CV 1/2; 1/6] START LR__C=0.01, LR__penalty=l1, LR__solver=liblinear............\n",
      "[CV 1/2; 1/6] END LR__C=0.01, LR__penalty=l1, LR__solver=liblinear;, score=0.789 total time=   0.1s\n",
      "[CV 2/2; 1/6] START LR__C=0.01, LR__penalty=l1, LR__solver=liblinear............\n",
      "[CV 2/2; 1/6] END LR__C=0.01, LR__penalty=l1, LR__solver=liblinear;, score=0.797 total time=   0.1s\n",
      "[CV 1/2; 2/6] START LR__C=0.01, LR__penalty=l2, LR__solver=liblinear............\n",
      "[CV 1/2; 2/6] END LR__C=0.01, LR__penalty=l2, LR__solver=liblinear;, score=0.849 total time=   0.1s\n",
      "[CV 2/2; 2/6] START LR__C=0.01, LR__penalty=l2, LR__solver=liblinear............\n",
      "[CV 2/2; 2/6] END LR__C=0.01, LR__penalty=l2, LR__solver=liblinear;, score=0.848 total time=   0.1s\n",
      "[CV 1/2; 3/6] START LR__C=0.03, LR__penalty=l1, LR__solver=liblinear............\n",
      "[CV 1/2; 3/6] END LR__C=0.03, LR__penalty=l1, LR__solver=liblinear;, score=0.838 total time=   0.1s\n",
      "[CV 2/2; 3/6] START LR__C=0.03, LR__penalty=l1, LR__solver=liblinear............\n",
      "[CV 2/2; 3/6] END LR__C=0.03, LR__penalty=l1, LR__solver=liblinear;, score=0.836 total time=   0.1s\n",
      "[CV 1/2; 4/6] START LR__C=0.03, LR__penalty=l2, LR__solver=liblinear............\n",
      "[CV 1/2; 4/6] END LR__C=0.03, LR__penalty=l2, LR__solver=liblinear;, score=0.850 total time=   0.1s\n",
      "[CV 2/2; 4/6] START LR__C=0.03, LR__penalty=l2, LR__solver=liblinear............\n",
      "[CV 2/2; 4/6] END LR__C=0.03, LR__penalty=l2, LR__solver=liblinear;, score=0.849 total time=   0.1s\n",
      "[CV 1/2; 5/6] START LR__C=0.1, LR__penalty=l1, LR__solver=liblinear.............\n",
      "[CV 1/2; 5/6] END LR__C=0.1, LR__penalty=l1, LR__solver=liblinear;, score=0.850 total time=   0.1s\n",
      "[CV 2/2; 5/6] START LR__C=0.1, LR__penalty=l1, LR__solver=liblinear.............\n",
      "[CV 2/2; 5/6] END LR__C=0.1, LR__penalty=l1, LR__solver=liblinear;, score=0.848 total time=   0.1s\n",
      "[CV 1/2; 6/6] START LR__C=0.1, LR__penalty=l2, LR__solver=liblinear.............\n",
      "[CV 1/2; 6/6] END LR__C=0.1, LR__penalty=l2, LR__solver=liblinear;, score=0.851 total time=   0.1s\n",
      "[CV 2/2; 6/6] START LR__C=0.1, LR__penalty=l2, LR__solver=liblinear.............\n",
      "[CV 2/2; 6/6] END LR__C=0.1, LR__penalty=l2, LR__solver=liblinear;, score=0.850 total time=   0.1s\n",
      "Fitting 2 folds for each of 27 candidates, totalling 54 fits\n",
      "[CV 1/2; 1/27] START CB__depth=4, CB__l2_leaf_reg=1, CB__learning_rate=0.1......\n",
      "[CV 1/2; 1/27] END CB__depth=4, CB__l2_leaf_reg=1, CB__learning_rate=0.1;, score=0.825 total time=   6.4s\n",
      "[CV 2/2; 1/27] START CB__depth=4, CB__l2_leaf_reg=1, CB__learning_rate=0.1......\n",
      "[CV 2/2; 1/27] END CB__depth=4, CB__l2_leaf_reg=1, CB__learning_rate=0.1;, score=0.829 total time=   6.4s\n",
      "[CV 1/2; 2/27] START CB__depth=4, CB__l2_leaf_reg=1, CB__learning_rate=0.2......\n",
      "[CV 1/2; 2/27] END CB__depth=4, CB__l2_leaf_reg=1, CB__learning_rate=0.2;, score=0.819 total time=   6.4s\n",
      "[CV 2/2; 2/27] START CB__depth=4, CB__l2_leaf_reg=1, CB__learning_rate=0.2......\n",
      "[CV 2/2; 2/27] END CB__depth=4, CB__l2_leaf_reg=1, CB__learning_rate=0.2;, score=0.821 total time=   6.4s\n",
      "[CV 1/2; 3/27] START CB__depth=4, CB__l2_leaf_reg=1, CB__learning_rate=0.3......\n",
      "[CV 1/2; 3/27] END CB__depth=4, CB__l2_leaf_reg=1, CB__learning_rate=0.3;, score=0.818 total time=   6.4s\n",
      "[CV 2/2; 3/27] START CB__depth=4, CB__l2_leaf_reg=1, CB__learning_rate=0.3......\n",
      "[CV 2/2; 3/27] END CB__depth=4, CB__l2_leaf_reg=1, CB__learning_rate=0.3;, score=0.815 total time=   6.4s\n",
      "[CV 1/2; 4/27] START CB__depth=4, CB__l2_leaf_reg=3, CB__learning_rate=0.1......\n",
      "[CV 1/2; 4/27] END CB__depth=4, CB__l2_leaf_reg=3, CB__learning_rate=0.1;, score=0.830 total time=   6.6s\n",
      "[CV 2/2; 4/27] START CB__depth=4, CB__l2_leaf_reg=3, CB__learning_rate=0.1......\n",
      "[CV 2/2; 4/27] END CB__depth=4, CB__l2_leaf_reg=3, CB__learning_rate=0.1;, score=0.833 total time=   6.4s\n",
      "[CV 1/2; 5/27] START CB__depth=4, CB__l2_leaf_reg=3, CB__learning_rate=0.2......\n",
      "[CV 1/2; 5/27] END CB__depth=4, CB__l2_leaf_reg=3, CB__learning_rate=0.2;, score=0.821 total time=   6.5s\n",
      "[CV 2/2; 5/27] START CB__depth=4, CB__l2_leaf_reg=3, CB__learning_rate=0.2......\n",
      "[CV 2/2; 5/27] END CB__depth=4, CB__l2_leaf_reg=3, CB__learning_rate=0.2;, score=0.825 total time=   6.4s\n",
      "[CV 1/2; 6/27] START CB__depth=4, CB__l2_leaf_reg=3, CB__learning_rate=0.3......\n",
      "[CV 1/2; 6/27] END CB__depth=4, CB__l2_leaf_reg=3, CB__learning_rate=0.3;, score=0.816 total time=   6.5s\n",
      "[CV 2/2; 6/27] START CB__depth=4, CB__l2_leaf_reg=3, CB__learning_rate=0.3......\n",
      "[CV 2/2; 6/27] END CB__depth=4, CB__l2_leaf_reg=3, CB__learning_rate=0.3;, score=0.823 total time=   6.4s\n",
      "[CV 1/2; 7/27] START CB__depth=4, CB__l2_leaf_reg=5, CB__learning_rate=0.1......\n",
      "[CV 1/2; 7/27] END CB__depth=4, CB__l2_leaf_reg=5, CB__learning_rate=0.1;, score=0.831 total time=   6.4s\n",
      "[CV 2/2; 7/27] START CB__depth=4, CB__l2_leaf_reg=5, CB__learning_rate=0.1......\n",
      "[CV 2/2; 7/27] END CB__depth=4, CB__l2_leaf_reg=5, CB__learning_rate=0.1;, score=0.833 total time=   6.3s\n",
      "[CV 1/2; 8/27] START CB__depth=4, CB__l2_leaf_reg=5, CB__learning_rate=0.2......\n",
      "[CV 1/2; 8/27] END CB__depth=4, CB__l2_leaf_reg=5, CB__learning_rate=0.2;, score=0.822 total time=   6.4s\n",
      "[CV 2/2; 8/27] START CB__depth=4, CB__l2_leaf_reg=5, CB__learning_rate=0.2......\n",
      "[CV 2/2; 8/27] END CB__depth=4, CB__l2_leaf_reg=5, CB__learning_rate=0.2;, score=0.822 total time=   6.4s\n",
      "[CV 1/2; 9/27] START CB__depth=4, CB__l2_leaf_reg=5, CB__learning_rate=0.3......\n",
      "[CV 1/2; 9/27] END CB__depth=4, CB__l2_leaf_reg=5, CB__learning_rate=0.3;, score=0.819 total time=   6.4s\n",
      "[CV 2/2; 9/27] START CB__depth=4, CB__l2_leaf_reg=5, CB__learning_rate=0.3......\n",
      "[CV 2/2; 9/27] END CB__depth=4, CB__l2_leaf_reg=5, CB__learning_rate=0.3;, score=0.820 total time=   6.4s\n",
      "[CV 1/2; 10/27] START CB__depth=5, CB__l2_leaf_reg=1, CB__learning_rate=0.1.....\n",
      "[CV 1/2; 10/27] END CB__depth=5, CB__l2_leaf_reg=1, CB__learning_rate=0.1;, score=0.826 total time=   8.0s\n",
      "[CV 2/2; 10/27] START CB__depth=5, CB__l2_leaf_reg=1, CB__learning_rate=0.1.....\n",
      "[CV 2/2; 10/27] END CB__depth=5, CB__l2_leaf_reg=1, CB__learning_rate=0.1;, score=0.831 total time=   7.9s\n",
      "[CV 1/2; 11/27] START CB__depth=5, CB__l2_leaf_reg=1, CB__learning_rate=0.2.....\n",
      "[CV 1/2; 11/27] END CB__depth=5, CB__l2_leaf_reg=1, CB__learning_rate=0.2;, score=0.818 total time=   8.0s\n",
      "[CV 2/2; 11/27] START CB__depth=5, CB__l2_leaf_reg=1, CB__learning_rate=0.2.....\n",
      "[CV 2/2; 11/27] END CB__depth=5, CB__l2_leaf_reg=1, CB__learning_rate=0.2;, score=0.818 total time=   7.9s\n",
      "[CV 1/2; 12/27] START CB__depth=5, CB__l2_leaf_reg=1, CB__learning_rate=0.3.....\n",
      "[CV 1/2; 12/27] END CB__depth=5, CB__l2_leaf_reg=1, CB__learning_rate=0.3;, score=0.812 total time=   7.9s\n",
      "[CV 2/2; 12/27] START CB__depth=5, CB__l2_leaf_reg=1, CB__learning_rate=0.3.....\n",
      "[CV 2/2; 12/27] END CB__depth=5, CB__l2_leaf_reg=1, CB__learning_rate=0.3;, score=0.820 total time=   8.3s\n",
      "[CV 1/2; 13/27] START CB__depth=5, CB__l2_leaf_reg=3, CB__learning_rate=0.1.....\n",
      "[CV 1/2; 13/27] END CB__depth=5, CB__l2_leaf_reg=3, CB__learning_rate=0.1;, score=0.830 total time=   7.9s\n",
      "[CV 2/2; 13/27] START CB__depth=5, CB__l2_leaf_reg=3, CB__learning_rate=0.1.....\n",
      "[CV 2/2; 13/27] END CB__depth=5, CB__l2_leaf_reg=3, CB__learning_rate=0.1;, score=0.833 total time=   8.0s\n",
      "[CV 1/2; 14/27] START CB__depth=5, CB__l2_leaf_reg=3, CB__learning_rate=0.2.....\n",
      "[CV 1/2; 14/27] END CB__depth=5, CB__l2_leaf_reg=3, CB__learning_rate=0.2;, score=0.822 total time=   8.0s\n",
      "[CV 2/2; 14/27] START CB__depth=5, CB__l2_leaf_reg=3, CB__learning_rate=0.2.....\n",
      "[CV 2/2; 14/27] END CB__depth=5, CB__l2_leaf_reg=3, CB__learning_rate=0.2;, score=0.822 total time=   8.0s\n",
      "[CV 1/2; 15/27] START CB__depth=5, CB__l2_leaf_reg=3, CB__learning_rate=0.3.....\n",
      "[CV 1/2; 15/27] END CB__depth=5, CB__l2_leaf_reg=3, CB__learning_rate=0.3;, score=0.816 total time=   8.0s\n",
      "[CV 2/2; 15/27] START CB__depth=5, CB__l2_leaf_reg=3, CB__learning_rate=0.3.....\n",
      "[CV 2/2; 15/27] END CB__depth=5, CB__l2_leaf_reg=3, CB__learning_rate=0.3;, score=0.823 total time=   8.0s\n",
      "[CV 1/2; 16/27] START CB__depth=5, CB__l2_leaf_reg=5, CB__learning_rate=0.1.....\n",
      "[CV 1/2; 16/27] END CB__depth=5, CB__l2_leaf_reg=5, CB__learning_rate=0.1;, score=0.833 total time=   7.9s\n",
      "[CV 2/2; 16/27] START CB__depth=5, CB__l2_leaf_reg=5, CB__learning_rate=0.1.....\n",
      "[CV 2/2; 16/27] END CB__depth=5, CB__l2_leaf_reg=5, CB__learning_rate=0.1;, score=0.831 total time=   7.9s\n",
      "[CV 1/2; 17/27] START CB__depth=5, CB__l2_leaf_reg=5, CB__learning_rate=0.2.....\n"
     ]
    },
    {
     "name": "stdout",
     "output_type": "stream",
     "text": [
      "[CV 1/2; 17/27] END CB__depth=5, CB__l2_leaf_reg=5, CB__learning_rate=0.2;, score=0.822 total time=   8.0s\n",
      "[CV 2/2; 17/27] START CB__depth=5, CB__l2_leaf_reg=5, CB__learning_rate=0.2.....\n",
      "[CV 2/2; 17/27] END CB__depth=5, CB__l2_leaf_reg=5, CB__learning_rate=0.2;, score=0.826 total time=   8.0s\n",
      "[CV 1/2; 18/27] START CB__depth=5, CB__l2_leaf_reg=5, CB__learning_rate=0.3.....\n",
      "[CV 1/2; 18/27] END CB__depth=5, CB__l2_leaf_reg=5, CB__learning_rate=0.3;, score=0.822 total time=   8.0s\n",
      "[CV 2/2; 18/27] START CB__depth=5, CB__l2_leaf_reg=5, CB__learning_rate=0.3.....\n",
      "[CV 2/2; 18/27] END CB__depth=5, CB__l2_leaf_reg=5, CB__learning_rate=0.3;, score=0.823 total time=   7.9s\n",
      "[CV 1/2; 19/27] START CB__depth=6, CB__l2_leaf_reg=1, CB__learning_rate=0.1.....\n",
      "[CV 1/2; 19/27] END CB__depth=6, CB__l2_leaf_reg=1, CB__learning_rate=0.1;, score=0.830 total time=  10.1s\n",
      "[CV 2/2; 19/27] START CB__depth=6, CB__l2_leaf_reg=1, CB__learning_rate=0.1.....\n",
      "[CV 2/2; 19/27] END CB__depth=6, CB__l2_leaf_reg=1, CB__learning_rate=0.1;, score=0.827 total time=  10.0s\n",
      "[CV 1/2; 20/27] START CB__depth=6, CB__l2_leaf_reg=1, CB__learning_rate=0.2.....\n",
      "[CV 1/2; 20/27] END CB__depth=6, CB__l2_leaf_reg=1, CB__learning_rate=0.2;, score=0.818 total time=  10.3s\n",
      "[CV 2/2; 20/27] START CB__depth=6, CB__l2_leaf_reg=1, CB__learning_rate=0.2.....\n",
      "[CV 2/2; 20/27] END CB__depth=6, CB__l2_leaf_reg=1, CB__learning_rate=0.2;, score=0.824 total time=  10.1s\n",
      "[CV 1/2; 21/27] START CB__depth=6, CB__l2_leaf_reg=1, CB__learning_rate=0.3.....\n",
      "[CV 1/2; 21/27] END CB__depth=6, CB__l2_leaf_reg=1, CB__learning_rate=0.3;, score=0.820 total time=  10.0s\n",
      "[CV 2/2; 21/27] START CB__depth=6, CB__l2_leaf_reg=1, CB__learning_rate=0.3.....\n",
      "[CV 2/2; 21/27] END CB__depth=6, CB__l2_leaf_reg=1, CB__learning_rate=0.3;, score=0.819 total time=   9.9s\n",
      "[CV 1/2; 22/27] START CB__depth=6, CB__l2_leaf_reg=3, CB__learning_rate=0.1.....\n",
      "[CV 1/2; 22/27] END CB__depth=6, CB__l2_leaf_reg=3, CB__learning_rate=0.1;, score=0.830 total time=  10.1s\n",
      "[CV 2/2; 22/27] START CB__depth=6, CB__l2_leaf_reg=3, CB__learning_rate=0.1.....\n",
      "[CV 2/2; 22/27] END CB__depth=6, CB__l2_leaf_reg=3, CB__learning_rate=0.1;, score=0.828 total time=  10.0s\n",
      "[CV 1/2; 23/27] START CB__depth=6, CB__l2_leaf_reg=3, CB__learning_rate=0.2.....\n",
      "[CV 1/2; 23/27] END CB__depth=6, CB__l2_leaf_reg=3, CB__learning_rate=0.2;, score=0.820 total time=  10.1s\n",
      "[CV 2/2; 23/27] START CB__depth=6, CB__l2_leaf_reg=3, CB__learning_rate=0.2.....\n",
      "[CV 2/2; 23/27] END CB__depth=6, CB__l2_leaf_reg=3, CB__learning_rate=0.2;, score=0.826 total time=  10.1s\n",
      "[CV 1/2; 24/27] START CB__depth=6, CB__l2_leaf_reg=3, CB__learning_rate=0.3.....\n",
      "[CV 1/2; 24/27] END CB__depth=6, CB__l2_leaf_reg=3, CB__learning_rate=0.3;, score=0.819 total time=  10.0s\n",
      "[CV 2/2; 24/27] START CB__depth=6, CB__l2_leaf_reg=3, CB__learning_rate=0.3.....\n",
      "[CV 2/2; 24/27] END CB__depth=6, CB__l2_leaf_reg=3, CB__learning_rate=0.3;, score=0.824 total time=  10.0s\n",
      "[CV 1/2; 25/27] START CB__depth=6, CB__l2_leaf_reg=5, CB__learning_rate=0.1.....\n",
      "[CV 1/2; 25/27] END CB__depth=6, CB__l2_leaf_reg=5, CB__learning_rate=0.1;, score=0.827 total time=  10.1s\n",
      "[CV 2/2; 25/27] START CB__depth=6, CB__l2_leaf_reg=5, CB__learning_rate=0.1.....\n",
      "[CV 2/2; 25/27] END CB__depth=6, CB__l2_leaf_reg=5, CB__learning_rate=0.1;, score=0.833 total time=   9.9s\n",
      "[CV 1/2; 26/27] START CB__depth=6, CB__l2_leaf_reg=5, CB__learning_rate=0.2.....\n",
      "[CV 1/2; 26/27] END CB__depth=6, CB__l2_leaf_reg=5, CB__learning_rate=0.2;, score=0.818 total time=  10.3s\n",
      "[CV 2/2; 26/27] START CB__depth=6, CB__l2_leaf_reg=5, CB__learning_rate=0.2.....\n",
      "[CV 2/2; 26/27] END CB__depth=6, CB__l2_leaf_reg=5, CB__learning_rate=0.2;, score=0.830 total time=  10.0s\n",
      "[CV 1/2; 27/27] START CB__depth=6, CB__l2_leaf_reg=5, CB__learning_rate=0.3.....\n",
      "[CV 1/2; 27/27] END CB__depth=6, CB__l2_leaf_reg=5, CB__learning_rate=0.3;, score=0.813 total time=  10.2s\n",
      "[CV 2/2; 27/27] START CB__depth=6, CB__l2_leaf_reg=5, CB__learning_rate=0.3.....\n",
      "[CV 2/2; 27/27] END CB__depth=6, CB__l2_leaf_reg=5, CB__learning_rate=0.3;, score=0.819 total time=  10.0s\n"
     ]
    }
   ],
   "source": [
    "# Дальше будет очень долгий скролл. Простите, я не буду это перезапускать.\n",
    "grids = [lr_grid_search, cb_grid_search] \n",
    "# gb_grid_search, cb_grid_search, lgbm_grid_search, rf_grid_search]\n",
    "for pipe in grids:\n",
    "    pipe.fit(X_train,y_train)"
   ]
  },
  {
   "cell_type": "code",
   "execution_count": 65,
   "metadata": {
    "execution": {
     "iopub.execute_input": "2023-04-28T20:50:56.272344Z",
     "iopub.status.busy": "2023-04-28T20:50:56.271945Z",
     "iopub.status.idle": "2023-04-28T20:50:56.329594Z",
     "shell.execute_reply": "2023-04-28T20:50:56.327765Z",
     "shell.execute_reply.started": "2023-04-28T20:50:56.272309Z"
    }
   },
   "outputs": [
    {
     "name": "stdout",
     "output_type": "stream",
     "text": [
      "Logistic Regression Test Roc-Auc: 0.8352607193042422\n",
      "Logistic Regression Best Params: {'LR__C': 0.1, 'LR__penalty': 'l2', 'LR__solver': 'liblinear'}\n",
      "Catboost Test Roc-Auc: 0.8197110819946071\n",
      "Catboost Best Params: {'CB__depth': 4, 'CB__l2_leaf_reg': 5, 'CB__learning_rate': 0.1}\n"
     ]
    }
   ],
   "source": [
    "# Смотрим на полученные комбинации гиперпараметров и скоринг\n",
    "# grid_dict = {0: 'Logistic Regression', 1: 'Gradient Boosting', \n",
    "#              2: 'Catboost', 3: 'LightGBM', \n",
    "#              4: 'Random Forest'}\n",
    "\n",
    "grid_dict = {0: 'Logistic Regression', 1: 'Catboost'}\n",
    "\n",
    "for i, model in enumerate(grids):\n",
    "    print(f'{grid_dict[i]} Test Roc-Auc: {model.score(X_test, y_test)}')\n",
    "    print(f'{grid_dict[i]} Best Params: {model.best_params_}')"
   ]
  },
  {
   "cell_type": "code",
   "execution_count": 100,
   "metadata": {
    "execution": {
     "iopub.execute_input": "2023-04-28T21:01:27.812448Z",
     "iopub.status.busy": "2023-04-28T21:01:27.812026Z",
     "iopub.status.idle": "2023-04-28T21:01:27.819044Z",
     "shell.execute_reply": "2023-04-28T21:01:27.817711Z",
     "shell.execute_reply.started": "2023-04-28T21:01:27.812412Z"
    }
   },
   "outputs": [],
   "source": [
    "pipe_lr_fin = Pipeline(\n",
    "    steps=[\n",
    "        (\"preprocessor\", preprocessor),\n",
    "        (\"LR\", LogisticRegression(max_iter=250, \n",
    "                                  C=0.1,\n",
    "                                  penalty='l2',\n",
    "                                  solver='liblinear'))]\n",
    ")"
   ]
  },
  {
   "cell_type": "code",
   "execution_count": null,
   "metadata": {},
   "outputs": [],
   "source": []
  },
  {
   "cell_type": "code",
   "execution_count": 213,
   "metadata": {},
   "outputs": [],
   "source": [
    "ft = X_train.columns"
   ]
  },
  {
   "cell_type": "code",
   "execution_count": 203,
   "metadata": {},
   "outputs": [],
   "source": [
    "import random"
   ]
  },
  {
   "cell_type": "code",
   "execution_count": 242,
   "metadata": {},
   "outputs": [
    {
     "ename": "ValueError",
     "evalue": "A given column is not a column of the dataframe",
     "output_type": "error",
     "traceback": [
      "\u001b[0;31m---------------------------------------------------------------------------\u001b[0m",
      "\u001b[0;31mKeyError\u001b[0m                                  Traceback (most recent call last)",
      "\u001b[0;32m~/anaconda3/lib/python3.9/site-packages/pandas/core/indexes/base.py\u001b[0m in \u001b[0;36mget_loc\u001b[0;34m(self, key, method, tolerance)\u001b[0m\n\u001b[1;32m   3360\u001b[0m             \u001b[0;32mtry\u001b[0m\u001b[0;34m:\u001b[0m\u001b[0;34m\u001b[0m\u001b[0;34m\u001b[0m\u001b[0m\n\u001b[0;32m-> 3361\u001b[0;31m                 \u001b[0;32mreturn\u001b[0m \u001b[0mself\u001b[0m\u001b[0;34m.\u001b[0m\u001b[0m_engine\u001b[0m\u001b[0;34m.\u001b[0m\u001b[0mget_loc\u001b[0m\u001b[0;34m(\u001b[0m\u001b[0mcasted_key\u001b[0m\u001b[0;34m)\u001b[0m\u001b[0;34m\u001b[0m\u001b[0;34m\u001b[0m\u001b[0m\n\u001b[0m\u001b[1;32m   3362\u001b[0m             \u001b[0;32mexcept\u001b[0m \u001b[0mKeyError\u001b[0m \u001b[0;32mas\u001b[0m \u001b[0merr\u001b[0m\u001b[0;34m:\u001b[0m\u001b[0;34m\u001b[0m\u001b[0;34m\u001b[0m\u001b[0m\n",
      "\u001b[0;32m~/anaconda3/lib/python3.9/site-packages/pandas/_libs/index.pyx\u001b[0m in \u001b[0;36mpandas._libs.index.IndexEngine.get_loc\u001b[0;34m()\u001b[0m\n",
      "\u001b[0;32m~/anaconda3/lib/python3.9/site-packages/pandas/_libs/index.pyx\u001b[0m in \u001b[0;36mpandas._libs.index.IndexEngine.get_loc\u001b[0;34m()\u001b[0m\n",
      "\u001b[0;32mpandas/_libs/hashtable_class_helper.pxi\u001b[0m in \u001b[0;36mpandas._libs.hashtable.PyObjectHashTable.get_item\u001b[0;34m()\u001b[0m\n",
      "\u001b[0;32mpandas/_libs/hashtable_class_helper.pxi\u001b[0m in \u001b[0;36mpandas._libs.hashtable.PyObjectHashTable.get_item\u001b[0;34m()\u001b[0m\n",
      "\u001b[0;31mKeyError\u001b[0m: 'ClientPeriod'",
      "\nThe above exception was the direct cause of the following exception:\n",
      "\u001b[0;31mKeyError\u001b[0m                                  Traceback (most recent call last)",
      "\u001b[0;32m~/anaconda3/lib/python3.9/site-packages/sklearn/utils/__init__.py\u001b[0m in \u001b[0;36m_get_column_indices\u001b[0;34m(X, key)\u001b[0m\n\u001b[1;32m    395\u001b[0m             \u001b[0;32mfor\u001b[0m \u001b[0mcol\u001b[0m \u001b[0;32min\u001b[0m \u001b[0mcolumns\u001b[0m\u001b[0;34m:\u001b[0m\u001b[0;34m\u001b[0m\u001b[0;34m\u001b[0m\u001b[0m\n\u001b[0;32m--> 396\u001b[0;31m                 \u001b[0mcol_idx\u001b[0m \u001b[0;34m=\u001b[0m \u001b[0mall_columns\u001b[0m\u001b[0;34m.\u001b[0m\u001b[0mget_loc\u001b[0m\u001b[0;34m(\u001b[0m\u001b[0mcol\u001b[0m\u001b[0;34m)\u001b[0m\u001b[0;34m\u001b[0m\u001b[0;34m\u001b[0m\u001b[0m\n\u001b[0m\u001b[1;32m    397\u001b[0m                 \u001b[0;32mif\u001b[0m \u001b[0;32mnot\u001b[0m \u001b[0misinstance\u001b[0m\u001b[0;34m(\u001b[0m\u001b[0mcol_idx\u001b[0m\u001b[0;34m,\u001b[0m \u001b[0mnumbers\u001b[0m\u001b[0;34m.\u001b[0m\u001b[0mIntegral\u001b[0m\u001b[0;34m)\u001b[0m\u001b[0;34m:\u001b[0m\u001b[0;34m\u001b[0m\u001b[0;34m\u001b[0m\u001b[0m\n",
      "\u001b[0;32m~/anaconda3/lib/python3.9/site-packages/pandas/core/indexes/base.py\u001b[0m in \u001b[0;36mget_loc\u001b[0;34m(self, key, method, tolerance)\u001b[0m\n\u001b[1;32m   3362\u001b[0m             \u001b[0;32mexcept\u001b[0m \u001b[0mKeyError\u001b[0m \u001b[0;32mas\u001b[0m \u001b[0merr\u001b[0m\u001b[0;34m:\u001b[0m\u001b[0;34m\u001b[0m\u001b[0;34m\u001b[0m\u001b[0m\n\u001b[0;32m-> 3363\u001b[0;31m                 \u001b[0;32mraise\u001b[0m \u001b[0mKeyError\u001b[0m\u001b[0;34m(\u001b[0m\u001b[0mkey\u001b[0m\u001b[0;34m)\u001b[0m \u001b[0;32mfrom\u001b[0m \u001b[0merr\u001b[0m\u001b[0;34m\u001b[0m\u001b[0;34m\u001b[0m\u001b[0m\n\u001b[0m\u001b[1;32m   3364\u001b[0m \u001b[0;34m\u001b[0m\u001b[0m\n",
      "\u001b[0;31mKeyError\u001b[0m: 'ClientPeriod'",
      "\nThe above exception was the direct cause of the following exception:\n",
      "\u001b[0;31mValueError\u001b[0m                                Traceback (most recent call last)",
      "\u001b[0;32m/tmp/ipykernel_4742/718707608.py\u001b[0m in \u001b[0;36m<module>\u001b[0;34m\u001b[0m\n\u001b[1;32m      3\u001b[0m     \u001b[0;31m#random_list = random.sample(range(1, 23), k=1)\u001b[0m\u001b[0;34m\u001b[0m\u001b[0;34m\u001b[0m\u001b[0m\n\u001b[1;32m      4\u001b[0m     \u001b[0mrandom_list\u001b[0m\u001b[0;34m\u001b[0m\u001b[0;34m\u001b[0m\u001b[0m\n\u001b[0;32m----> 5\u001b[0;31m     \u001b[0mpipe_lr_fin\u001b[0m\u001b[0;34m.\u001b[0m\u001b[0mfit\u001b[0m\u001b[0;34m(\u001b[0m\u001b[0mX_train\u001b[0m\u001b[0;34m[\u001b[0m\u001b[0mft\u001b[0m\u001b[0;34m[\u001b[0m\u001b[0;34m[\u001b[0m\u001b[0;36m1\u001b[0m\u001b[0;34m,\u001b[0m\u001b[0;36m2\u001b[0m\u001b[0;34m,\u001b[0m\u001b[0;36m3\u001b[0m\u001b[0;34m,\u001b[0m\u001b[0;36m4\u001b[0m\u001b[0;34m]\u001b[0m\u001b[0;34m]\u001b[0m\u001b[0;34m[\u001b[0m\u001b[0;34m:\u001b[0m\u001b[0;34m]\u001b[0m\u001b[0;34m]\u001b[0m\u001b[0;34m,\u001b[0m \u001b[0my_train\u001b[0m\u001b[0;34m)\u001b[0m\u001b[0;34m\u001b[0m\u001b[0;34m\u001b[0m\u001b[0m\n\u001b[0m\u001b[1;32m      6\u001b[0m     \u001b[0ml\u001b[0m \u001b[0;34m=\u001b[0m \u001b[0mpipe_lr_fin\u001b[0m\u001b[0;34m\u001b[0m\u001b[0;34m\u001b[0m\u001b[0m\n",
      "\u001b[0;32m~/anaconda3/lib/python3.9/site-packages/sklearn/pipeline.py\u001b[0m in \u001b[0;36mfit\u001b[0;34m(self, X, y, **fit_params)\u001b[0m\n\u001b[1;32m    339\u001b[0m         \"\"\"\n\u001b[1;32m    340\u001b[0m         \u001b[0mfit_params_steps\u001b[0m \u001b[0;34m=\u001b[0m \u001b[0mself\u001b[0m\u001b[0;34m.\u001b[0m\u001b[0m_check_fit_params\u001b[0m\u001b[0;34m(\u001b[0m\u001b[0;34m**\u001b[0m\u001b[0mfit_params\u001b[0m\u001b[0;34m)\u001b[0m\u001b[0;34m\u001b[0m\u001b[0;34m\u001b[0m\u001b[0m\n\u001b[0;32m--> 341\u001b[0;31m         \u001b[0mXt\u001b[0m \u001b[0;34m=\u001b[0m \u001b[0mself\u001b[0m\u001b[0;34m.\u001b[0m\u001b[0m_fit\u001b[0m\u001b[0;34m(\u001b[0m\u001b[0mX\u001b[0m\u001b[0;34m,\u001b[0m \u001b[0my\u001b[0m\u001b[0;34m,\u001b[0m \u001b[0;34m**\u001b[0m\u001b[0mfit_params_steps\u001b[0m\u001b[0;34m)\u001b[0m\u001b[0;34m\u001b[0m\u001b[0;34m\u001b[0m\u001b[0m\n\u001b[0m\u001b[1;32m    342\u001b[0m         with _print_elapsed_time('Pipeline',\n\u001b[1;32m    343\u001b[0m                                  self._log_message(len(self.steps) - 1)):\n",
      "\u001b[0;32m~/anaconda3/lib/python3.9/site-packages/sklearn/pipeline.py\u001b[0m in \u001b[0;36m_fit\u001b[0;34m(self, X, y, **fit_params_steps)\u001b[0m\n\u001b[1;32m    301\u001b[0m                 \u001b[0mcloned_transformer\u001b[0m \u001b[0;34m=\u001b[0m \u001b[0mclone\u001b[0m\u001b[0;34m(\u001b[0m\u001b[0mtransformer\u001b[0m\u001b[0;34m)\u001b[0m\u001b[0;34m\u001b[0m\u001b[0;34m\u001b[0m\u001b[0m\n\u001b[1;32m    302\u001b[0m             \u001b[0;31m# Fit or load from cache the current transformer\u001b[0m\u001b[0;34m\u001b[0m\u001b[0;34m\u001b[0m\u001b[0m\n\u001b[0;32m--> 303\u001b[0;31m             X, fitted_transformer = fit_transform_one_cached(\n\u001b[0m\u001b[1;32m    304\u001b[0m                 \u001b[0mcloned_transformer\u001b[0m\u001b[0;34m,\u001b[0m \u001b[0mX\u001b[0m\u001b[0;34m,\u001b[0m \u001b[0my\u001b[0m\u001b[0;34m,\u001b[0m \u001b[0;32mNone\u001b[0m\u001b[0;34m,\u001b[0m\u001b[0;34m\u001b[0m\u001b[0;34m\u001b[0m\u001b[0m\n\u001b[1;32m    305\u001b[0m                 \u001b[0mmessage_clsname\u001b[0m\u001b[0;34m=\u001b[0m\u001b[0;34m'Pipeline'\u001b[0m\u001b[0;34m,\u001b[0m\u001b[0;34m\u001b[0m\u001b[0;34m\u001b[0m\u001b[0m\n",
      "\u001b[0;32m~/anaconda3/lib/python3.9/site-packages/joblib/memory.py\u001b[0m in \u001b[0;36m__call__\u001b[0;34m(self, *args, **kwargs)\u001b[0m\n\u001b[1;32m    347\u001b[0m \u001b[0;34m\u001b[0m\u001b[0m\n\u001b[1;32m    348\u001b[0m     \u001b[0;32mdef\u001b[0m \u001b[0m__call__\u001b[0m\u001b[0;34m(\u001b[0m\u001b[0mself\u001b[0m\u001b[0;34m,\u001b[0m \u001b[0;34m*\u001b[0m\u001b[0margs\u001b[0m\u001b[0;34m,\u001b[0m \u001b[0;34m**\u001b[0m\u001b[0mkwargs\u001b[0m\u001b[0;34m)\u001b[0m\u001b[0;34m:\u001b[0m\u001b[0;34m\u001b[0m\u001b[0;34m\u001b[0m\u001b[0m\n\u001b[0;32m--> 349\u001b[0;31m         \u001b[0;32mreturn\u001b[0m \u001b[0mself\u001b[0m\u001b[0;34m.\u001b[0m\u001b[0mfunc\u001b[0m\u001b[0;34m(\u001b[0m\u001b[0;34m*\u001b[0m\u001b[0margs\u001b[0m\u001b[0;34m,\u001b[0m \u001b[0;34m**\u001b[0m\u001b[0mkwargs\u001b[0m\u001b[0;34m)\u001b[0m\u001b[0;34m\u001b[0m\u001b[0;34m\u001b[0m\u001b[0m\n\u001b[0m\u001b[1;32m    350\u001b[0m \u001b[0;34m\u001b[0m\u001b[0m\n\u001b[1;32m    351\u001b[0m     \u001b[0;32mdef\u001b[0m \u001b[0mcall_and_shelve\u001b[0m\u001b[0;34m(\u001b[0m\u001b[0mself\u001b[0m\u001b[0;34m,\u001b[0m \u001b[0;34m*\u001b[0m\u001b[0margs\u001b[0m\u001b[0;34m,\u001b[0m \u001b[0;34m**\u001b[0m\u001b[0mkwargs\u001b[0m\u001b[0;34m)\u001b[0m\u001b[0;34m:\u001b[0m\u001b[0;34m\u001b[0m\u001b[0;34m\u001b[0m\u001b[0m\n",
      "\u001b[0;32m~/anaconda3/lib/python3.9/site-packages/sklearn/pipeline.py\u001b[0m in \u001b[0;36m_fit_transform_one\u001b[0;34m(transformer, X, y, weight, message_clsname, message, **fit_params)\u001b[0m\n\u001b[1;32m    752\u001b[0m     \u001b[0;32mwith\u001b[0m \u001b[0m_print_elapsed_time\u001b[0m\u001b[0;34m(\u001b[0m\u001b[0mmessage_clsname\u001b[0m\u001b[0;34m,\u001b[0m \u001b[0mmessage\u001b[0m\u001b[0;34m)\u001b[0m\u001b[0;34m:\u001b[0m\u001b[0;34m\u001b[0m\u001b[0;34m\u001b[0m\u001b[0m\n\u001b[1;32m    753\u001b[0m         \u001b[0;32mif\u001b[0m \u001b[0mhasattr\u001b[0m\u001b[0;34m(\u001b[0m\u001b[0mtransformer\u001b[0m\u001b[0;34m,\u001b[0m \u001b[0;34m'fit_transform'\u001b[0m\u001b[0;34m)\u001b[0m\u001b[0;34m:\u001b[0m\u001b[0;34m\u001b[0m\u001b[0;34m\u001b[0m\u001b[0m\n\u001b[0;32m--> 754\u001b[0;31m             \u001b[0mres\u001b[0m \u001b[0;34m=\u001b[0m \u001b[0mtransformer\u001b[0m\u001b[0;34m.\u001b[0m\u001b[0mfit_transform\u001b[0m\u001b[0;34m(\u001b[0m\u001b[0mX\u001b[0m\u001b[0;34m,\u001b[0m \u001b[0my\u001b[0m\u001b[0;34m,\u001b[0m \u001b[0;34m**\u001b[0m\u001b[0mfit_params\u001b[0m\u001b[0;34m)\u001b[0m\u001b[0;34m\u001b[0m\u001b[0;34m\u001b[0m\u001b[0m\n\u001b[0m\u001b[1;32m    755\u001b[0m         \u001b[0;32melse\u001b[0m\u001b[0;34m:\u001b[0m\u001b[0;34m\u001b[0m\u001b[0;34m\u001b[0m\u001b[0m\n\u001b[1;32m    756\u001b[0m             \u001b[0mres\u001b[0m \u001b[0;34m=\u001b[0m \u001b[0mtransformer\u001b[0m\u001b[0;34m.\u001b[0m\u001b[0mfit\u001b[0m\u001b[0;34m(\u001b[0m\u001b[0mX\u001b[0m\u001b[0;34m,\u001b[0m \u001b[0my\u001b[0m\u001b[0;34m,\u001b[0m \u001b[0;34m**\u001b[0m\u001b[0mfit_params\u001b[0m\u001b[0;34m)\u001b[0m\u001b[0;34m.\u001b[0m\u001b[0mtransform\u001b[0m\u001b[0;34m(\u001b[0m\u001b[0mX\u001b[0m\u001b[0;34m)\u001b[0m\u001b[0;34m\u001b[0m\u001b[0;34m\u001b[0m\u001b[0m\n",
      "\u001b[0;32m~/anaconda3/lib/python3.9/site-packages/sklearn/compose/_column_transformer.py\u001b[0m in \u001b[0;36mfit_transform\u001b[0;34m(self, X, y)\u001b[0m\n\u001b[1;32m    503\u001b[0m         \u001b[0mself\u001b[0m\u001b[0;34m.\u001b[0m\u001b[0m_validate_transformers\u001b[0m\u001b[0;34m(\u001b[0m\u001b[0;34m)\u001b[0m\u001b[0;34m\u001b[0m\u001b[0;34m\u001b[0m\u001b[0m\n\u001b[1;32m    504\u001b[0m         \u001b[0mself\u001b[0m\u001b[0;34m.\u001b[0m\u001b[0m_validate_column_callables\u001b[0m\u001b[0;34m(\u001b[0m\u001b[0mX\u001b[0m\u001b[0;34m)\u001b[0m\u001b[0;34m\u001b[0m\u001b[0;34m\u001b[0m\u001b[0m\n\u001b[0;32m--> 505\u001b[0;31m         \u001b[0mself\u001b[0m\u001b[0;34m.\u001b[0m\u001b[0m_validate_remainder\u001b[0m\u001b[0;34m(\u001b[0m\u001b[0mX\u001b[0m\u001b[0;34m)\u001b[0m\u001b[0;34m\u001b[0m\u001b[0;34m\u001b[0m\u001b[0m\n\u001b[0m\u001b[1;32m    506\u001b[0m \u001b[0;34m\u001b[0m\u001b[0m\n\u001b[1;32m    507\u001b[0m         \u001b[0mresult\u001b[0m \u001b[0;34m=\u001b[0m \u001b[0mself\u001b[0m\u001b[0;34m.\u001b[0m\u001b[0m_fit_transform\u001b[0m\u001b[0;34m(\u001b[0m\u001b[0mX\u001b[0m\u001b[0;34m,\u001b[0m \u001b[0my\u001b[0m\u001b[0;34m,\u001b[0m \u001b[0m_fit_transform_one\u001b[0m\u001b[0;34m)\u001b[0m\u001b[0;34m\u001b[0m\u001b[0;34m\u001b[0m\u001b[0m\n",
      "\u001b[0;32m~/anaconda3/lib/python3.9/site-packages/sklearn/compose/_column_transformer.py\u001b[0m in \u001b[0;36m_validate_remainder\u001b[0;34m(self, X)\u001b[0m\n\u001b[1;32m    330\u001b[0m         \u001b[0mcols\u001b[0m \u001b[0;34m=\u001b[0m \u001b[0;34m[\u001b[0m\u001b[0;34m]\u001b[0m\u001b[0;34m\u001b[0m\u001b[0;34m\u001b[0m\u001b[0m\n\u001b[1;32m    331\u001b[0m         \u001b[0;32mfor\u001b[0m \u001b[0mcolumns\u001b[0m \u001b[0;32min\u001b[0m \u001b[0mself\u001b[0m\u001b[0;34m.\u001b[0m\u001b[0m_columns\u001b[0m\u001b[0;34m:\u001b[0m\u001b[0;34m\u001b[0m\u001b[0;34m\u001b[0m\u001b[0m\n\u001b[0;32m--> 332\u001b[0;31m             \u001b[0mcols\u001b[0m\u001b[0;34m.\u001b[0m\u001b[0mextend\u001b[0m\u001b[0;34m(\u001b[0m\u001b[0m_get_column_indices\u001b[0m\u001b[0;34m(\u001b[0m\u001b[0mX\u001b[0m\u001b[0;34m,\u001b[0m \u001b[0mcolumns\u001b[0m\u001b[0;34m)\u001b[0m\u001b[0;34m)\u001b[0m\u001b[0;34m\u001b[0m\u001b[0;34m\u001b[0m\u001b[0m\n\u001b[0m\u001b[1;32m    333\u001b[0m \u001b[0;34m\u001b[0m\u001b[0m\n\u001b[1;32m    334\u001b[0m         \u001b[0mremaining_idx\u001b[0m \u001b[0;34m=\u001b[0m \u001b[0msorted\u001b[0m\u001b[0;34m(\u001b[0m\u001b[0mset\u001b[0m\u001b[0;34m(\u001b[0m\u001b[0mrange\u001b[0m\u001b[0;34m(\u001b[0m\u001b[0mself\u001b[0m\u001b[0;34m.\u001b[0m\u001b[0m_n_features\u001b[0m\u001b[0;34m)\u001b[0m\u001b[0;34m)\u001b[0m \u001b[0;34m-\u001b[0m \u001b[0mset\u001b[0m\u001b[0;34m(\u001b[0m\u001b[0mcols\u001b[0m\u001b[0;34m)\u001b[0m\u001b[0;34m)\u001b[0m\u001b[0;34m\u001b[0m\u001b[0;34m\u001b[0m\u001b[0m\n",
      "\u001b[0;32m~/anaconda3/lib/python3.9/site-packages/sklearn/utils/__init__.py\u001b[0m in \u001b[0;36m_get_column_indices\u001b[0;34m(X, key)\u001b[0m\n\u001b[1;32m    401\u001b[0m \u001b[0;34m\u001b[0m\u001b[0m\n\u001b[1;32m    402\u001b[0m         \u001b[0;32mexcept\u001b[0m \u001b[0mKeyError\u001b[0m \u001b[0;32mas\u001b[0m \u001b[0me\u001b[0m\u001b[0;34m:\u001b[0m\u001b[0;34m\u001b[0m\u001b[0;34m\u001b[0m\u001b[0m\n\u001b[0;32m--> 403\u001b[0;31m             raise ValueError(\n\u001b[0m\u001b[1;32m    404\u001b[0m                 \u001b[0;34m\"A given column is not a column of the dataframe\"\u001b[0m\u001b[0;34m\u001b[0m\u001b[0;34m\u001b[0m\u001b[0m\n\u001b[1;32m    405\u001b[0m             ) from e\n",
      "\u001b[0;31mValueError\u001b[0m: A given column is not a column of the dataframe"
     ]
    }
   ],
   "source": [
    "l = np.array([])\n",
    "for i in range(20):\n",
    "    #random_list = random.sample(range(1, 23), k=1)\n",
    "    random_list\n",
    "    pipe_lr_fin.fit(X_train[ft[[1,2,3,4]][:]], y_train)\n",
    "    l = pipe_lr_fin"
   ]
  },
  {
   "cell_type": "code",
   "execution_count": null,
   "metadata": {},
   "outputs": [],
   "source": []
  },
  {
   "cell_type": "code",
   "execution_count": 146,
   "metadata": {},
   "outputs": [
    {
     "ename": "ValueError",
     "evalue": "Found input variables with inconsistent numbers of samples: [14, 4214]",
     "output_type": "error",
     "traceback": [
      "\u001b[0;31m---------------------------------------------------------------------------\u001b[0m",
      "\u001b[0;31mValueError\u001b[0m                                Traceback (most recent call last)",
      "\u001b[0;32m/tmp/ipykernel_4742/262844005.py\u001b[0m in \u001b[0;36m<module>\u001b[0;34m\u001b[0m\n\u001b[0;32m----> 1\u001b[0;31m \u001b[0mpipe_lr_fin\u001b[0m\u001b[0;34m.\u001b[0m\u001b[0mfit\u001b[0m\u001b[0;34m(\u001b[0m\u001b[0mX_train\u001b[0m\u001b[0;34m.\u001b[0m\u001b[0miloc\u001b[0m\u001b[0;34m[\u001b[0m\u001b[0;34m:\u001b[0m\u001b[0;36m14\u001b[0m\u001b[0;34m]\u001b[0m\u001b[0;34m,\u001b[0m \u001b[0my_train\u001b[0m\u001b[0;34m)\u001b[0m\u001b[0;34m\u001b[0m\u001b[0;34m\u001b[0m\u001b[0m\n\u001b[0m",
      "\u001b[0;32m~/anaconda3/lib/python3.9/site-packages/sklearn/pipeline.py\u001b[0m in \u001b[0;36mfit\u001b[0;34m(self, X, y, **fit_params)\u001b[0m\n\u001b[1;32m    344\u001b[0m             \u001b[0;32mif\u001b[0m \u001b[0mself\u001b[0m\u001b[0;34m.\u001b[0m\u001b[0m_final_estimator\u001b[0m \u001b[0;34m!=\u001b[0m \u001b[0;34m'passthrough'\u001b[0m\u001b[0;34m:\u001b[0m\u001b[0;34m\u001b[0m\u001b[0;34m\u001b[0m\u001b[0m\n\u001b[1;32m    345\u001b[0m                 \u001b[0mfit_params_last_step\u001b[0m \u001b[0;34m=\u001b[0m \u001b[0mfit_params_steps\u001b[0m\u001b[0;34m[\u001b[0m\u001b[0mself\u001b[0m\u001b[0;34m.\u001b[0m\u001b[0msteps\u001b[0m\u001b[0;34m[\u001b[0m\u001b[0;34m-\u001b[0m\u001b[0;36m1\u001b[0m\u001b[0;34m]\u001b[0m\u001b[0;34m[\u001b[0m\u001b[0;36m0\u001b[0m\u001b[0;34m]\u001b[0m\u001b[0;34m]\u001b[0m\u001b[0;34m\u001b[0m\u001b[0;34m\u001b[0m\u001b[0m\n\u001b[0;32m--> 346\u001b[0;31m                 \u001b[0mself\u001b[0m\u001b[0;34m.\u001b[0m\u001b[0m_final_estimator\u001b[0m\u001b[0;34m.\u001b[0m\u001b[0mfit\u001b[0m\u001b[0;34m(\u001b[0m\u001b[0mXt\u001b[0m\u001b[0;34m,\u001b[0m \u001b[0my\u001b[0m\u001b[0;34m,\u001b[0m \u001b[0;34m**\u001b[0m\u001b[0mfit_params_last_step\u001b[0m\u001b[0;34m)\u001b[0m\u001b[0;34m\u001b[0m\u001b[0;34m\u001b[0m\u001b[0m\n\u001b[0m\u001b[1;32m    347\u001b[0m \u001b[0;34m\u001b[0m\u001b[0m\n\u001b[1;32m    348\u001b[0m         \u001b[0;32mreturn\u001b[0m \u001b[0mself\u001b[0m\u001b[0;34m\u001b[0m\u001b[0;34m\u001b[0m\u001b[0m\n",
      "\u001b[0;32m~/anaconda3/lib/python3.9/site-packages/sklearn/linear_model/_logistic.py\u001b[0m in \u001b[0;36mfit\u001b[0;34m(self, X, y, sample_weight)\u001b[0m\n\u001b[1;32m   1342\u001b[0m             \u001b[0m_dtype\u001b[0m \u001b[0;34m=\u001b[0m \u001b[0;34m[\u001b[0m\u001b[0mnp\u001b[0m\u001b[0;34m.\u001b[0m\u001b[0mfloat64\u001b[0m\u001b[0;34m,\u001b[0m \u001b[0mnp\u001b[0m\u001b[0;34m.\u001b[0m\u001b[0mfloat32\u001b[0m\u001b[0;34m]\u001b[0m\u001b[0;34m\u001b[0m\u001b[0;34m\u001b[0m\u001b[0m\n\u001b[1;32m   1343\u001b[0m \u001b[0;34m\u001b[0m\u001b[0m\n\u001b[0;32m-> 1344\u001b[0;31m         X, y = self._validate_data(X, y, accept_sparse='csr', dtype=_dtype,\n\u001b[0m\u001b[1;32m   1345\u001b[0m                                    \u001b[0morder\u001b[0m\u001b[0;34m=\u001b[0m\u001b[0;34m\"C\"\u001b[0m\u001b[0;34m,\u001b[0m\u001b[0;34m\u001b[0m\u001b[0;34m\u001b[0m\u001b[0m\n\u001b[1;32m   1346\u001b[0m                                    accept_large_sparse=solver != 'liblinear')\n",
      "\u001b[0;32m~/anaconda3/lib/python3.9/site-packages/sklearn/base.py\u001b[0m in \u001b[0;36m_validate_data\u001b[0;34m(self, X, y, reset, validate_separately, **check_params)\u001b[0m\n\u001b[1;32m    431\u001b[0m                 \u001b[0my\u001b[0m \u001b[0;34m=\u001b[0m \u001b[0mcheck_array\u001b[0m\u001b[0;34m(\u001b[0m\u001b[0my\u001b[0m\u001b[0;34m,\u001b[0m \u001b[0;34m**\u001b[0m\u001b[0mcheck_y_params\u001b[0m\u001b[0;34m)\u001b[0m\u001b[0;34m\u001b[0m\u001b[0;34m\u001b[0m\u001b[0m\n\u001b[1;32m    432\u001b[0m             \u001b[0;32melse\u001b[0m\u001b[0;34m:\u001b[0m\u001b[0;34m\u001b[0m\u001b[0;34m\u001b[0m\u001b[0m\n\u001b[0;32m--> 433\u001b[0;31m                 \u001b[0mX\u001b[0m\u001b[0;34m,\u001b[0m \u001b[0my\u001b[0m \u001b[0;34m=\u001b[0m \u001b[0mcheck_X_y\u001b[0m\u001b[0;34m(\u001b[0m\u001b[0mX\u001b[0m\u001b[0;34m,\u001b[0m \u001b[0my\u001b[0m\u001b[0;34m,\u001b[0m \u001b[0;34m**\u001b[0m\u001b[0mcheck_params\u001b[0m\u001b[0;34m)\u001b[0m\u001b[0;34m\u001b[0m\u001b[0;34m\u001b[0m\u001b[0m\n\u001b[0m\u001b[1;32m    434\u001b[0m             \u001b[0mout\u001b[0m \u001b[0;34m=\u001b[0m \u001b[0mX\u001b[0m\u001b[0;34m,\u001b[0m \u001b[0my\u001b[0m\u001b[0;34m\u001b[0m\u001b[0;34m\u001b[0m\u001b[0m\n\u001b[1;32m    435\u001b[0m \u001b[0;34m\u001b[0m\u001b[0m\n",
      "\u001b[0;32m~/anaconda3/lib/python3.9/site-packages/sklearn/utils/validation.py\u001b[0m in \u001b[0;36minner_f\u001b[0;34m(*args, **kwargs)\u001b[0m\n\u001b[1;32m     61\u001b[0m             \u001b[0mextra_args\u001b[0m \u001b[0;34m=\u001b[0m \u001b[0mlen\u001b[0m\u001b[0;34m(\u001b[0m\u001b[0margs\u001b[0m\u001b[0;34m)\u001b[0m \u001b[0;34m-\u001b[0m \u001b[0mlen\u001b[0m\u001b[0;34m(\u001b[0m\u001b[0mall_args\u001b[0m\u001b[0;34m)\u001b[0m\u001b[0;34m\u001b[0m\u001b[0;34m\u001b[0m\u001b[0m\n\u001b[1;32m     62\u001b[0m             \u001b[0;32mif\u001b[0m \u001b[0mextra_args\u001b[0m \u001b[0;34m<=\u001b[0m \u001b[0;36m0\u001b[0m\u001b[0;34m:\u001b[0m\u001b[0;34m\u001b[0m\u001b[0;34m\u001b[0m\u001b[0m\n\u001b[0;32m---> 63\u001b[0;31m                 \u001b[0;32mreturn\u001b[0m \u001b[0mf\u001b[0m\u001b[0;34m(\u001b[0m\u001b[0;34m*\u001b[0m\u001b[0margs\u001b[0m\u001b[0;34m,\u001b[0m \u001b[0;34m**\u001b[0m\u001b[0mkwargs\u001b[0m\u001b[0;34m)\u001b[0m\u001b[0;34m\u001b[0m\u001b[0;34m\u001b[0m\u001b[0m\n\u001b[0m\u001b[1;32m     64\u001b[0m \u001b[0;34m\u001b[0m\u001b[0m\n\u001b[1;32m     65\u001b[0m             \u001b[0;31m# extra_args > 0\u001b[0m\u001b[0;34m\u001b[0m\u001b[0;34m\u001b[0m\u001b[0m\n",
      "\u001b[0;32m~/anaconda3/lib/python3.9/site-packages/sklearn/utils/validation.py\u001b[0m in \u001b[0;36mcheck_X_y\u001b[0;34m(X, y, accept_sparse, accept_large_sparse, dtype, order, copy, force_all_finite, ensure_2d, allow_nd, multi_output, ensure_min_samples, ensure_min_features, y_numeric, estimator)\u001b[0m\n\u001b[1;32m    886\u001b[0m         \u001b[0my\u001b[0m \u001b[0;34m=\u001b[0m \u001b[0my\u001b[0m\u001b[0;34m.\u001b[0m\u001b[0mastype\u001b[0m\u001b[0;34m(\u001b[0m\u001b[0mnp\u001b[0m\u001b[0;34m.\u001b[0m\u001b[0mfloat64\u001b[0m\u001b[0;34m)\u001b[0m\u001b[0;34m\u001b[0m\u001b[0;34m\u001b[0m\u001b[0m\n\u001b[1;32m    887\u001b[0m \u001b[0;34m\u001b[0m\u001b[0m\n\u001b[0;32m--> 888\u001b[0;31m     \u001b[0mcheck_consistent_length\u001b[0m\u001b[0;34m(\u001b[0m\u001b[0mX\u001b[0m\u001b[0;34m,\u001b[0m \u001b[0my\u001b[0m\u001b[0;34m)\u001b[0m\u001b[0;34m\u001b[0m\u001b[0;34m\u001b[0m\u001b[0m\n\u001b[0m\u001b[1;32m    889\u001b[0m \u001b[0;34m\u001b[0m\u001b[0m\n\u001b[1;32m    890\u001b[0m     \u001b[0;32mreturn\u001b[0m \u001b[0mX\u001b[0m\u001b[0;34m,\u001b[0m \u001b[0my\u001b[0m\u001b[0;34m\u001b[0m\u001b[0;34m\u001b[0m\u001b[0m\n",
      "\u001b[0;32m~/anaconda3/lib/python3.9/site-packages/sklearn/utils/validation.py\u001b[0m in \u001b[0;36mcheck_consistent_length\u001b[0;34m(*arrays)\u001b[0m\n\u001b[1;32m    317\u001b[0m     \u001b[0muniques\u001b[0m \u001b[0;34m=\u001b[0m \u001b[0mnp\u001b[0m\u001b[0;34m.\u001b[0m\u001b[0munique\u001b[0m\u001b[0;34m(\u001b[0m\u001b[0mlengths\u001b[0m\u001b[0;34m)\u001b[0m\u001b[0;34m\u001b[0m\u001b[0;34m\u001b[0m\u001b[0m\n\u001b[1;32m    318\u001b[0m     \u001b[0;32mif\u001b[0m \u001b[0mlen\u001b[0m\u001b[0;34m(\u001b[0m\u001b[0muniques\u001b[0m\u001b[0;34m)\u001b[0m \u001b[0;34m>\u001b[0m \u001b[0;36m1\u001b[0m\u001b[0;34m:\u001b[0m\u001b[0;34m\u001b[0m\u001b[0;34m\u001b[0m\u001b[0m\n\u001b[0;32m--> 319\u001b[0;31m         raise ValueError(\"Found input variables with inconsistent numbers of\"\n\u001b[0m\u001b[1;32m    320\u001b[0m                          \" samples: %r\" % [int(l) for l in lengths])\n\u001b[1;32m    321\u001b[0m \u001b[0;34m\u001b[0m\u001b[0m\n",
      "\u001b[0;31mValueError\u001b[0m: Found input variables with inconsistent numbers of samples: [14, 4214]"
     ]
    }
   ],
   "source": [
    "pipe_lr_fin.fit(X_train, y_train)"
   ]
  },
  {
   "cell_type": "code",
   "execution_count": 142,
   "metadata": {},
   "outputs": [
    {
     "data": {
      "text/plain": [
       "0.8559611665398283"
      ]
     },
     "execution_count": 142,
     "metadata": {},
     "output_type": "execute_result"
    }
   ],
   "source": [
    "roc_auc_score(y_train, pipe_lr_fin.predict_proba(X_train)[:,1])"
   ]
  },
  {
   "cell_type": "code",
   "execution_count": 143,
   "metadata": {},
   "outputs": [
    {
     "data": {
      "text/plain": [
       "0.8352607193042422"
      ]
     },
     "execution_count": 143,
     "metadata": {},
     "output_type": "execute_result"
    }
   ],
   "source": [
    "roc_auc_score(y_test, pipe_lr_fin.predict_proba(X_test)[:,1])"
   ]
  },
  {
   "cell_type": "code",
   "execution_count": 104,
   "metadata": {
    "execution": {
     "iopub.execute_input": "2023-04-28T21:02:41.541595Z",
     "iopub.status.busy": "2023-04-28T21:02:41.541080Z",
     "iopub.status.idle": "2023-04-28T21:02:41.653129Z",
     "shell.execute_reply": "2023-04-28T21:02:41.652310Z",
     "shell.execute_reply.started": "2023-04-28T21:02:41.541546Z"
    }
   },
   "outputs": [
    {
     "data": {
      "text/plain": [
       "Pipeline(steps=[('preprocessor',\n",
       "                 ColumnTransformer(transformers=[('num',\n",
       "                                                  Pipeline(steps=[('scaler',\n",
       "                                                                   RobustScaler())]),\n",
       "                                                  ['ClientPeriod',\n",
       "                                                   'MonthlySpending',\n",
       "                                                   'TotalSpent',\n",
       "                                                   'MonthlyToTotalRatio',\n",
       "                                                   'PeriodToMonthlyRatio']),\n",
       "                                                 ('cat',\n",
       "                                                  Pipeline(steps=[('ohe',\n",
       "                                                                   OneHotEncoder())]),\n",
       "                                                  ['Sex', 'IsSeniorCitizen',\n",
       "                                                   'HasPartner', 'HasChild',\n",
       "                                                   'HasPhoneService',\n",
       "                                                   'HasMultiplePhoneNumbers',\n",
       "                                                   'HasInternetService',\n",
       "                                                   'HasOnlineSecurityService',\n",
       "                                                   'HasOnlineBackup',\n",
       "                                                   'HasDeviceProtection',\n",
       "                                                   'HasTechSupportAccess',\n",
       "                                                   'HasOnlineTV',\n",
       "                                                   'HasMovieSubscription',\n",
       "                                                   'HasContractPhone',\n",
       "                                                   'IsBillingPaperless',\n",
       "                                                   'PaymentMethod',\n",
       "                                                   'HasPartnerAndChild',\n",
       "                                                   'HasMultipleServices',\n",
       "                                                   'HasMultipleSubscriptions'])])),\n",
       "                ('LR',\n",
       "                 LogisticRegression(C=0.1, max_iter=250, solver='liblinear'))])"
      ]
     },
     "execution_count": 104,
     "metadata": {},
     "output_type": "execute_result"
    }
   ],
   "source": [
    "# Обучаем лучшую модель с найденными гиперпараметрами\n",
    "pipe_lr_fin.fit(X, y)"
   ]
  },
  {
   "cell_type": "code",
   "execution_count": 89,
   "metadata": {
    "execution": {
     "iopub.execute_input": "2023-04-28T20:54:36.585611Z",
     "iopub.status.busy": "2023-04-28T20:54:36.585173Z",
     "iopub.status.idle": "2023-04-28T20:54:36.640061Z",
     "shell.execute_reply": "2023-04-28T20:54:36.638876Z",
     "shell.execute_reply.started": "2023-04-28T20:54:36.585572Z"
    }
   },
   "outputs": [
    {
     "name": "stdout",
     "output_type": "stream",
     "text": [
      "(1761, 19)\n"
     ]
    },
    {
     "data": {
      "text/html": [
       "<div>\n",
       "<style scoped>\n",
       "    .dataframe tbody tr th:only-of-type {\n",
       "        vertical-align: middle;\n",
       "    }\n",
       "\n",
       "    .dataframe tbody tr th {\n",
       "        vertical-align: top;\n",
       "    }\n",
       "\n",
       "    .dataframe thead th {\n",
       "        text-align: right;\n",
       "    }\n",
       "</style>\n",
       "<table border=\"1\" class=\"dataframe\">\n",
       "  <thead>\n",
       "    <tr style=\"text-align: right;\">\n",
       "      <th></th>\n",
       "      <th>ClientPeriod</th>\n",
       "      <th>MonthlySpending</th>\n",
       "      <th>TotalSpent</th>\n",
       "      <th>Sex</th>\n",
       "      <th>IsSeniorCitizen</th>\n",
       "      <th>HasPartner</th>\n",
       "      <th>HasChild</th>\n",
       "      <th>HasPhoneService</th>\n",
       "      <th>HasMultiplePhoneNumbers</th>\n",
       "      <th>HasInternetService</th>\n",
       "      <th>HasOnlineSecurityService</th>\n",
       "      <th>HasOnlineBackup</th>\n",
       "      <th>HasDeviceProtection</th>\n",
       "      <th>HasTechSupportAccess</th>\n",
       "      <th>HasOnlineTV</th>\n",
       "      <th>HasMovieSubscription</th>\n",
       "      <th>HasContractPhone</th>\n",
       "      <th>IsBillingPaperless</th>\n",
       "      <th>PaymentMethod</th>\n",
       "    </tr>\n",
       "  </thead>\n",
       "  <tbody>\n",
       "    <tr>\n",
       "      <th>0</th>\n",
       "      <td>42</td>\n",
       "      <td>56.10</td>\n",
       "      <td>2386.85</td>\n",
       "      <td>Male</td>\n",
       "      <td>0</td>\n",
       "      <td>Yes</td>\n",
       "      <td>No</td>\n",
       "      <td>Yes</td>\n",
       "      <td>Yes</td>\n",
       "      <td>DSL</td>\n",
       "      <td>Yes</td>\n",
       "      <td>No</td>\n",
       "      <td>No</td>\n",
       "      <td>No</td>\n",
       "      <td>No</td>\n",
       "      <td>No</td>\n",
       "      <td>One year</td>\n",
       "      <td>No</td>\n",
       "      <td>Credit card (automatic)</td>\n",
       "    </tr>\n",
       "    <tr>\n",
       "      <th>1</th>\n",
       "      <td>29</td>\n",
       "      <td>98.50</td>\n",
       "      <td>3004.15</td>\n",
       "      <td>Male</td>\n",
       "      <td>1</td>\n",
       "      <td>Yes</td>\n",
       "      <td>No</td>\n",
       "      <td>Yes</td>\n",
       "      <td>Yes</td>\n",
       "      <td>Fiber optic</td>\n",
       "      <td>No</td>\n",
       "      <td>No</td>\n",
       "      <td>Yes</td>\n",
       "      <td>No</td>\n",
       "      <td>Yes</td>\n",
       "      <td>Yes</td>\n",
       "      <td>Month-to-month</td>\n",
       "      <td>Yes</td>\n",
       "      <td>Electronic check</td>\n",
       "    </tr>\n",
       "    <tr>\n",
       "      <th>2</th>\n",
       "      <td>9</td>\n",
       "      <td>76.25</td>\n",
       "      <td>684.85</td>\n",
       "      <td>Male</td>\n",
       "      <td>0</td>\n",
       "      <td>No</td>\n",
       "      <td>No</td>\n",
       "      <td>Yes</td>\n",
       "      <td>Yes</td>\n",
       "      <td>Fiber optic</td>\n",
       "      <td>No</td>\n",
       "      <td>No</td>\n",
       "      <td>No</td>\n",
       "      <td>No</td>\n",
       "      <td>No</td>\n",
       "      <td>No</td>\n",
       "      <td>Month-to-month</td>\n",
       "      <td>Yes</td>\n",
       "      <td>Electronic check</td>\n",
       "    </tr>\n",
       "    <tr>\n",
       "      <th>3</th>\n",
       "      <td>67</td>\n",
       "      <td>74.00</td>\n",
       "      <td>4868.4</td>\n",
       "      <td>Female</td>\n",
       "      <td>0</td>\n",
       "      <td>Yes</td>\n",
       "      <td>Yes</td>\n",
       "      <td>Yes</td>\n",
       "      <td>Yes</td>\n",
       "      <td>DSL</td>\n",
       "      <td>Yes</td>\n",
       "      <td>Yes</td>\n",
       "      <td>No</td>\n",
       "      <td>Yes</td>\n",
       "      <td>Yes</td>\n",
       "      <td>No</td>\n",
       "      <td>Two year</td>\n",
       "      <td>No</td>\n",
       "      <td>Credit card (automatic)</td>\n",
       "    </tr>\n",
       "    <tr>\n",
       "      <th>4</th>\n",
       "      <td>71</td>\n",
       "      <td>20.10</td>\n",
       "      <td>1389.6</td>\n",
       "      <td>Female</td>\n",
       "      <td>0</td>\n",
       "      <td>Yes</td>\n",
       "      <td>Yes</td>\n",
       "      <td>Yes</td>\n",
       "      <td>No</td>\n",
       "      <td>No</td>\n",
       "      <td>No internet service</td>\n",
       "      <td>No internet service</td>\n",
       "      <td>No internet service</td>\n",
       "      <td>No internet service</td>\n",
       "      <td>No internet service</td>\n",
       "      <td>No internet service</td>\n",
       "      <td>Two year</td>\n",
       "      <td>No</td>\n",
       "      <td>Bank transfer (automatic)</td>\n",
       "    </tr>\n",
       "  </tbody>\n",
       "</table>\n",
       "</div>"
      ],
      "text/plain": [
       "   ClientPeriod  MonthlySpending TotalSpent     Sex  IsSeniorCitizen  \\\n",
       "0            42            56.10    2386.85    Male                0   \n",
       "1            29            98.50    3004.15    Male                1   \n",
       "2             9            76.25     684.85    Male                0   \n",
       "3            67            74.00     4868.4  Female                0   \n",
       "4            71            20.10     1389.6  Female                0   \n",
       "\n",
       "  HasPartner HasChild HasPhoneService HasMultiplePhoneNumbers  \\\n",
       "0        Yes       No             Yes                     Yes   \n",
       "1        Yes       No             Yes                     Yes   \n",
       "2         No       No             Yes                     Yes   \n",
       "3        Yes      Yes             Yes                     Yes   \n",
       "4        Yes      Yes             Yes                      No   \n",
       "\n",
       "  HasInternetService HasOnlineSecurityService      HasOnlineBackup  \\\n",
       "0                DSL                      Yes                   No   \n",
       "1        Fiber optic                       No                   No   \n",
       "2        Fiber optic                       No                   No   \n",
       "3                DSL                      Yes                  Yes   \n",
       "4                 No      No internet service  No internet service   \n",
       "\n",
       "   HasDeviceProtection HasTechSupportAccess          HasOnlineTV  \\\n",
       "0                   No                   No                   No   \n",
       "1                  Yes                   No                  Yes   \n",
       "2                   No                   No                   No   \n",
       "3                   No                  Yes                  Yes   \n",
       "4  No internet service  No internet service  No internet service   \n",
       "\n",
       "  HasMovieSubscription HasContractPhone IsBillingPaperless  \\\n",
       "0                   No         One year                 No   \n",
       "1                  Yes   Month-to-month                Yes   \n",
       "2                   No   Month-to-month                Yes   \n",
       "3                   No         Two year                 No   \n",
       "4  No internet service         Two year                 No   \n",
       "\n",
       "               PaymentMethod  \n",
       "0    Credit card (automatic)  \n",
       "1           Electronic check  \n",
       "2           Electronic check  \n",
       "3    Credit card (automatic)  \n",
       "4  Bank transfer (automatic)  "
      ]
     },
     "execution_count": 89,
     "metadata": {},
     "output_type": "execute_result"
    }
   ],
   "source": [
    "valid_df = pd.read_csv('../test.csv')\n",
    "print(valid_df.shape)\n",
    "valid_df.head()"
   ]
  },
  {
   "cell_type": "code",
   "execution_count": 90,
   "metadata": {
    "execution": {
     "iopub.execute_input": "2023-04-28T20:54:38.994122Z",
     "iopub.status.busy": "2023-04-28T20:54:38.993699Z",
     "iopub.status.idle": "2023-04-28T20:54:39.012108Z",
     "shell.execute_reply": "2023-04-28T20:54:39.010893Z",
     "shell.execute_reply.started": "2023-04-28T20:54:38.994086Z"
    }
   },
   "outputs": [
    {
     "name": "stdout",
     "output_type": "stream",
     "text": [
      "<class 'pandas.core.frame.DataFrame'>\n",
      "RangeIndex: 1761 entries, 0 to 1760\n",
      "Data columns (total 19 columns):\n",
      " #   Column                    Non-Null Count  Dtype  \n",
      "---  ------                    --------------  -----  \n",
      " 0   ClientPeriod              1761 non-null   int64  \n",
      " 1   MonthlySpending           1761 non-null   float64\n",
      " 2   TotalSpent                1761 non-null   object \n",
      " 3   Sex                       1761 non-null   object \n",
      " 4   IsSeniorCitizen           1761 non-null   int64  \n",
      " 5   HasPartner                1761 non-null   object \n",
      " 6   HasChild                  1761 non-null   object \n",
      " 7   HasPhoneService           1761 non-null   object \n",
      " 8   HasMultiplePhoneNumbers   1761 non-null   object \n",
      " 9   HasInternetService        1761 non-null   object \n",
      " 10  HasOnlineSecurityService  1761 non-null   object \n",
      " 11  HasOnlineBackup           1761 non-null   object \n",
      " 12  HasDeviceProtection       1761 non-null   object \n",
      " 13  HasTechSupportAccess      1761 non-null   object \n",
      " 14  HasOnlineTV               1761 non-null   object \n",
      " 15  HasMovieSubscription      1761 non-null   object \n",
      " 16  HasContractPhone          1761 non-null   object \n",
      " 17  IsBillingPaperless        1761 non-null   object \n",
      " 18  PaymentMethod             1761 non-null   object \n",
      "dtypes: float64(1), int64(2), object(16)\n",
      "memory usage: 261.5+ KB\n"
     ]
    }
   ],
   "source": [
    "valid_df.info()"
   ]
  },
  {
   "cell_type": "code",
   "execution_count": 91,
   "metadata": {
    "execution": {
     "iopub.execute_input": "2023-04-28T20:54:42.704297Z",
     "iopub.status.busy": "2023-04-28T20:54:42.703879Z",
     "iopub.status.idle": "2023-04-28T20:54:42.714237Z",
     "shell.execute_reply": "2023-04-28T20:54:42.713033Z",
     "shell.execute_reply.started": "2023-04-28T20:54:42.704261Z"
    }
   },
   "outputs": [],
   "source": [
    "valid_df['IsSeniorCitizen'] = valid_df['IsSeniorCitizen'].astype('object')"
   ]
  },
  {
   "cell_type": "code",
   "execution_count": 92,
   "metadata": {
    "execution": {
     "iopub.execute_input": "2023-04-28T20:54:44.184082Z",
     "iopub.status.busy": "2023-04-28T20:54:44.183115Z",
     "iopub.status.idle": "2023-04-28T20:54:44.206083Z",
     "shell.execute_reply": "2023-04-28T20:54:44.204904Z",
     "shell.execute_reply.started": "2023-04-28T20:54:44.184040Z"
    }
   },
   "outputs": [
    {
     "name": "stdout",
     "output_type": "stream",
     "text": [
      "<class 'pandas.core.frame.DataFrame'>\n",
      "RangeIndex: 1761 entries, 0 to 1760\n",
      "Data columns (total 19 columns):\n",
      " #   Column                    Non-Null Count  Dtype  \n",
      "---  ------                    --------------  -----  \n",
      " 0   ClientPeriod              1761 non-null   int64  \n",
      " 1   MonthlySpending           1761 non-null   float64\n",
      " 2   TotalSpent                1759 non-null   float64\n",
      " 3   Sex                       1761 non-null   object \n",
      " 4   IsSeniorCitizen           1761 non-null   object \n",
      " 5   HasPartner                1761 non-null   object \n",
      " 6   HasChild                  1761 non-null   object \n",
      " 7   HasPhoneService           1761 non-null   object \n",
      " 8   HasMultiplePhoneNumbers   1761 non-null   object \n",
      " 9   HasInternetService        1761 non-null   object \n",
      " 10  HasOnlineSecurityService  1761 non-null   object \n",
      " 11  HasOnlineBackup           1761 non-null   object \n",
      " 12  HasDeviceProtection       1761 non-null   object \n",
      " 13  HasTechSupportAccess      1761 non-null   object \n",
      " 14  HasOnlineTV               1761 non-null   object \n",
      " 15  HasMovieSubscription      1761 non-null   object \n",
      " 16  HasContractPhone          1761 non-null   object \n",
      " 17  IsBillingPaperless        1761 non-null   object \n",
      " 18  PaymentMethod             1761 non-null   object \n",
      "dtypes: float64(2), int64(1), object(16)\n",
      "memory usage: 261.5+ KB\n"
     ]
    }
   ],
   "source": [
    "# Очистка и приведение к числовому типу\n",
    "valid_df['TotalSpent'] = valid_df['TotalSpent'].str.strip()\n",
    "valid_df['TotalSpent'] = valid_df['TotalSpent'].replace('', np.nan)\n",
    "valid_df['TotalSpent'] = valid_df['TotalSpent'].astype('float64')\n",
    "valid_df.info()"
   ]
  },
  {
   "cell_type": "code",
   "execution_count": 93,
   "metadata": {
    "execution": {
     "iopub.execute_input": "2023-04-28T20:54:47.073599Z",
     "iopub.status.busy": "2023-04-28T20:54:47.073213Z",
     "iopub.status.idle": "2023-04-28T20:54:47.106115Z",
     "shell.execute_reply": "2023-04-28T20:54:47.105002Z",
     "shell.execute_reply.started": "2023-04-28T20:54:47.073558Z"
    }
   },
   "outputs": [
    {
     "name": "stdout",
     "output_type": "stream",
     "text": [
      "ClientPeriod                0\n",
      "MonthlySpending             0\n",
      "TotalSpent                  2\n",
      "Sex                         0\n",
      "IsSeniorCitizen             0\n",
      "HasPartner                  0\n",
      "HasChild                    0\n",
      "HasPhoneService             0\n",
      "HasMultiplePhoneNumbers     0\n",
      "HasInternetService          0\n",
      "HasOnlineSecurityService    0\n",
      "HasOnlineBackup             0\n",
      "HasDeviceProtection         0\n",
      "HasTechSupportAccess        0\n",
      "HasOnlineTV                 0\n",
      "HasMovieSubscription        0\n",
      "HasContractPhone            0\n",
      "IsBillingPaperless          0\n",
      "PaymentMethod               0\n",
      "dtype: int64\n"
     ]
    },
    {
     "data": {
      "text/html": [
       "<div>\n",
       "<style scoped>\n",
       "    .dataframe tbody tr th:only-of-type {\n",
       "        vertical-align: middle;\n",
       "    }\n",
       "\n",
       "    .dataframe tbody tr th {\n",
       "        vertical-align: top;\n",
       "    }\n",
       "\n",
       "    .dataframe thead th {\n",
       "        text-align: right;\n",
       "    }\n",
       "</style>\n",
       "<table border=\"1\" class=\"dataframe\">\n",
       "  <thead>\n",
       "    <tr style=\"text-align: right;\">\n",
       "      <th></th>\n",
       "      <th>ClientPeriod</th>\n",
       "      <th>MonthlySpending</th>\n",
       "      <th>TotalSpent</th>\n",
       "      <th>Sex</th>\n",
       "      <th>IsSeniorCitizen</th>\n",
       "      <th>HasPartner</th>\n",
       "      <th>HasChild</th>\n",
       "      <th>HasPhoneService</th>\n",
       "      <th>HasMultiplePhoneNumbers</th>\n",
       "      <th>HasInternetService</th>\n",
       "      <th>HasOnlineSecurityService</th>\n",
       "      <th>HasOnlineBackup</th>\n",
       "      <th>HasDeviceProtection</th>\n",
       "      <th>HasTechSupportAccess</th>\n",
       "      <th>HasOnlineTV</th>\n",
       "      <th>HasMovieSubscription</th>\n",
       "      <th>HasContractPhone</th>\n",
       "      <th>IsBillingPaperless</th>\n",
       "      <th>PaymentMethod</th>\n",
       "    </tr>\n",
       "  </thead>\n",
       "  <tbody>\n",
       "    <tr>\n",
       "      <th>177</th>\n",
       "      <td>0</td>\n",
       "      <td>19.85</td>\n",
       "      <td>NaN</td>\n",
       "      <td>Male</td>\n",
       "      <td>0</td>\n",
       "      <td>Yes</td>\n",
       "      <td>Yes</td>\n",
       "      <td>Yes</td>\n",
       "      <td>No</td>\n",
       "      <td>No</td>\n",
       "      <td>No internet service</td>\n",
       "      <td>No internet service</td>\n",
       "      <td>No internet service</td>\n",
       "      <td>No internet service</td>\n",
       "      <td>No internet service</td>\n",
       "      <td>No internet service</td>\n",
       "      <td>Two year</td>\n",
       "      <td>No</td>\n",
       "      <td>Mailed check</td>\n",
       "    </tr>\n",
       "    <tr>\n",
       "      <th>767</th>\n",
       "      <td>0</td>\n",
       "      <td>20.25</td>\n",
       "      <td>NaN</td>\n",
       "      <td>Male</td>\n",
       "      <td>0</td>\n",
       "      <td>No</td>\n",
       "      <td>Yes</td>\n",
       "      <td>Yes</td>\n",
       "      <td>No</td>\n",
       "      <td>No</td>\n",
       "      <td>No internet service</td>\n",
       "      <td>No internet service</td>\n",
       "      <td>No internet service</td>\n",
       "      <td>No internet service</td>\n",
       "      <td>No internet service</td>\n",
       "      <td>No internet service</td>\n",
       "      <td>Two year</td>\n",
       "      <td>No</td>\n",
       "      <td>Mailed check</td>\n",
       "    </tr>\n",
       "  </tbody>\n",
       "</table>\n",
       "</div>"
      ],
      "text/plain": [
       "     ClientPeriod  MonthlySpending  TotalSpent   Sex IsSeniorCitizen  \\\n",
       "177             0            19.85         NaN  Male               0   \n",
       "767             0            20.25         NaN  Male               0   \n",
       "\n",
       "    HasPartner HasChild HasPhoneService HasMultiplePhoneNumbers  \\\n",
       "177        Yes      Yes             Yes                      No   \n",
       "767         No      Yes             Yes                      No   \n",
       "\n",
       "    HasInternetService HasOnlineSecurityService      HasOnlineBackup  \\\n",
       "177                 No      No internet service  No internet service   \n",
       "767                 No      No internet service  No internet service   \n",
       "\n",
       "     HasDeviceProtection HasTechSupportAccess          HasOnlineTV  \\\n",
       "177  No internet service  No internet service  No internet service   \n",
       "767  No internet service  No internet service  No internet service   \n",
       "\n",
       "    HasMovieSubscription HasContractPhone IsBillingPaperless PaymentMethod  \n",
       "177  No internet service         Two year                 No  Mailed check  \n",
       "767  No internet service         Two year                 No  Mailed check  "
      ]
     },
     "execution_count": 93,
     "metadata": {},
     "output_type": "execute_result"
    }
   ],
   "source": [
    "print(valid_df.isna().sum())\n",
    "filt = (valid_df['TotalSpent'].isna() == True) \n",
    "valid_df[filt]"
   ]
  },
  {
   "cell_type": "code",
   "execution_count": 94,
   "metadata": {
    "execution": {
     "iopub.execute_input": "2023-04-28T20:54:50.402619Z",
     "iopub.status.busy": "2023-04-28T20:54:50.402211Z",
     "iopub.status.idle": "2023-04-28T20:54:50.414988Z",
     "shell.execute_reply": "2023-04-28T20:54:50.413677Z",
     "shell.execute_reply.started": "2023-04-28T20:54:50.402583Z"
    }
   },
   "outputs": [
    {
     "name": "stdout",
     "output_type": "stream",
     "text": [
      "ClientPeriod                0\n",
      "MonthlySpending             0\n",
      "TotalSpent                  0\n",
      "Sex                         0\n",
      "IsSeniorCitizen             0\n",
      "HasPartner                  0\n",
      "HasChild                    0\n",
      "HasPhoneService             0\n",
      "HasMultiplePhoneNumbers     0\n",
      "HasInternetService          0\n",
      "HasOnlineSecurityService    0\n",
      "HasOnlineBackup             0\n",
      "HasDeviceProtection         0\n",
      "HasTechSupportAccess        0\n",
      "HasOnlineTV                 0\n",
      "HasMovieSubscription        0\n",
      "HasContractPhone            0\n",
      "IsBillingPaperless          0\n",
      "PaymentMethod               0\n",
      "dtype: int64\n"
     ]
    }
   ],
   "source": [
    "valid_df['ClientPeriod'].replace(0, 0.5, inplace=True)\n",
    "valid_df['TotalSpent'].fillna(valid_df['MonthlySpending'], inplace=True)\n",
    "print(valid_df.isna().sum())"
   ]
  },
  {
   "cell_type": "code",
   "execution_count": 95,
   "metadata": {
    "execution": {
     "iopub.execute_input": "2023-04-28T20:54:53.419870Z",
     "iopub.status.busy": "2023-04-28T20:54:53.419456Z",
     "iopub.status.idle": "2023-04-28T20:54:53.463969Z",
     "shell.execute_reply": "2023-04-28T20:54:53.462858Z",
     "shell.execute_reply.started": "2023-04-28T20:54:53.419834Z"
    }
   },
   "outputs": [
    {
     "data": {
      "text/html": [
       "<div>\n",
       "<style scoped>\n",
       "    .dataframe tbody tr th:only-of-type {\n",
       "        vertical-align: middle;\n",
       "    }\n",
       "\n",
       "    .dataframe tbody tr th {\n",
       "        vertical-align: top;\n",
       "    }\n",
       "\n",
       "    .dataframe thead th {\n",
       "        text-align: right;\n",
       "    }\n",
       "</style>\n",
       "<table border=\"1\" class=\"dataframe\">\n",
       "  <thead>\n",
       "    <tr style=\"text-align: right;\">\n",
       "      <th></th>\n",
       "      <th>ClientPeriod</th>\n",
       "      <th>MonthlySpending</th>\n",
       "      <th>TotalSpent</th>\n",
       "      <th>Sex</th>\n",
       "      <th>IsSeniorCitizen</th>\n",
       "      <th>HasPartner</th>\n",
       "      <th>HasChild</th>\n",
       "      <th>HasPhoneService</th>\n",
       "      <th>HasMultiplePhoneNumbers</th>\n",
       "      <th>HasInternetService</th>\n",
       "      <th>...</th>\n",
       "      <th>HasOnlineTV</th>\n",
       "      <th>HasMovieSubscription</th>\n",
       "      <th>HasContractPhone</th>\n",
       "      <th>IsBillingPaperless</th>\n",
       "      <th>PaymentMethod</th>\n",
       "      <th>HasMultipleServices</th>\n",
       "      <th>HasMultipleSubscriptions</th>\n",
       "      <th>HasPartnerAndChild</th>\n",
       "      <th>MonthlyToTotalRatio</th>\n",
       "      <th>PeriodToMonthlyRatio</th>\n",
       "    </tr>\n",
       "  </thead>\n",
       "  <tbody>\n",
       "    <tr>\n",
       "      <th>0</th>\n",
       "      <td>42.0</td>\n",
       "      <td>56.10</td>\n",
       "      <td>2386.85</td>\n",
       "      <td>Male</td>\n",
       "      <td>0</td>\n",
       "      <td>Yes</td>\n",
       "      <td>No</td>\n",
       "      <td>Yes</td>\n",
       "      <td>Yes</td>\n",
       "      <td>DSL</td>\n",
       "      <td>...</td>\n",
       "      <td>No</td>\n",
       "      <td>No</td>\n",
       "      <td>One year</td>\n",
       "      <td>No</td>\n",
       "      <td>Credit card (automatic)</td>\n",
       "      <td>1</td>\n",
       "      <td>0</td>\n",
       "      <td>0</td>\n",
       "      <td>0.023504</td>\n",
       "      <td>0.748663</td>\n",
       "    </tr>\n",
       "    <tr>\n",
       "      <th>1</th>\n",
       "      <td>29.0</td>\n",
       "      <td>98.50</td>\n",
       "      <td>3004.15</td>\n",
       "      <td>Male</td>\n",
       "      <td>1</td>\n",
       "      <td>Yes</td>\n",
       "      <td>No</td>\n",
       "      <td>Yes</td>\n",
       "      <td>Yes</td>\n",
       "      <td>Fiber optic</td>\n",
       "      <td>...</td>\n",
       "      <td>Yes</td>\n",
       "      <td>Yes</td>\n",
       "      <td>Month-to-month</td>\n",
       "      <td>Yes</td>\n",
       "      <td>Electronic check</td>\n",
       "      <td>1</td>\n",
       "      <td>1</td>\n",
       "      <td>0</td>\n",
       "      <td>0.032788</td>\n",
       "      <td>0.294416</td>\n",
       "    </tr>\n",
       "    <tr>\n",
       "      <th>2</th>\n",
       "      <td>9.0</td>\n",
       "      <td>76.25</td>\n",
       "      <td>684.85</td>\n",
       "      <td>Male</td>\n",
       "      <td>0</td>\n",
       "      <td>No</td>\n",
       "      <td>No</td>\n",
       "      <td>Yes</td>\n",
       "      <td>Yes</td>\n",
       "      <td>Fiber optic</td>\n",
       "      <td>...</td>\n",
       "      <td>No</td>\n",
       "      <td>No</td>\n",
       "      <td>Month-to-month</td>\n",
       "      <td>Yes</td>\n",
       "      <td>Electronic check</td>\n",
       "      <td>1</td>\n",
       "      <td>0</td>\n",
       "      <td>0</td>\n",
       "      <td>0.111338</td>\n",
       "      <td>0.118033</td>\n",
       "    </tr>\n",
       "    <tr>\n",
       "      <th>3</th>\n",
       "      <td>67.0</td>\n",
       "      <td>74.00</td>\n",
       "      <td>4868.40</td>\n",
       "      <td>Female</td>\n",
       "      <td>0</td>\n",
       "      <td>Yes</td>\n",
       "      <td>Yes</td>\n",
       "      <td>Yes</td>\n",
       "      <td>Yes</td>\n",
       "      <td>DSL</td>\n",
       "      <td>...</td>\n",
       "      <td>Yes</td>\n",
       "      <td>No</td>\n",
       "      <td>Two year</td>\n",
       "      <td>No</td>\n",
       "      <td>Credit card (automatic)</td>\n",
       "      <td>1</td>\n",
       "      <td>1</td>\n",
       "      <td>1</td>\n",
       "      <td>0.015200</td>\n",
       "      <td>0.905405</td>\n",
       "    </tr>\n",
       "    <tr>\n",
       "      <th>4</th>\n",
       "      <td>71.0</td>\n",
       "      <td>20.10</td>\n",
       "      <td>1389.60</td>\n",
       "      <td>Female</td>\n",
       "      <td>0</td>\n",
       "      <td>Yes</td>\n",
       "      <td>Yes</td>\n",
       "      <td>Yes</td>\n",
       "      <td>No</td>\n",
       "      <td>No</td>\n",
       "      <td>...</td>\n",
       "      <td>No internet service</td>\n",
       "      <td>No internet service</td>\n",
       "      <td>Two year</td>\n",
       "      <td>No</td>\n",
       "      <td>Bank transfer (automatic)</td>\n",
       "      <td>0</td>\n",
       "      <td>0</td>\n",
       "      <td>1</td>\n",
       "      <td>0.014465</td>\n",
       "      <td>3.532338</td>\n",
       "    </tr>\n",
       "  </tbody>\n",
       "</table>\n",
       "<p>5 rows × 24 columns</p>\n",
       "</div>"
      ],
      "text/plain": [
       "   ClientPeriod  MonthlySpending  TotalSpent     Sex IsSeniorCitizen  \\\n",
       "0          42.0            56.10     2386.85    Male               0   \n",
       "1          29.0            98.50     3004.15    Male               1   \n",
       "2           9.0            76.25      684.85    Male               0   \n",
       "3          67.0            74.00     4868.40  Female               0   \n",
       "4          71.0            20.10     1389.60  Female               0   \n",
       "\n",
       "  HasPartner HasChild HasPhoneService HasMultiplePhoneNumbers  \\\n",
       "0        Yes       No             Yes                     Yes   \n",
       "1        Yes       No             Yes                     Yes   \n",
       "2         No       No             Yes                     Yes   \n",
       "3        Yes      Yes             Yes                     Yes   \n",
       "4        Yes      Yes             Yes                      No   \n",
       "\n",
       "  HasInternetService  ...          HasOnlineTV HasMovieSubscription  \\\n",
       "0                DSL  ...                   No                   No   \n",
       "1        Fiber optic  ...                  Yes                  Yes   \n",
       "2        Fiber optic  ...                   No                   No   \n",
       "3                DSL  ...                  Yes                   No   \n",
       "4                 No  ...  No internet service  No internet service   \n",
       "\n",
       "  HasContractPhone IsBillingPaperless              PaymentMethod  \\\n",
       "0         One year                 No    Credit card (automatic)   \n",
       "1   Month-to-month                Yes           Electronic check   \n",
       "2   Month-to-month                Yes           Electronic check   \n",
       "3         Two year                 No    Credit card (automatic)   \n",
       "4         Two year                 No  Bank transfer (automatic)   \n",
       "\n",
       "  HasMultipleServices HasMultipleSubscriptions HasPartnerAndChild  \\\n",
       "0                   1                        0                  0   \n",
       "1                   1                        1                  0   \n",
       "2                   1                        0                  0   \n",
       "3                   1                        1                  1   \n",
       "4                   0                        0                  1   \n",
       "\n",
       "  MonthlyToTotalRatio  PeriodToMonthlyRatio  \n",
       "0            0.023504              0.748663  \n",
       "1            0.032788              0.294416  \n",
       "2            0.111338              0.118033  \n",
       "3            0.015200              0.905405  \n",
       "4            0.014465              3.532338  \n",
       "\n",
       "[5 rows x 24 columns]"
      ]
     },
     "execution_count": 95,
     "metadata": {},
     "output_type": "execute_result"
    }
   ],
   "source": [
    "valid_df = feature_engineering(valid_df)\n",
    "valid_df.head()"
   ]
  },
  {
   "cell_type": "code",
   "execution_count": 96,
   "metadata": {
    "execution": {
     "iopub.execute_input": "2023-04-28T21:05:40.665985Z",
     "iopub.status.busy": "2023-04-28T21:05:40.665578Z",
     "iopub.status.idle": "2023-04-28T21:05:40.704294Z",
     "shell.execute_reply": "2023-04-28T21:05:40.702476Z",
     "shell.execute_reply.started": "2023-04-28T21:05:40.665948Z"
    }
   },
   "outputs": [
    {
     "data": {
      "text/plain": [
       "(1761, 2)"
      ]
     },
     "execution_count": 96,
     "metadata": {},
     "output_type": "execute_result"
    }
   ],
   "source": [
    "fin_probs = pipe_lr_fin.predict_proba(valid_df)\n",
    "fin_probs.shape"
   ]
  },
  {
   "cell_type": "code",
   "execution_count": 97,
   "metadata": {
    "execution": {
     "iopub.execute_input": "2023-04-28T21:05:41.489828Z",
     "iopub.status.busy": "2023-04-28T21:05:41.489420Z",
     "iopub.status.idle": "2023-04-28T21:05:41.500484Z",
     "shell.execute_reply": "2023-04-28T21:05:41.499557Z",
     "shell.execute_reply.started": "2023-04-28T21:05:41.489775Z"
    }
   },
   "outputs": [
    {
     "data": {
      "text/html": [
       "<div>\n",
       "<style scoped>\n",
       "    .dataframe tbody tr th:only-of-type {\n",
       "        vertical-align: middle;\n",
       "    }\n",
       "\n",
       "    .dataframe tbody tr th {\n",
       "        vertical-align: top;\n",
       "    }\n",
       "\n",
       "    .dataframe thead th {\n",
       "        text-align: right;\n",
       "    }\n",
       "</style>\n",
       "<table border=\"1\" class=\"dataframe\">\n",
       "  <thead>\n",
       "    <tr style=\"text-align: right;\">\n",
       "      <th></th>\n",
       "      <th>Churn</th>\n",
       "    </tr>\n",
       "    <tr>\n",
       "      <th>Id</th>\n",
       "      <th></th>\n",
       "    </tr>\n",
       "  </thead>\n",
       "  <tbody>\n",
       "    <tr>\n",
       "      <th>0</th>\n",
       "      <td>0.049819</td>\n",
       "    </tr>\n",
       "    <tr>\n",
       "      <th>1</th>\n",
       "      <td>0.680355</td>\n",
       "    </tr>\n",
       "    <tr>\n",
       "      <th>2</th>\n",
       "      <td>0.631765</td>\n",
       "    </tr>\n",
       "    <tr>\n",
       "      <th>3</th>\n",
       "      <td>0.011494</td>\n",
       "    </tr>\n",
       "    <tr>\n",
       "      <th>4</th>\n",
       "      <td>0.002903</td>\n",
       "    </tr>\n",
       "  </tbody>\n",
       "</table>\n",
       "</div>"
      ],
      "text/plain": [
       "       Churn\n",
       "Id          \n",
       "0   0.049819\n",
       "1   0.680355\n",
       "2   0.631765\n",
       "3   0.011494\n",
       "4   0.002903"
      ]
     },
     "execution_count": 97,
     "metadata": {},
     "output_type": "execute_result"
    }
   ],
   "source": [
    "preds = pd.DataFrame(fin_probs[:, 1], columns=['Churn'])\n",
    "preds.index.names = ['Id']\n",
    "preds.head()"
   ]
  },
  {
   "cell_type": "code",
   "execution_count": 98,
   "metadata": {
    "execution": {
     "iopub.execute_input": "2023-04-28T21:05:55.175494Z",
     "iopub.status.busy": "2023-04-28T21:05:55.174839Z",
     "iopub.status.idle": "2023-04-28T21:05:55.190600Z",
     "shell.execute_reply": "2023-04-28T21:05:55.189424Z",
     "shell.execute_reply.started": "2023-04-28T21:05:55.175456Z"
    }
   },
   "outputs": [],
   "source": [
    "preds.to_csv('submission.csv')"
   ]
  },
  {
   "cell_type": "markdown",
   "metadata": {},
   "source": [
    "### После гридсерча скор упал на 0.00003. На степике лучший скор.⠀"
   ]
  },
  {
   "cell_type": "markdown",
   "metadata": {},
   "source": [
    "Ниже -- остатки бейзлайн решения, можно игнорировать."
   ]
  },
  {
   "cell_type": "markdown",
   "metadata": {},
   "source": [
    "==============="
   ]
  },
  {
   "cell_type": "code",
   "execution_count": null,
   "metadata": {
    "execution": {
     "iopub.execute_input": "2023-04-28T16:55:53.141060Z",
     "iopub.status.busy": "2023-04-28T16:55:53.140652Z",
     "iopub.status.idle": "2023-04-28T16:55:53.196401Z",
     "shell.execute_reply": "2023-04-28T16:55:53.195132Z",
     "shell.execute_reply.started": "2023-04-28T16:55:53.141025Z"
    }
   },
   "outputs": [],
   "source": [
    "# # Кодирование категориальных признаков\n",
    "# enc = OneHotEncoder(sparse=False)\n",
    "# enc.fit(valid_df[cat_cols])\n",
    "\n",
    "# encoded = enc.transform(valid_df[cat_cols])\n",
    "# encoded = pd.DataFrame(encoded, columns=enc.get_feature_names_out()).reset_index(drop=True)\n",
    "# print(encoded.shape)\n",
    "# encoded.head()"
   ]
  },
  {
   "cell_type": "code",
   "execution_count": null,
   "metadata": {
    "execution": {
     "iopub.execute_input": "2023-04-28T16:56:21.622777Z",
     "iopub.status.busy": "2023-04-28T16:56:21.622333Z",
     "iopub.status.idle": "2023-04-28T16:56:21.648736Z",
     "shell.execute_reply": "2023-04-28T16:56:21.647783Z",
     "shell.execute_reply.started": "2023-04-28T16:56:21.622737Z"
    }
   },
   "outputs": [],
   "source": [
    "# # Нормируем числовые признаки\n",
    "# # scaler = StandardScaler()\n",
    "# scaler = RobustScaler()\n",
    "# feat_norm = scaler.fit_transform(valid_df[num_cols])\n",
    "# feat_norm = pd.DataFrame(feat_norm, columns=valid_df[num_cols].columns)\n",
    "# feat_norm = feat_norm.drop(columns=['TotalSpent'])\n",
    "# print(feat_norm.shape)\n",
    "# feat_norm.head()"
   ]
  },
  {
   "cell_type": "code",
   "execution_count": null,
   "metadata": {
    "execution": {
     "iopub.execute_input": "2023-04-28T16:56:22.377945Z",
     "iopub.status.busy": "2023-04-28T16:56:22.377481Z",
     "iopub.status.idle": "2023-04-28T16:56:22.384253Z",
     "shell.execute_reply": "2023-04-28T16:56:22.383073Z",
     "shell.execute_reply.started": "2023-04-28T16:56:22.377906Z"
    }
   },
   "outputs": [],
   "source": [
    "# valid_df = pd.concat([encoded, feat_norm], axis=1)"
   ]
  },
  {
   "cell_type": "code",
   "execution_count": null,
   "metadata": {
    "execution": {
     "iopub.execute_input": "2023-04-28T16:56:23.721254Z",
     "iopub.status.busy": "2023-04-28T16:56:23.720834Z",
     "iopub.status.idle": "2023-04-28T16:56:23.762920Z",
     "shell.execute_reply": "2023-04-28T16:56:23.761665Z",
     "shell.execute_reply.started": "2023-04-28T16:56:23.721216Z"
    }
   },
   "outputs": [],
   "source": [
    "# valid_df"
   ]
  },
  {
   "cell_type": "code",
   "execution_count": null,
   "metadata": {
    "execution": {
     "iopub.execute_input": "2023-04-28T16:56:24.421002Z",
     "iopub.status.busy": "2023-04-28T16:56:24.420315Z",
     "iopub.status.idle": "2023-04-28T16:56:24.426072Z",
     "shell.execute_reply": "2023-04-28T16:56:24.425011Z",
     "shell.execute_reply.started": "2023-04-28T16:56:24.420953Z"
    }
   },
   "outputs": [],
   "source": [
    "# X = valid_df"
   ]
  },
  {
   "cell_type": "code",
   "execution_count": null,
   "metadata": {
    "execution": {
     "iopub.execute_input": "2023-04-28T16:56:25.555923Z",
     "iopub.status.busy": "2023-04-28T16:56:25.555472Z",
     "iopub.status.idle": "2023-04-28T16:56:25.576157Z",
     "shell.execute_reply": "2023-04-28T16:56:25.574302Z",
     "shell.execute_reply.started": "2023-04-28T16:56:25.555888Z"
    }
   },
   "outputs": [],
   "source": [
    "# probs = model.predict_proba(X)\n",
    "# probs.shape"
   ]
  },
  {
   "cell_type": "code",
   "execution_count": null,
   "metadata": {
    "execution": {
     "iopub.execute_input": "2023-04-28T16:56:26.392537Z",
     "iopub.status.busy": "2023-04-28T16:56:26.392126Z",
     "iopub.status.idle": "2023-04-28T16:56:26.403982Z",
     "shell.execute_reply": "2023-04-28T16:56:26.402715Z",
     "shell.execute_reply.started": "2023-04-28T16:56:26.392504Z"
    }
   },
   "outputs": [],
   "source": [
    "# preds = pd.DataFrame(probs[:, 1], columns=['Churn'])\n",
    "# preds.index.names = ['Id']\n",
    "# preds.head()"
   ]
  },
  {
   "cell_type": "code",
   "execution_count": null,
   "metadata": {
    "execution": {
     "iopub.execute_input": "2023-04-28T16:56:28.517052Z",
     "iopub.status.busy": "2023-04-28T16:56:28.516652Z",
     "iopub.status.idle": "2023-04-28T16:56:28.531314Z",
     "shell.execute_reply": "2023-04-28T16:56:28.530089Z",
     "shell.execute_reply.started": "2023-04-28T16:56:28.517018Z"
    }
   },
   "outputs": [],
   "source": [
    "# preds.to_csv('submission.csv')"
   ]
  },
  {
   "cell_type": "code",
   "execution_count": null,
   "metadata": {},
   "outputs": [],
   "source": []
  }
 ],
 "metadata": {
  "kernelspec": {
   "display_name": "Python 3 (ipykernel)",
   "language": "python",
   "name": "python3"
  },
  "language_info": {
   "codemirror_mode": {
    "name": "ipython",
    "version": 3
   },
   "file_extension": ".py",
   "mimetype": "text/x-python",
   "name": "python",
   "nbconvert_exporter": "python",
   "pygments_lexer": "ipython3",
   "version": "3.9.7"
  }
 },
 "nbformat": 4,
 "nbformat_minor": 4
}
