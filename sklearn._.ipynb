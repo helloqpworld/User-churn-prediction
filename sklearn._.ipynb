{
 "cells": [
  {
   "cell_type": "code",
   "execution_count": 1,
   "id": "a8387227",
   "metadata": {},
   "outputs": [],
   "source": [
    "import sklearn"
   ]
  },
  {
   "cell_type": "markdown",
   "id": "f23bc5c2",
   "metadata": {},
   "source": [
    "### Sklearn content : "
   ]
  },
  {
   "cell_type": "raw",
   "id": "e832c8a0",
   "metadata": {},
   "source": [
    "   __check_build (package)\n",
    "    _build_utils (package)\n",
    "    _config\n",
    "    _distributor_init\n",
    "    _isotonic\n",
    "    _loss (package)\n",
    "    _min_dependencies\n",
    "    base\n",
    "    calibration\n",
    "    cluster (package)\n",
    "    compose (package)\n",
    "    conftest\n",
    "    covariance (package)\n",
    "    cross_decomposition (package)\n",
    "    datasets (package)\n",
    "    decomposition (package)\n",
    "    discriminant_analysis\n",
    "    dummy\n",
    "    ensemble (package)\n",
    "    exceptions\n",
    "    experimental (package)\n",
    "    externals (package)\n",
    "    feature_extraction (package)\n",
    "    feature_selection (package)\n",
    "    gaussian_process (package)\n",
    "    impute (package)\n",
    "    inspection (package)\n",
    "    isotonic\n",
    "    kernel_approximation\n",
    "    kernel_ridge\n",
    "   1 linear_model (package)\n",
    "    manifold (package)\n",
    "    metrics (package)\n",
    "    mixture (package)\n",
    "    model_selection (package)\n",
    "    multiclass\n",
    "    multioutput\n",
    "    naive_bayes\n",
    "   1 neighbors (package)\n",
    "    neural_network (package)\n",
    "   1 pipeline\n",
    "   1 preprocessing (package)\n",
    "    random_projection\n",
    "    semi_supervised (package)\n",
    "    setup\n",
    "   1 svm (package)\n",
    "    tests (package)\n",
    "   1 tree (package)\n",
    "    utils (package)"
   ]
  },
  {
   "cell_type": "markdown",
   "id": "73371069",
   "metadata": {},
   "source": [
    "### I Chose from SKLEARN :"
   ]
  },
  {
   "cell_type": "raw",
   "id": "1ab1daa1",
   "metadata": {},
   "source": [
    "linear_model (package)\n",
    "neighbors (package)\n",
    "pipeline\n",
    "preprocessing (package)\n",
    "svm (package)\n",
    "tree (package)"
   ]
  },
  {
   "cell_type": "markdown",
   "id": "c42fe396",
   "metadata": {},
   "source": [
    "### linear_model (package) "
   ]
  },
  {
   "cell_type": "code",
   "execution_count": 2,
   "id": "bf8a9338",
   "metadata": {},
   "outputs": [],
   "source": [
    "from sklearn import linear_model"
   ]
  },
  {
   "cell_type": "code",
   "execution_count": 3,
   "id": "90a88c66",
   "metadata": {},
   "outputs": [
    {
     "name": "stdout",
     "output_type": "stream",
     "text": [
      "__name__\n",
      "__doc__\n",
      "__package__\n",
      "__loader__\n",
      "__spec__\n",
      "__path__\n",
      "__file__\n",
      "__cached__\n",
      "__builtins__\n",
      "_base\n",
      "LinearRegression\n",
      "_bayes\n",
      "BayesianRidge\n",
      "ARDRegression\n",
      "_least_angle\n",
      "Lars\n",
      "LassoLars\n",
      "lars_path\n",
      "lars_path_gram\n",
      "LarsCV\n",
      "LassoLarsCV\n",
      "LassoLarsIC\n",
      "_cd_fast\n",
      "_coordinate_descent\n",
      "Lasso\n",
      "ElasticNet\n",
      "LassoCV\n",
      "ElasticNetCV\n",
      "lasso_path\n",
      "enet_path\n",
      "MultiTaskLasso\n",
      "MultiTaskElasticNet\n",
      "MultiTaskElasticNetCV\n",
      "MultiTaskLassoCV\n",
      "_glm\n",
      "PoissonRegressor\n",
      "GammaRegressor\n",
      "TweedieRegressor\n",
      "_huber\n",
      "HuberRegressor\n",
      "_sgd_fast\n",
      "Hinge\n",
      "Log\n",
      "ModifiedHuber\n",
      "SquaredLoss\n",
      "Huber\n",
      "_stochastic_gradient\n",
      "SGDClassifier\n",
      "SGDRegressor\n",
      "_sag_fast\n",
      "_sag\n",
      "_ridge\n",
      "Ridge\n",
      "RidgeCV\n",
      "RidgeClassifier\n",
      "RidgeClassifierCV\n",
      "ridge_regression\n",
      "_logistic\n",
      "LogisticRegression\n",
      "LogisticRegressionCV\n",
      "_omp\n",
      "orthogonal_mp\n",
      "orthogonal_mp_gram\n",
      "OrthogonalMatchingPursuit\n",
      "OrthogonalMatchingPursuitCV\n",
      "_passive_aggressive\n",
      "PassiveAggressiveClassifier\n",
      "PassiveAggressiveRegressor\n",
      "_perceptron\n",
      "Perceptron\n",
      "_ransac\n",
      "RANSACRegressor\n",
      "_theil_sen\n",
      "TheilSenRegressor\n",
      "__all__\n"
     ]
    }
   ],
   "source": [
    "for i in linear_model.__dir__():\n",
    "    print(i)"
   ]
  },
  {
   "cell_type": "markdown",
   "id": "ac226cc9",
   "metadata": {},
   "source": [
    "### I Chose from LINEAR_REGRESSION :"
   ]
  },
  {
   "cell_type": "raw",
   "id": "e326aa2a",
   "metadata": {},
   "source": [
    "LinearRegression\n",
    "Lasso\n",
    "LassoCV\n",
    "SGDClassifier\n",
    "SGDRegressor\n",
    "Ridge\n",
    "RidgeCV\n",
    "LogisticRegression\n",
    "LogisticRegressionCV\n",
    "Perceptron"
   ]
  },
  {
   "cell_type": "code",
   "execution_count": 4,
   "id": "c8a7521a",
   "metadata": {},
   "outputs": [
    {
     "data": {
      "text/plain": [
       "LinearRegression()"
      ]
     },
     "execution_count": 4,
     "metadata": {},
     "output_type": "execute_result"
    }
   ],
   "source": [
    "linear_model.LinearRegression()"
   ]
  }
 ],
 "metadata": {
  "kernelspec": {
   "display_name": "Python 3 (ipykernel)",
   "language": "python",
   "name": "python3"
  },
  "language_info": {
   "codemirror_mode": {
    "name": "ipython",
    "version": 3
   },
   "file_extension": ".py",
   "mimetype": "text/x-python",
   "name": "python",
   "nbconvert_exporter": "python",
   "pygments_lexer": "ipython3",
   "version": "3.9.7"
  }
 },
 "nbformat": 4,
 "nbformat_minor": 5
}
