{
 "cells": [
  {
   "cell_type": "code",
   "execution_count": 1,
   "id": "7c13c12e",
   "metadata": {},
   "outputs": [],
   "source": [
    "import numpy as np"
   ]
  },
  {
   "cell_type": "code",
   "execution_count": 2,
   "id": "bc7ae56b",
   "metadata": {},
   "outputs": [],
   "source": [
    "import matplotlib.pyplot as plt\n",
    "import seaborn as sns"
   ]
  },
  {
   "cell_type": "code",
   "execution_count": 3,
   "id": "9f169e76",
   "metadata": {},
   "outputs": [],
   "source": [
    "a = np.array([30, 171, 184, 201, 212, 250, 265, 270, 272, 289, 305, 306, 322, 322, 336, 346, 351, 370, 390, \n",
    "              404, 409, 411, 436, 437, 439, 441, 444, 448, 451, 453, 470, 480, 482, 487, 494, 495, 499, 503, \n",
    "              514, 521, 522, 527, 548, 550, 559, 560, 570, 572, 574, 578, 585, 592, 592, 607, 616, 618, 621, \n",
    "              629, 637, 638, 640, 656, 668, 707, 709, 719, 737, 739, 752, 758, 766, 792, 792, 794, 802, 818, \n",
    "              830, 832, 843, 858, 860, 869, 918, 925, 953, 991, 1000, 1005, 1068, 1441])"
   ]
  },
  {
   "cell_type": "code",
   "execution_count": 4,
   "id": "28b949d9",
   "metadata": {},
   "outputs": [
    {
     "name": "stdout",
     "output_type": "stream",
     "text": [
      "shape is - (90,)\n",
      "Min - 30, Max - 1441\n",
      "Mean - 576.0777777777778\n"
     ]
    }
   ],
   "source": [
    "print(f'shape is - {a.shape}')\n",
    "print(f'Min - {a.min()}, Max - {a.max()}')\n",
    "print(f'Mean - {a.mean()}')"
   ]
  },
  {
   "cell_type": "code",
   "execution_count": 5,
   "id": "fed4356e",
   "metadata": {},
   "outputs": [
    {
     "data": {
      "text/plain": [
       "array([  30,  171,  184,  201,  212,  250,  265,  270,  272,  289,  305,\n",
       "        306,  322,  322,  336,  346,  351,  370,  390,  404,  409,  411,\n",
       "        436,  437,  439,  441,  444,  448,  451,  453,  470,  480,  482,\n",
       "        487,  494,  495,  499,  503,  514,  521,  522,  527,  548,  550,\n",
       "        559,  560,  570,  572,  574,  578,  585,  592,  592,  607,  616,\n",
       "        618,  621,  629,  637,  638,  640,  656,  668,  707,  709,  719,\n",
       "        737,  739,  752,  758,  766,  792,  792,  794,  802,  818,  830,\n",
       "        832,  843,  858,  860,  869,  918,  925,  953,  991, 1000, 1005,\n",
       "       1068, 1441])"
      ]
     },
     "execution_count": 5,
     "metadata": {},
     "output_type": "execute_result"
    }
   ],
   "source": [
    "a_sort = np.sort(a)\n",
    "a_sort"
   ]
  },
  {
   "cell_type": "code",
   "execution_count": 6,
   "id": "f4547831",
   "metadata": {},
   "outputs": [
    {
     "name": "stdout",
     "output_type": "stream",
     "text": [
      "559.5\n",
      "436.25\n",
      "738.5\n",
      "Quantile range : 302.25\n"
     ]
    }
   ],
   "source": [
    "print(np.quantile(a_sort, 0.5))\n",
    "print(np.quantile(a_sort, 0.25))\n",
    "print(np.quantile(a_sort, 0.75))\n",
    "print(f'Quantile range : {np.abs(np.quantile(a_sort, 0.25) - np.quantile(a_sort, 0.75))}')"
   ]
  },
  {
   "cell_type": "code",
   "execution_count": 7,
   "id": "cd339c95",
   "metadata": {},
   "outputs": [
    {
     "data": {
      "text/plain": [
       "1191.875"
      ]
     },
     "execution_count": 7,
     "metadata": {},
     "output_type": "execute_result"
    }
   ],
   "source": [
    "738.5 + 1.5 * 302.25"
   ]
  },
  {
   "cell_type": "code",
   "execution_count": 8,
   "id": "0061e984",
   "metadata": {},
   "outputs": [
    {
     "name": "stdout",
     "output_type": "stream",
     "text": [
      "Median - 559.5\n",
      "Low - 436.5\n",
      "Hight - 739.0\n"
     ]
    }
   ],
   "source": [
    "print(f'Median - {(a_sort[44] + a_sort[45]) / 2}')\n",
    "print(f'Low - {(a_sort[22] + a_sort[23]) / 2}')\n",
    "print(f'Hight - {(a_sort[67] + a_sort[67]) / 2}')"
   ]
  },
  {
   "cell_type": "code",
   "execution_count": 9,
   "id": "fa950bc9",
   "metadata": {},
   "outputs": [
    {
     "data": {
      "image/png": "[encoded data removed]",
      "text/plain": [
       "<Figure size 360x639.936 with 1 Axes>"
      ]
     },
     "metadata": {
      "needs_background": "light"
     },
     "output_type": "display_data"
    }
   ],
   "source": [
    "plt.figure(figsize=(5,8.888))\n",
    "plt.scatter(np.arange(90), a_sort)\n",
    "plt.grid(True)\n",
    "plt.show()"
   ]
  },
  {
   "cell_type": "code",
   "execution_count": 10,
   "id": "9746a8dc",
   "metadata": {},
   "outputs": [
    {
     "data": {
      "image/png": "[encoded data removed]",
      "text/plain": [
       "<Figure size 576x576 with 1 Axes>"
      ]
     },
     "metadata": {
      "needs_background": "light"
     },
     "output_type": "display_data"
    }
   ],
   "source": [
    "plt.figure(figsize=(8,8))\n",
    "plt.boxplot(a)\n",
    "plt.grid(True)\n",
    "plt.show()"
   ]
  },
  {
   "cell_type": "code",
   "execution_count": 11,
   "id": "53417c77",
   "metadata": {},
   "outputs": [
    {
     "data": {
      "image/png": "[encoded data removed]",
      "text/plain": [
       "<Figure size 432x288 with 1 Axes>"
      ]
     },
     "metadata": {
      "needs_background": "light"
     },
     "output_type": "display_data"
    }
   ],
   "source": [
    "plt.hist(a, bins=10)\n",
    "plt.grid(True)\n",
    "plt.show()"
   ]
  },
  {
   "cell_type": "code",
   "execution_count": null,
   "id": "75d55b5e",
   "metadata": {},
   "outputs": [],
   "source": []
  }
 ],
 "metadata": {
  "kernelspec": {
   "display_name": "Python 3 (ipykernel)",
   "language": "python",
   "name": "python3"
  },
  "language_info": {
   "codemirror_mode": {
    "name": "ipython",
    "version": 3
   },
   "file_extension": ".py",
   "mimetype": "text/x-python",
   "name": "python",
   "nbconvert_exporter": "python",
   "pygments_lexer": "ipython3",
   "version": "3.9.7"
  }
 },
 "nbformat": 4,
 "nbformat_minor": 5
}
